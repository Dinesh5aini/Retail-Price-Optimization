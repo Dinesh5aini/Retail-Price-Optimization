{
 "cells": [
  {
   "cell_type": "code",
   "execution_count": 1,
   "id": "2f2fed17",
   "metadata": {},
   "outputs": [],
   "source": [
    "import pandas as pd\n",
    "import plotly.express as px\n",
    "import plotly.io as pio\n",
    "import plotly.graph_objects as go\n",
    "pio.templates.default = \"plotly_white\""
   ]
  },
  {
   "cell_type": "code",
   "execution_count": 2,
   "id": "06eee3de",
   "metadata": {},
   "outputs": [
    {
     "data": {
      "text/html": [
       "<div>\n",
       "<style scoped>\n",
       "    .dataframe tbody tr th:only-of-type {\n",
       "        vertical-align: middle;\n",
       "    }\n",
       "\n",
       "    .dataframe tbody tr th {\n",
       "        vertical-align: top;\n",
       "    }\n",
       "\n",
       "    .dataframe thead th {\n",
       "        text-align: right;\n",
       "    }\n",
       "</style>\n",
       "<table border=\"1\" class=\"dataframe\">\n",
       "  <thead>\n",
       "    <tr style=\"text-align: right;\">\n",
       "      <th></th>\n",
       "      <th>product_id</th>\n",
       "      <th>product_category_name</th>\n",
       "      <th>month_year</th>\n",
       "      <th>qty</th>\n",
       "      <th>total_price</th>\n",
       "      <th>freight_price</th>\n",
       "      <th>unit_price</th>\n",
       "      <th>product_name_lenght</th>\n",
       "      <th>product_description_lenght</th>\n",
       "      <th>product_photos_qty</th>\n",
       "      <th>...</th>\n",
       "      <th>comp_1</th>\n",
       "      <th>ps1</th>\n",
       "      <th>fp1</th>\n",
       "      <th>comp_2</th>\n",
       "      <th>ps2</th>\n",
       "      <th>fp2</th>\n",
       "      <th>comp_3</th>\n",
       "      <th>ps3</th>\n",
       "      <th>fp3</th>\n",
       "      <th>lag_price</th>\n",
       "    </tr>\n",
       "  </thead>\n",
       "  <tbody>\n",
       "    <tr>\n",
       "      <th>0</th>\n",
       "      <td>bed1</td>\n",
       "      <td>bed_bath_table</td>\n",
       "      <td>01-05-2017</td>\n",
       "      <td>1</td>\n",
       "      <td>45.95</td>\n",
       "      <td>15.100000</td>\n",
       "      <td>45.95</td>\n",
       "      <td>39</td>\n",
       "      <td>161</td>\n",
       "      <td>2</td>\n",
       "      <td>...</td>\n",
       "      <td>89.9</td>\n",
       "      <td>3.9</td>\n",
       "      <td>15.011897</td>\n",
       "      <td>215.000000</td>\n",
       "      <td>4.4</td>\n",
       "      <td>8.760000</td>\n",
       "      <td>45.95</td>\n",
       "      <td>4.0</td>\n",
       "      <td>15.100000</td>\n",
       "      <td>45.90</td>\n",
       "    </tr>\n",
       "    <tr>\n",
       "      <th>1</th>\n",
       "      <td>bed1</td>\n",
       "      <td>bed_bath_table</td>\n",
       "      <td>01-06-2017</td>\n",
       "      <td>3</td>\n",
       "      <td>137.85</td>\n",
       "      <td>12.933333</td>\n",
       "      <td>45.95</td>\n",
       "      <td>39</td>\n",
       "      <td>161</td>\n",
       "      <td>2</td>\n",
       "      <td>...</td>\n",
       "      <td>89.9</td>\n",
       "      <td>3.9</td>\n",
       "      <td>14.769216</td>\n",
       "      <td>209.000000</td>\n",
       "      <td>4.4</td>\n",
       "      <td>21.322000</td>\n",
       "      <td>45.95</td>\n",
       "      <td>4.0</td>\n",
       "      <td>12.933333</td>\n",
       "      <td>45.95</td>\n",
       "    </tr>\n",
       "    <tr>\n",
       "      <th>2</th>\n",
       "      <td>bed1</td>\n",
       "      <td>bed_bath_table</td>\n",
       "      <td>01-07-2017</td>\n",
       "      <td>6</td>\n",
       "      <td>275.70</td>\n",
       "      <td>14.840000</td>\n",
       "      <td>45.95</td>\n",
       "      <td>39</td>\n",
       "      <td>161</td>\n",
       "      <td>2</td>\n",
       "      <td>...</td>\n",
       "      <td>89.9</td>\n",
       "      <td>3.9</td>\n",
       "      <td>13.993833</td>\n",
       "      <td>205.000000</td>\n",
       "      <td>4.4</td>\n",
       "      <td>22.195932</td>\n",
       "      <td>45.95</td>\n",
       "      <td>4.0</td>\n",
       "      <td>14.840000</td>\n",
       "      <td>45.95</td>\n",
       "    </tr>\n",
       "    <tr>\n",
       "      <th>3</th>\n",
       "      <td>bed1</td>\n",
       "      <td>bed_bath_table</td>\n",
       "      <td>01-08-2017</td>\n",
       "      <td>4</td>\n",
       "      <td>183.80</td>\n",
       "      <td>14.287500</td>\n",
       "      <td>45.95</td>\n",
       "      <td>39</td>\n",
       "      <td>161</td>\n",
       "      <td>2</td>\n",
       "      <td>...</td>\n",
       "      <td>89.9</td>\n",
       "      <td>3.9</td>\n",
       "      <td>14.656757</td>\n",
       "      <td>199.509804</td>\n",
       "      <td>4.4</td>\n",
       "      <td>19.412885</td>\n",
       "      <td>45.95</td>\n",
       "      <td>4.0</td>\n",
       "      <td>14.287500</td>\n",
       "      <td>45.95</td>\n",
       "    </tr>\n",
       "    <tr>\n",
       "      <th>4</th>\n",
       "      <td>bed1</td>\n",
       "      <td>bed_bath_table</td>\n",
       "      <td>01-09-2017</td>\n",
       "      <td>2</td>\n",
       "      <td>91.90</td>\n",
       "      <td>15.100000</td>\n",
       "      <td>45.95</td>\n",
       "      <td>39</td>\n",
       "      <td>161</td>\n",
       "      <td>2</td>\n",
       "      <td>...</td>\n",
       "      <td>89.9</td>\n",
       "      <td>3.9</td>\n",
       "      <td>18.776522</td>\n",
       "      <td>163.398710</td>\n",
       "      <td>4.4</td>\n",
       "      <td>24.324687</td>\n",
       "      <td>45.95</td>\n",
       "      <td>4.0</td>\n",
       "      <td>15.100000</td>\n",
       "      <td>45.95</td>\n",
       "    </tr>\n",
       "  </tbody>\n",
       "</table>\n",
       "<p>5 rows × 30 columns</p>\n",
       "</div>"
      ],
      "text/plain": [
       "  product_id product_category_name  month_year  qty  total_price  \\\n",
       "0       bed1        bed_bath_table  01-05-2017    1        45.95   \n",
       "1       bed1        bed_bath_table  01-06-2017    3       137.85   \n",
       "2       bed1        bed_bath_table  01-07-2017    6       275.70   \n",
       "3       bed1        bed_bath_table  01-08-2017    4       183.80   \n",
       "4       bed1        bed_bath_table  01-09-2017    2        91.90   \n",
       "\n",
       "   freight_price  unit_price  product_name_lenght  product_description_lenght  \\\n",
       "0      15.100000       45.95                   39                         161   \n",
       "1      12.933333       45.95                   39                         161   \n",
       "2      14.840000       45.95                   39                         161   \n",
       "3      14.287500       45.95                   39                         161   \n",
       "4      15.100000       45.95                   39                         161   \n",
       "\n",
       "   product_photos_qty  ...  comp_1  ps1        fp1      comp_2  ps2  \\\n",
       "0                   2  ...    89.9  3.9  15.011897  215.000000  4.4   \n",
       "1                   2  ...    89.9  3.9  14.769216  209.000000  4.4   \n",
       "2                   2  ...    89.9  3.9  13.993833  205.000000  4.4   \n",
       "3                   2  ...    89.9  3.9  14.656757  199.509804  4.4   \n",
       "4                   2  ...    89.9  3.9  18.776522  163.398710  4.4   \n",
       "\n",
       "         fp2  comp_3  ps3        fp3  lag_price  \n",
       "0   8.760000   45.95  4.0  15.100000      45.90  \n",
       "1  21.322000   45.95  4.0  12.933333      45.95  \n",
       "2  22.195932   45.95  4.0  14.840000      45.95  \n",
       "3  19.412885   45.95  4.0  14.287500      45.95  \n",
       "4  24.324687   45.95  4.0  15.100000      45.95  \n",
       "\n",
       "[5 rows x 30 columns]"
      ]
     },
     "execution_count": 2,
     "metadata": {},
     "output_type": "execute_result"
    }
   ],
   "source": [
    "df= pd.read_csv('retail_price.csv')\n",
    "df.head()"
   ]
  },
  {
   "cell_type": "code",
   "execution_count": 3,
   "id": "9e27a487",
   "metadata": {},
   "outputs": [
    {
     "data": {
      "text/plain": [
       "product_id                    0\n",
       "product_category_name         0\n",
       "month_year                    0\n",
       "qty                           0\n",
       "total_price                   0\n",
       "freight_price                 0\n",
       "unit_price                    0\n",
       "product_name_lenght           0\n",
       "product_description_lenght    0\n",
       "product_photos_qty            0\n",
       "product_weight_g              0\n",
       "product_score                 0\n",
       "customers                     0\n",
       "weekday                       0\n",
       "weekend                       0\n",
       "holiday                       0\n",
       "month                         0\n",
       "year                          0\n",
       "s                             0\n",
       "volume                        0\n",
       "comp_1                        0\n",
       "ps1                           0\n",
       "fp1                           0\n",
       "comp_2                        0\n",
       "ps2                           0\n",
       "fp2                           0\n",
       "comp_3                        0\n",
       "ps3                           0\n",
       "fp3                           0\n",
       "lag_price                     0\n",
       "dtype: int64"
      ]
     },
     "execution_count": 3,
     "metadata": {},
     "output_type": "execute_result"
    }
   ],
   "source": [
    "df.isnull().sum()"
   ]
  },
  {
   "cell_type": "code",
   "execution_count": 4,
   "id": "016e1dae",
   "metadata": {},
   "outputs": [
    {
     "name": "stdout",
     "output_type": "stream",
     "text": [
      "<class 'pandas.core.frame.DataFrame'>\n",
      "RangeIndex: 676 entries, 0 to 675\n",
      "Data columns (total 30 columns):\n",
      " #   Column                      Non-Null Count  Dtype  \n",
      "---  ------                      --------------  -----  \n",
      " 0   product_id                  676 non-null    object \n",
      " 1   product_category_name       676 non-null    object \n",
      " 2   month_year                  676 non-null    object \n",
      " 3   qty                         676 non-null    int64  \n",
      " 4   total_price                 676 non-null    float64\n",
      " 5   freight_price               676 non-null    float64\n",
      " 6   unit_price                  676 non-null    float64\n",
      " 7   product_name_lenght         676 non-null    int64  \n",
      " 8   product_description_lenght  676 non-null    int64  \n",
      " 9   product_photos_qty          676 non-null    int64  \n",
      " 10  product_weight_g            676 non-null    int64  \n",
      " 11  product_score               676 non-null    float64\n",
      " 12  customers                   676 non-null    int64  \n",
      " 13  weekday                     676 non-null    int64  \n",
      " 14  weekend                     676 non-null    int64  \n",
      " 15  holiday                     676 non-null    int64  \n",
      " 16  month                       676 non-null    int64  \n",
      " 17  year                        676 non-null    int64  \n",
      " 18  s                           676 non-null    float64\n",
      " 19  volume                      676 non-null    int64  \n",
      " 20  comp_1                      676 non-null    float64\n",
      " 21  ps1                         676 non-null    float64\n",
      " 22  fp1                         676 non-null    float64\n",
      " 23  comp_2                      676 non-null    float64\n",
      " 24  ps2                         676 non-null    float64\n",
      " 25  fp2                         676 non-null    float64\n",
      " 26  comp_3                      676 non-null    float64\n",
      " 27  ps3                         676 non-null    float64\n",
      " 28  fp3                         676 non-null    float64\n",
      " 29  lag_price                   676 non-null    float64\n",
      "dtypes: float64(15), int64(12), object(3)\n",
      "memory usage: 158.6+ KB\n"
     ]
    }
   ],
   "source": [
    "df.info()"
   ]
  },
  {
   "cell_type": "code",
   "execution_count": 5,
   "id": "fdb13e85",
   "metadata": {},
   "outputs": [
    {
     "data": {
      "text/html": [
       "<div>\n",
       "<style scoped>\n",
       "    .dataframe tbody tr th:only-of-type {\n",
       "        vertical-align: middle;\n",
       "    }\n",
       "\n",
       "    .dataframe tbody tr th {\n",
       "        vertical-align: top;\n",
       "    }\n",
       "\n",
       "    .dataframe thead th {\n",
       "        text-align: right;\n",
       "    }\n",
       "</style>\n",
       "<table border=\"1\" class=\"dataframe\">\n",
       "  <thead>\n",
       "    <tr style=\"text-align: right;\">\n",
       "      <th></th>\n",
       "      <th>qty</th>\n",
       "      <th>total_price</th>\n",
       "      <th>freight_price</th>\n",
       "      <th>unit_price</th>\n",
       "      <th>product_name_lenght</th>\n",
       "      <th>product_description_lenght</th>\n",
       "      <th>product_photos_qty</th>\n",
       "      <th>product_weight_g</th>\n",
       "      <th>product_score</th>\n",
       "      <th>customers</th>\n",
       "      <th>...</th>\n",
       "      <th>comp_1</th>\n",
       "      <th>ps1</th>\n",
       "      <th>fp1</th>\n",
       "      <th>comp_2</th>\n",
       "      <th>ps2</th>\n",
       "      <th>fp2</th>\n",
       "      <th>comp_3</th>\n",
       "      <th>ps3</th>\n",
       "      <th>fp3</th>\n",
       "      <th>lag_price</th>\n",
       "    </tr>\n",
       "  </thead>\n",
       "  <tbody>\n",
       "    <tr>\n",
       "      <th>count</th>\n",
       "      <td>676.000000</td>\n",
       "      <td>676.000000</td>\n",
       "      <td>676.000000</td>\n",
       "      <td>676.000000</td>\n",
       "      <td>676.000000</td>\n",
       "      <td>676.000000</td>\n",
       "      <td>676.000000</td>\n",
       "      <td>676.000000</td>\n",
       "      <td>676.000000</td>\n",
       "      <td>676.000000</td>\n",
       "      <td>...</td>\n",
       "      <td>676.000000</td>\n",
       "      <td>676.000000</td>\n",
       "      <td>676.000000</td>\n",
       "      <td>676.000000</td>\n",
       "      <td>676.000000</td>\n",
       "      <td>676.000000</td>\n",
       "      <td>676.000000</td>\n",
       "      <td>676.000000</td>\n",
       "      <td>676.000000</td>\n",
       "      <td>676.000000</td>\n",
       "    </tr>\n",
       "    <tr>\n",
       "      <th>mean</th>\n",
       "      <td>14.495562</td>\n",
       "      <td>1422.708728</td>\n",
       "      <td>20.682270</td>\n",
       "      <td>106.496800</td>\n",
       "      <td>48.720414</td>\n",
       "      <td>767.399408</td>\n",
       "      <td>1.994083</td>\n",
       "      <td>1847.498521</td>\n",
       "      <td>4.085503</td>\n",
       "      <td>81.028107</td>\n",
       "      <td>...</td>\n",
       "      <td>79.452054</td>\n",
       "      <td>4.159467</td>\n",
       "      <td>18.597610</td>\n",
       "      <td>92.930079</td>\n",
       "      <td>4.123521</td>\n",
       "      <td>18.620644</td>\n",
       "      <td>84.182642</td>\n",
       "      <td>4.002071</td>\n",
       "      <td>17.965007</td>\n",
       "      <td>107.399684</td>\n",
       "    </tr>\n",
       "    <tr>\n",
       "      <th>std</th>\n",
       "      <td>15.443421</td>\n",
       "      <td>1700.123100</td>\n",
       "      <td>10.081817</td>\n",
       "      <td>76.182972</td>\n",
       "      <td>9.420715</td>\n",
       "      <td>655.205015</td>\n",
       "      <td>1.420473</td>\n",
       "      <td>2274.808483</td>\n",
       "      <td>0.232021</td>\n",
       "      <td>62.055560</td>\n",
       "      <td>...</td>\n",
       "      <td>47.933358</td>\n",
       "      <td>0.121652</td>\n",
       "      <td>9.406537</td>\n",
       "      <td>49.481269</td>\n",
       "      <td>0.207189</td>\n",
       "      <td>6.424174</td>\n",
       "      <td>47.745789</td>\n",
       "      <td>0.233292</td>\n",
       "      <td>5.533256</td>\n",
       "      <td>76.974657</td>\n",
       "    </tr>\n",
       "    <tr>\n",
       "      <th>min</th>\n",
       "      <td>1.000000</td>\n",
       "      <td>19.900000</td>\n",
       "      <td>0.000000</td>\n",
       "      <td>19.900000</td>\n",
       "      <td>29.000000</td>\n",
       "      <td>100.000000</td>\n",
       "      <td>1.000000</td>\n",
       "      <td>100.000000</td>\n",
       "      <td>3.300000</td>\n",
       "      <td>1.000000</td>\n",
       "      <td>...</td>\n",
       "      <td>19.900000</td>\n",
       "      <td>3.700000</td>\n",
       "      <td>0.095439</td>\n",
       "      <td>19.900000</td>\n",
       "      <td>3.300000</td>\n",
       "      <td>4.410000</td>\n",
       "      <td>19.900000</td>\n",
       "      <td>3.500000</td>\n",
       "      <td>7.670000</td>\n",
       "      <td>19.850000</td>\n",
       "    </tr>\n",
       "    <tr>\n",
       "      <th>25%</th>\n",
       "      <td>4.000000</td>\n",
       "      <td>333.700000</td>\n",
       "      <td>14.761912</td>\n",
       "      <td>53.900000</td>\n",
       "      <td>40.000000</td>\n",
       "      <td>339.000000</td>\n",
       "      <td>1.000000</td>\n",
       "      <td>348.000000</td>\n",
       "      <td>3.900000</td>\n",
       "      <td>34.000000</td>\n",
       "      <td>...</td>\n",
       "      <td>49.910000</td>\n",
       "      <td>4.100000</td>\n",
       "      <td>13.826429</td>\n",
       "      <td>53.900000</td>\n",
       "      <td>4.100000</td>\n",
       "      <td>14.485000</td>\n",
       "      <td>53.785714</td>\n",
       "      <td>3.900000</td>\n",
       "      <td>15.042727</td>\n",
       "      <td>55.668750</td>\n",
       "    </tr>\n",
       "    <tr>\n",
       "      <th>50%</th>\n",
       "      <td>10.000000</td>\n",
       "      <td>807.890000</td>\n",
       "      <td>17.518472</td>\n",
       "      <td>89.900000</td>\n",
       "      <td>51.000000</td>\n",
       "      <td>501.000000</td>\n",
       "      <td>1.500000</td>\n",
       "      <td>950.000000</td>\n",
       "      <td>4.100000</td>\n",
       "      <td>62.000000</td>\n",
       "      <td>...</td>\n",
       "      <td>69.900000</td>\n",
       "      <td>4.200000</td>\n",
       "      <td>16.618984</td>\n",
       "      <td>89.990000</td>\n",
       "      <td>4.200000</td>\n",
       "      <td>16.811765</td>\n",
       "      <td>59.900000</td>\n",
       "      <td>4.000000</td>\n",
       "      <td>16.517110</td>\n",
       "      <td>89.900000</td>\n",
       "    </tr>\n",
       "    <tr>\n",
       "      <th>75%</th>\n",
       "      <td>18.000000</td>\n",
       "      <td>1887.322500</td>\n",
       "      <td>22.713558</td>\n",
       "      <td>129.990000</td>\n",
       "      <td>57.000000</td>\n",
       "      <td>903.000000</td>\n",
       "      <td>2.000000</td>\n",
       "      <td>1850.000000</td>\n",
       "      <td>4.200000</td>\n",
       "      <td>116.000000</td>\n",
       "      <td>...</td>\n",
       "      <td>104.256549</td>\n",
       "      <td>4.200000</td>\n",
       "      <td>19.732500</td>\n",
       "      <td>117.888889</td>\n",
       "      <td>4.200000</td>\n",
       "      <td>21.665238</td>\n",
       "      <td>99.990000</td>\n",
       "      <td>4.100000</td>\n",
       "      <td>19.447778</td>\n",
       "      <td>129.990000</td>\n",
       "    </tr>\n",
       "    <tr>\n",
       "      <th>max</th>\n",
       "      <td>122.000000</td>\n",
       "      <td>12095.000000</td>\n",
       "      <td>79.760000</td>\n",
       "      <td>364.000000</td>\n",
       "      <td>60.000000</td>\n",
       "      <td>3006.000000</td>\n",
       "      <td>8.000000</td>\n",
       "      <td>9750.000000</td>\n",
       "      <td>4.500000</td>\n",
       "      <td>339.000000</td>\n",
       "      <td>...</td>\n",
       "      <td>349.900000</td>\n",
       "      <td>4.500000</td>\n",
       "      <td>57.230000</td>\n",
       "      <td>349.900000</td>\n",
       "      <td>4.400000</td>\n",
       "      <td>57.230000</td>\n",
       "      <td>255.610000</td>\n",
       "      <td>4.400000</td>\n",
       "      <td>57.230000</td>\n",
       "      <td>364.000000</td>\n",
       "    </tr>\n",
       "  </tbody>\n",
       "</table>\n",
       "<p>8 rows × 27 columns</p>\n",
       "</div>"
      ],
      "text/plain": [
       "              qty   total_price  freight_price  unit_price  \\\n",
       "count  676.000000    676.000000     676.000000  676.000000   \n",
       "mean    14.495562   1422.708728      20.682270  106.496800   \n",
       "std     15.443421   1700.123100      10.081817   76.182972   \n",
       "min      1.000000     19.900000       0.000000   19.900000   \n",
       "25%      4.000000    333.700000      14.761912   53.900000   \n",
       "50%     10.000000    807.890000      17.518472   89.900000   \n",
       "75%     18.000000   1887.322500      22.713558  129.990000   \n",
       "max    122.000000  12095.000000      79.760000  364.000000   \n",
       "\n",
       "       product_name_lenght  product_description_lenght  product_photos_qty  \\\n",
       "count           676.000000                  676.000000          676.000000   \n",
       "mean             48.720414                  767.399408            1.994083   \n",
       "std               9.420715                  655.205015            1.420473   \n",
       "min              29.000000                  100.000000            1.000000   \n",
       "25%              40.000000                  339.000000            1.000000   \n",
       "50%              51.000000                  501.000000            1.500000   \n",
       "75%              57.000000                  903.000000            2.000000   \n",
       "max              60.000000                 3006.000000            8.000000   \n",
       "\n",
       "       product_weight_g  product_score   customers  ...      comp_1  \\\n",
       "count        676.000000     676.000000  676.000000  ...  676.000000   \n",
       "mean        1847.498521       4.085503   81.028107  ...   79.452054   \n",
       "std         2274.808483       0.232021   62.055560  ...   47.933358   \n",
       "min          100.000000       3.300000    1.000000  ...   19.900000   \n",
       "25%          348.000000       3.900000   34.000000  ...   49.910000   \n",
       "50%          950.000000       4.100000   62.000000  ...   69.900000   \n",
       "75%         1850.000000       4.200000  116.000000  ...  104.256549   \n",
       "max         9750.000000       4.500000  339.000000  ...  349.900000   \n",
       "\n",
       "              ps1         fp1      comp_2         ps2         fp2      comp_3  \\\n",
       "count  676.000000  676.000000  676.000000  676.000000  676.000000  676.000000   \n",
       "mean     4.159467   18.597610   92.930079    4.123521   18.620644   84.182642   \n",
       "std      0.121652    9.406537   49.481269    0.207189    6.424174   47.745789   \n",
       "min      3.700000    0.095439   19.900000    3.300000    4.410000   19.900000   \n",
       "25%      4.100000   13.826429   53.900000    4.100000   14.485000   53.785714   \n",
       "50%      4.200000   16.618984   89.990000    4.200000   16.811765   59.900000   \n",
       "75%      4.200000   19.732500  117.888889    4.200000   21.665238   99.990000   \n",
       "max      4.500000   57.230000  349.900000    4.400000   57.230000  255.610000   \n",
       "\n",
       "              ps3         fp3   lag_price  \n",
       "count  676.000000  676.000000  676.000000  \n",
       "mean     4.002071   17.965007  107.399684  \n",
       "std      0.233292    5.533256   76.974657  \n",
       "min      3.500000    7.670000   19.850000  \n",
       "25%      3.900000   15.042727   55.668750  \n",
       "50%      4.000000   16.517110   89.900000  \n",
       "75%      4.100000   19.447778  129.990000  \n",
       "max      4.400000   57.230000  364.000000  \n",
       "\n",
       "[8 rows x 27 columns]"
      ]
     },
     "execution_count": 5,
     "metadata": {},
     "output_type": "execute_result"
    }
   ],
   "source": [
    "df.describe()"
   ]
  },
  {
   "cell_type": "code",
   "execution_count": 6,
   "id": "5831fcd1",
   "metadata": {},
   "outputs": [
    {
     "data": {
      "application/vnd.plotly.v1+json": {
       "config": {
        "plotlyServerURL": "https://plot.ly"
       },
       "data": [
        {
         "bingroup": "x",
         "hovertemplate": "total_price=%{x}<br>count=%{y}<extra></extra>",
         "legendgroup": "",
         "marker": {
          "color": "#636efa",
          "pattern": {
           "shape": ""
          }
         },
         "name": "",
         "nbinsx": 50,
         "orientation": "v",
         "showlegend": false,
         "type": "histogram",
         "x": {
          "bdata": "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",
          "dtype": "f8"
         },
         "xaxis": "x",
         "yaxis": "y"
        }
       ],
       "layout": {
        "barmode": "relative",
        "legend": {
         "tracegroupgap": 0
        },
        "template": {
         "data": {
          "bar": [
           {
            "error_x": {
             "color": "#2a3f5f"
            },
            "error_y": {
             "color": "#2a3f5f"
            },
            "marker": {
             "line": {
              "color": "white",
              "width": 0.5
             },
             "pattern": {
              "fillmode": "overlay",
              "size": 10,
              "solidity": 0.2
             }
            },
            "type": "bar"
           }
          ],
          "barpolar": [
           {
            "marker": {
             "line": {
              "color": "white",
              "width": 0.5
             },
             "pattern": {
              "fillmode": "overlay",
              "size": 10,
              "solidity": 0.2
             }
            },
            "type": "barpolar"
           }
          ],
          "carpet": [
           {
            "aaxis": {
             "endlinecolor": "#2a3f5f",
             "gridcolor": "#C8D4E3",
             "linecolor": "#C8D4E3",
             "minorgridcolor": "#C8D4E3",
             "startlinecolor": "#2a3f5f"
            },
            "baxis": {
             "endlinecolor": "#2a3f5f",
             "gridcolor": "#C8D4E3",
             "linecolor": "#C8D4E3",
             "minorgridcolor": "#C8D4E3",
             "startlinecolor": "#2a3f5f"
            },
            "type": "carpet"
           }
          ],
          "choropleth": [
           {
            "colorbar": {
             "outlinewidth": 0,
             "ticks": ""
            },
            "type": "choropleth"
           }
          ],
          "contour": [
           {
            "colorbar": {
             "outlinewidth": 0,
             "ticks": ""
            },
            "colorscale": [
             [
              0,
              "#0d0887"
             ],
             [
              0.1111111111111111,
              "#46039f"
             ],
             [
              0.2222222222222222,
              "#7201a8"
             ],
             [
              0.3333333333333333,
              "#9c179e"
             ],
             [
              0.4444444444444444,
              "#bd3786"
             ],
             [
              0.5555555555555556,
              "#d8576b"
             ],
             [
              0.6666666666666666,
              "#ed7953"
             ],
             [
              0.7777777777777778,
              "#fb9f3a"
             ],
             [
              0.8888888888888888,
              "#fdca26"
             ],
             [
              1,
              "#f0f921"
             ]
            ],
            "type": "contour"
           }
          ],
          "contourcarpet": [
           {
            "colorbar": {
             "outlinewidth": 0,
             "ticks": ""
            },
            "type": "contourcarpet"
           }
          ],
          "heatmap": [
           {
            "colorbar": {
             "outlinewidth": 0,
             "ticks": ""
            },
            "colorscale": [
             [
              0,
              "#0d0887"
             ],
             [
              0.1111111111111111,
              "#46039f"
             ],
             [
              0.2222222222222222,
              "#7201a8"
             ],
             [
              0.3333333333333333,
              "#9c179e"
             ],
             [
              0.4444444444444444,
              "#bd3786"
             ],
             [
              0.5555555555555556,
              "#d8576b"
             ],
             [
              0.6666666666666666,
              "#ed7953"
             ],
             [
              0.7777777777777778,
              "#fb9f3a"
             ],
             [
              0.8888888888888888,
              "#fdca26"
             ],
             [
              1,
              "#f0f921"
             ]
            ],
            "type": "heatmap"
           }
          ],
          "histogram": [
           {
            "marker": {
             "pattern": {
              "fillmode": "overlay",
              "size": 10,
              "solidity": 0.2
             }
            },
            "type": "histogram"
           }
          ],
          "histogram2d": [
           {
            "colorbar": {
             "outlinewidth": 0,
             "ticks": ""
            },
            "colorscale": [
             [
              0,
              "#0d0887"
             ],
             [
              0.1111111111111111,
              "#46039f"
             ],
             [
              0.2222222222222222,
              "#7201a8"
             ],
             [
              0.3333333333333333,
              "#9c179e"
             ],
             [
              0.4444444444444444,
              "#bd3786"
             ],
             [
              0.5555555555555556,
              "#d8576b"
             ],
             [
              0.6666666666666666,
              "#ed7953"
             ],
             [
              0.7777777777777778,
              "#fb9f3a"
             ],
             [
              0.8888888888888888,
              "#fdca26"
             ],
             [
              1,
              "#f0f921"
             ]
            ],
            "type": "histogram2d"
           }
          ],
          "histogram2dcontour": [
           {
            "colorbar": {
             "outlinewidth": 0,
             "ticks": ""
            },
            "colorscale": [
             [
              0,
              "#0d0887"
             ],
             [
              0.1111111111111111,
              "#46039f"
             ],
             [
              0.2222222222222222,
              "#7201a8"
             ],
             [
              0.3333333333333333,
              "#9c179e"
             ],
             [
              0.4444444444444444,
              "#bd3786"
             ],
             [
              0.5555555555555556,
              "#d8576b"
             ],
             [
              0.6666666666666666,
              "#ed7953"
             ],
             [
              0.7777777777777778,
              "#fb9f3a"
             ],
             [
              0.8888888888888888,
              "#fdca26"
             ],
             [
              1,
              "#f0f921"
             ]
            ],
            "type": "histogram2dcontour"
           }
          ],
          "mesh3d": [
           {
            "colorbar": {
             "outlinewidth": 0,
             "ticks": ""
            },
            "type": "mesh3d"
           }
          ],
          "parcoords": [
           {
            "line": {
             "colorbar": {
              "outlinewidth": 0,
              "ticks": ""
             }
            },
            "type": "parcoords"
           }
          ],
          "pie": [
           {
            "automargin": true,
            "type": "pie"
           }
          ],
          "scatter": [
           {
            "fillpattern": {
             "fillmode": "overlay",
             "size": 10,
             "solidity": 0.2
            },
            "type": "scatter"
           }
          ],
          "scatter3d": [
           {
            "line": {
             "colorbar": {
              "outlinewidth": 0,
              "ticks": ""
             }
            },
            "marker": {
             "colorbar": {
              "outlinewidth": 0,
              "ticks": ""
             }
            },
            "type": "scatter3d"
           }
          ],
          "scattercarpet": [
           {
            "marker": {
             "colorbar": {
              "outlinewidth": 0,
              "ticks": ""
             }
            },
            "type": "scattercarpet"
           }
          ],
          "scattergeo": [
           {
            "marker": {
             "colorbar": {
              "outlinewidth": 0,
              "ticks": ""
             }
            },
            "type": "scattergeo"
           }
          ],
          "scattergl": [
           {
            "marker": {
             "colorbar": {
              "outlinewidth": 0,
              "ticks": ""
             }
            },
            "type": "scattergl"
           }
          ],
          "scattermap": [
           {
            "marker": {
             "colorbar": {
              "outlinewidth": 0,
              "ticks": ""
             }
            },
            "type": "scattermap"
           }
          ],
          "scattermapbox": [
           {
            "marker": {
             "colorbar": {
              "outlinewidth": 0,
              "ticks": ""
             }
            },
            "type": "scattermapbox"
           }
          ],
          "scatterpolar": [
           {
            "marker": {
             "colorbar": {
              "outlinewidth": 0,
              "ticks": ""
             }
            },
            "type": "scatterpolar"
           }
          ],
          "scatterpolargl": [
           {
            "marker": {
             "colorbar": {
              "outlinewidth": 0,
              "ticks": ""
             }
            },
            "type": "scatterpolargl"
           }
          ],
          "scatterternary": [
           {
            "marker": {
             "colorbar": {
              "outlinewidth": 0,
              "ticks": ""
             }
            },
            "type": "scatterternary"
           }
          ],
          "surface": [
           {
            "colorbar": {
             "outlinewidth": 0,
             "ticks": ""
            },
            "colorscale": [
             [
              0,
              "#0d0887"
             ],
             [
              0.1111111111111111,
              "#46039f"
             ],
             [
              0.2222222222222222,
              "#7201a8"
             ],
             [
              0.3333333333333333,
              "#9c179e"
             ],
             [
              0.4444444444444444,
              "#bd3786"
             ],
             [
              0.5555555555555556,
              "#d8576b"
             ],
             [
              0.6666666666666666,
              "#ed7953"
             ],
             [
              0.7777777777777778,
              "#fb9f3a"
             ],
             [
              0.8888888888888888,
              "#fdca26"
             ],
             [
              1,
              "#f0f921"
             ]
            ],
            "type": "surface"
           }
          ],
          "table": [
           {
            "cells": {
             "fill": {
              "color": "#EBF0F8"
             },
             "line": {
              "color": "white"
             }
            },
            "header": {
             "fill": {
              "color": "#C8D4E3"
             },
             "line": {
              "color": "white"
             }
            },
            "type": "table"
           }
          ]
         },
         "layout": {
          "annotationdefaults": {
           "arrowcolor": "#2a3f5f",
           "arrowhead": 0,
           "arrowwidth": 1
          },
          "autotypenumbers": "strict",
          "coloraxis": {
           "colorbar": {
            "outlinewidth": 0,
            "ticks": ""
           }
          },
          "colorscale": {
           "diverging": [
            [
             0,
             "#8e0152"
            ],
            [
             0.1,
             "#c51b7d"
            ],
            [
             0.2,
             "#de77ae"
            ],
            [
             0.3,
             "#f1b6da"
            ],
            [
             0.4,
             "#fde0ef"
            ],
            [
             0.5,
             "#f7f7f7"
            ],
            [
             0.6,
             "#e6f5d0"
            ],
            [
             0.7,
             "#b8e186"
            ],
            [
             0.8,
             "#7fbc41"
            ],
            [
             0.9,
             "#4d9221"
            ],
            [
             1,
             "#276419"
            ]
           ],
           "sequential": [
            [
             0,
             "#0d0887"
            ],
            [
             0.1111111111111111,
             "#46039f"
            ],
            [
             0.2222222222222222,
             "#7201a8"
            ],
            [
             0.3333333333333333,
             "#9c179e"
            ],
            [
             0.4444444444444444,
             "#bd3786"
            ],
            [
             0.5555555555555556,
             "#d8576b"
            ],
            [
             0.6666666666666666,
             "#ed7953"
            ],
            [
             0.7777777777777778,
             "#fb9f3a"
            ],
            [
             0.8888888888888888,
             "#fdca26"
            ],
            [
             1,
             "#f0f921"
            ]
           ],
           "sequentialminus": [
            [
             0,
             "#0d0887"
            ],
            [
             0.1111111111111111,
             "#46039f"
            ],
            [
             0.2222222222222222,
             "#7201a8"
            ],
            [
             0.3333333333333333,
             "#9c179e"
            ],
            [
             0.4444444444444444,
             "#bd3786"
            ],
            [
             0.5555555555555556,
             "#d8576b"
            ],
            [
             0.6666666666666666,
             "#ed7953"
            ],
            [
             0.7777777777777778,
             "#fb9f3a"
            ],
            [
             0.8888888888888888,
             "#fdca26"
            ],
            [
             1,
             "#f0f921"
            ]
           ]
          },
          "colorway": [
           "#636efa",
           "#EF553B",
           "#00cc96",
           "#ab63fa",
           "#FFA15A",
           "#19d3f3",
           "#FF6692",
           "#B6E880",
           "#FF97FF",
           "#FECB52"
          ],
          "font": {
           "color": "#2a3f5f"
          },
          "geo": {
           "bgcolor": "white",
           "lakecolor": "white",
           "landcolor": "white",
           "showlakes": true,
           "showland": true,
           "subunitcolor": "#C8D4E3"
          },
          "hoverlabel": {
           "align": "left"
          },
          "hovermode": "closest",
          "mapbox": {
           "style": "light"
          },
          "paper_bgcolor": "white",
          "plot_bgcolor": "white",
          "polar": {
           "angularaxis": {
            "gridcolor": "#EBF0F8",
            "linecolor": "#EBF0F8",
            "ticks": ""
           },
           "bgcolor": "white",
           "radialaxis": {
            "gridcolor": "#EBF0F8",
            "linecolor": "#EBF0F8",
            "ticks": ""
           }
          },
          "scene": {
           "xaxis": {
            "backgroundcolor": "white",
            "gridcolor": "#DFE8F3",
            "gridwidth": 2,
            "linecolor": "#EBF0F8",
            "showbackground": true,
            "ticks": "",
            "zerolinecolor": "#EBF0F8"
           },
           "yaxis": {
            "backgroundcolor": "white",
            "gridcolor": "#DFE8F3",
            "gridwidth": 2,
            "linecolor": "#EBF0F8",
            "showbackground": true,
            "ticks": "",
            "zerolinecolor": "#EBF0F8"
           },
           "zaxis": {
            "backgroundcolor": "white",
            "gridcolor": "#DFE8F3",
            "gridwidth": 2,
            "linecolor": "#EBF0F8",
            "showbackground": true,
            "ticks": "",
            "zerolinecolor": "#EBF0F8"
           }
          },
          "shapedefaults": {
           "line": {
            "color": "#2a3f5f"
           }
          },
          "ternary": {
           "aaxis": {
            "gridcolor": "#DFE8F3",
            "linecolor": "#A2B1C6",
            "ticks": ""
           },
           "baxis": {
            "gridcolor": "#DFE8F3",
            "linecolor": "#A2B1C6",
            "ticks": ""
           },
           "bgcolor": "white",
           "caxis": {
            "gridcolor": "#DFE8F3",
            "linecolor": "#A2B1C6",
            "ticks": ""
           }
          },
          "title": {
           "x": 0.05
          },
          "xaxis": {
           "automargin": true,
           "gridcolor": "#EBF0F8",
           "linecolor": "#EBF0F8",
           "ticks": "",
           "title": {
            "standoff": 15
           },
           "zerolinecolor": "#EBF0F8",
           "zerolinewidth": 2
          },
          "yaxis": {
           "automargin": true,
           "gridcolor": "#EBF0F8",
           "linecolor": "#EBF0F8",
           "ticks": "",
           "title": {
            "standoff": 15
           },
           "zerolinecolor": "#EBF0F8",
           "zerolinewidth": 2
          }
         }
        },
        "title": {
         "text": "Distribution of Retail Prices"
        },
        "xaxis": {
         "anchor": "y",
         "domain": [
          0,
          1
         ],
         "title": {
          "text": "total_price"
         }
        },
        "yaxis": {
         "anchor": "x",
         "domain": [
          0,
          1
         ],
         "title": {
          "text": "count"
         }
        }
       }
      }
     },
     "metadata": {},
     "output_type": "display_data"
    }
   ],
   "source": [
    "fig = px.histogram(df, x='total_price', nbins=50, title='Distribution of Retail Prices')\n",
    "fig.show()"
   ]
  },
  {
   "cell_type": "code",
   "execution_count": 7,
   "id": "f5514ea1",
   "metadata": {},
   "outputs": [
    {
     "data": {
      "application/vnd.plotly.v1+json": {
       "config": {
        "plotlyServerURL": "https://plot.ly"
       },
       "data": [
        {
         "alignmentgroup": "True",
         "hovertemplate": "unit_price=%{y}<extra></extra>",
         "legendgroup": "",
         "marker": {
          "color": "#636efa"
         },
         "name": "",
         "notched": false,
         "offsetgroup": "",
         "orientation": "v",
         "showlegend": false,
         "type": "box",
         "x0": " ",
         "xaxis": "x",
         "y": {
          "bdata": "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",
          "dtype": "f8"
         },
         "y0": " ",
         "yaxis": "y"
        }
       ],
       "layout": {
        "boxmode": "group",
        "legend": {
         "tracegroupgap": 0
        },
        "template": {
         "data": {
          "bar": [
           {
            "error_x": {
             "color": "#2a3f5f"
            },
            "error_y": {
             "color": "#2a3f5f"
            },
            "marker": {
             "line": {
              "color": "white",
              "width": 0.5
             },
             "pattern": {
              "fillmode": "overlay",
              "size": 10,
              "solidity": 0.2
             }
            },
            "type": "bar"
           }
          ],
          "barpolar": [
           {
            "marker": {
             "line": {
              "color": "white",
              "width": 0.5
             },
             "pattern": {
              "fillmode": "overlay",
              "size": 10,
              "solidity": 0.2
             }
            },
            "type": "barpolar"
           }
          ],
          "carpet": [
           {
            "aaxis": {
             "endlinecolor": "#2a3f5f",
             "gridcolor": "#C8D4E3",
             "linecolor": "#C8D4E3",
             "minorgridcolor": "#C8D4E3",
             "startlinecolor": "#2a3f5f"
            },
            "baxis": {
             "endlinecolor": "#2a3f5f",
             "gridcolor": "#C8D4E3",
             "linecolor": "#C8D4E3",
             "minorgridcolor": "#C8D4E3",
             "startlinecolor": "#2a3f5f"
            },
            "type": "carpet"
           }
          ],
          "choropleth": [
           {
            "colorbar": {
             "outlinewidth": 0,
             "ticks": ""
            },
            "type": "choropleth"
           }
          ],
          "contour": [
           {
            "colorbar": {
             "outlinewidth": 0,
             "ticks": ""
            },
            "colorscale": [
             [
              0,
              "#0d0887"
             ],
             [
              0.1111111111111111,
              "#46039f"
             ],
             [
              0.2222222222222222,
              "#7201a8"
             ],
             [
              0.3333333333333333,
              "#9c179e"
             ],
             [
              0.4444444444444444,
              "#bd3786"
             ],
             [
              0.5555555555555556,
              "#d8576b"
             ],
             [
              0.6666666666666666,
              "#ed7953"
             ],
             [
              0.7777777777777778,
              "#fb9f3a"
             ],
             [
              0.8888888888888888,
              "#fdca26"
             ],
             [
              1,
              "#f0f921"
             ]
            ],
            "type": "contour"
           }
          ],
          "contourcarpet": [
           {
            "colorbar": {
             "outlinewidth": 0,
             "ticks": ""
            },
            "type": "contourcarpet"
           }
          ],
          "heatmap": [
           {
            "colorbar": {
             "outlinewidth": 0,
             "ticks": ""
            },
            "colorscale": [
             [
              0,
              "#0d0887"
             ],
             [
              0.1111111111111111,
              "#46039f"
             ],
             [
              0.2222222222222222,
              "#7201a8"
             ],
             [
              0.3333333333333333,
              "#9c179e"
             ],
             [
              0.4444444444444444,
              "#bd3786"
             ],
             [
              0.5555555555555556,
              "#d8576b"
             ],
             [
              0.6666666666666666,
              "#ed7953"
             ],
             [
              0.7777777777777778,
              "#fb9f3a"
             ],
             [
              0.8888888888888888,
              "#fdca26"
             ],
             [
              1,
              "#f0f921"
             ]
            ],
            "type": "heatmap"
           }
          ],
          "histogram": [
           {
            "marker": {
             "pattern": {
              "fillmode": "overlay",
              "size": 10,
              "solidity": 0.2
             }
            },
            "type": "histogram"
           }
          ],
          "histogram2d": [
           {
            "colorbar": {
             "outlinewidth": 0,
             "ticks": ""
            },
            "colorscale": [
             [
              0,
              "#0d0887"
             ],
             [
              0.1111111111111111,
              "#46039f"
             ],
             [
              0.2222222222222222,
              "#7201a8"
             ],
             [
              0.3333333333333333,
              "#9c179e"
             ],
             [
              0.4444444444444444,
              "#bd3786"
             ],
             [
              0.5555555555555556,
              "#d8576b"
             ],
             [
              0.6666666666666666,
              "#ed7953"
             ],
             [
              0.7777777777777778,
              "#fb9f3a"
             ],
             [
              0.8888888888888888,
              "#fdca26"
             ],
             [
              1,
              "#f0f921"
             ]
            ],
            "type": "histogram2d"
           }
          ],
          "histogram2dcontour": [
           {
            "colorbar": {
             "outlinewidth": 0,
             "ticks": ""
            },
            "colorscale": [
             [
              0,
              "#0d0887"
             ],
             [
              0.1111111111111111,
              "#46039f"
             ],
             [
              0.2222222222222222,
              "#7201a8"
             ],
             [
              0.3333333333333333,
              "#9c179e"
             ],
             [
              0.4444444444444444,
              "#bd3786"
             ],
             [
              0.5555555555555556,
              "#d8576b"
             ],
             [
              0.6666666666666666,
              "#ed7953"
             ],
             [
              0.7777777777777778,
              "#fb9f3a"
             ],
             [
              0.8888888888888888,
              "#fdca26"
             ],
             [
              1,
              "#f0f921"
             ]
            ],
            "type": "histogram2dcontour"
           }
          ],
          "mesh3d": [
           {
            "colorbar": {
             "outlinewidth": 0,
             "ticks": ""
            },
            "type": "mesh3d"
           }
          ],
          "parcoords": [
           {
            "line": {
             "colorbar": {
              "outlinewidth": 0,
              "ticks": ""
             }
            },
            "type": "parcoords"
           }
          ],
          "pie": [
           {
            "automargin": true,
            "type": "pie"
           }
          ],
          "scatter": [
           {
            "fillpattern": {
             "fillmode": "overlay",
             "size": 10,
             "solidity": 0.2
            },
            "type": "scatter"
           }
          ],
          "scatter3d": [
           {
            "line": {
             "colorbar": {
              "outlinewidth": 0,
              "ticks": ""
             }
            },
            "marker": {
             "colorbar": {
              "outlinewidth": 0,
              "ticks": ""
             }
            },
            "type": "scatter3d"
           }
          ],
          "scattercarpet": [
           {
            "marker": {
             "colorbar": {
              "outlinewidth": 0,
              "ticks": ""
             }
            },
            "type": "scattercarpet"
           }
          ],
          "scattergeo": [
           {
            "marker": {
             "colorbar": {
              "outlinewidth": 0,
              "ticks": ""
             }
            },
            "type": "scattergeo"
           }
          ],
          "scattergl": [
           {
            "marker": {
             "colorbar": {
              "outlinewidth": 0,
              "ticks": ""
             }
            },
            "type": "scattergl"
           }
          ],
          "scattermap": [
           {
            "marker": {
             "colorbar": {
              "outlinewidth": 0,
              "ticks": ""
             }
            },
            "type": "scattermap"
           }
          ],
          "scattermapbox": [
           {
            "marker": {
             "colorbar": {
              "outlinewidth": 0,
              "ticks": ""
             }
            },
            "type": "scattermapbox"
           }
          ],
          "scatterpolar": [
           {
            "marker": {
             "colorbar": {
              "outlinewidth": 0,
              "ticks": ""
             }
            },
            "type": "scatterpolar"
           }
          ],
          "scatterpolargl": [
           {
            "marker": {
             "colorbar": {
              "outlinewidth": 0,
              "ticks": ""
             }
            },
            "type": "scatterpolargl"
           }
          ],
          "scatterternary": [
           {
            "marker": {
             "colorbar": {
              "outlinewidth": 0,
              "ticks": ""
             }
            },
            "type": "scatterternary"
           }
          ],
          "surface": [
           {
            "colorbar": {
             "outlinewidth": 0,
             "ticks": ""
            },
            "colorscale": [
             [
              0,
              "#0d0887"
             ],
             [
              0.1111111111111111,
              "#46039f"
             ],
             [
              0.2222222222222222,
              "#7201a8"
             ],
             [
              0.3333333333333333,
              "#9c179e"
             ],
             [
              0.4444444444444444,
              "#bd3786"
             ],
             [
              0.5555555555555556,
              "#d8576b"
             ],
             [
              0.6666666666666666,
              "#ed7953"
             ],
             [
              0.7777777777777778,
              "#fb9f3a"
             ],
             [
              0.8888888888888888,
              "#fdca26"
             ],
             [
              1,
              "#f0f921"
             ]
            ],
            "type": "surface"
           }
          ],
          "table": [
           {
            "cells": {
             "fill": {
              "color": "#EBF0F8"
             },
             "line": {
              "color": "white"
             }
            },
            "header": {
             "fill": {
              "color": "#C8D4E3"
             },
             "line": {
              "color": "white"
             }
            },
            "type": "table"
           }
          ]
         },
         "layout": {
          "annotationdefaults": {
           "arrowcolor": "#2a3f5f",
           "arrowhead": 0,
           "arrowwidth": 1
          },
          "autotypenumbers": "strict",
          "coloraxis": {
           "colorbar": {
            "outlinewidth": 0,
            "ticks": ""
           }
          },
          "colorscale": {
           "diverging": [
            [
             0,
             "#8e0152"
            ],
            [
             0.1,
             "#c51b7d"
            ],
            [
             0.2,
             "#de77ae"
            ],
            [
             0.3,
             "#f1b6da"
            ],
            [
             0.4,
             "#fde0ef"
            ],
            [
             0.5,
             "#f7f7f7"
            ],
            [
             0.6,
             "#e6f5d0"
            ],
            [
             0.7,
             "#b8e186"
            ],
            [
             0.8,
             "#7fbc41"
            ],
            [
             0.9,
             "#4d9221"
            ],
            [
             1,
             "#276419"
            ]
           ],
           "sequential": [
            [
             0,
             "#0d0887"
            ],
            [
             0.1111111111111111,
             "#46039f"
            ],
            [
             0.2222222222222222,
             "#7201a8"
            ],
            [
             0.3333333333333333,
             "#9c179e"
            ],
            [
             0.4444444444444444,
             "#bd3786"
            ],
            [
             0.5555555555555556,
             "#d8576b"
            ],
            [
             0.6666666666666666,
             "#ed7953"
            ],
            [
             0.7777777777777778,
             "#fb9f3a"
            ],
            [
             0.8888888888888888,
             "#fdca26"
            ],
            [
             1,
             "#f0f921"
            ]
           ],
           "sequentialminus": [
            [
             0,
             "#0d0887"
            ],
            [
             0.1111111111111111,
             "#46039f"
            ],
            [
             0.2222222222222222,
             "#7201a8"
            ],
            [
             0.3333333333333333,
             "#9c179e"
            ],
            [
             0.4444444444444444,
             "#bd3786"
            ],
            [
             0.5555555555555556,
             "#d8576b"
            ],
            [
             0.6666666666666666,
             "#ed7953"
            ],
            [
             0.7777777777777778,
             "#fb9f3a"
            ],
            [
             0.8888888888888888,
             "#fdca26"
            ],
            [
             1,
             "#f0f921"
            ]
           ]
          },
          "colorway": [
           "#636efa",
           "#EF553B",
           "#00cc96",
           "#ab63fa",
           "#FFA15A",
           "#19d3f3",
           "#FF6692",
           "#B6E880",
           "#FF97FF",
           "#FECB52"
          ],
          "font": {
           "color": "#2a3f5f"
          },
          "geo": {
           "bgcolor": "white",
           "lakecolor": "white",
           "landcolor": "white",
           "showlakes": true,
           "showland": true,
           "subunitcolor": "#C8D4E3"
          },
          "hoverlabel": {
           "align": "left"
          },
          "hovermode": "closest",
          "mapbox": {
           "style": "light"
          },
          "paper_bgcolor": "white",
          "plot_bgcolor": "white",
          "polar": {
           "angularaxis": {
            "gridcolor": "#EBF0F8",
            "linecolor": "#EBF0F8",
            "ticks": ""
           },
           "bgcolor": "white",
           "radialaxis": {
            "gridcolor": "#EBF0F8",
            "linecolor": "#EBF0F8",
            "ticks": ""
           }
          },
          "scene": {
           "xaxis": {
            "backgroundcolor": "white",
            "gridcolor": "#DFE8F3",
            "gridwidth": 2,
            "linecolor": "#EBF0F8",
            "showbackground": true,
            "ticks": "",
            "zerolinecolor": "#EBF0F8"
           },
           "yaxis": {
            "backgroundcolor": "white",
            "gridcolor": "#DFE8F3",
            "gridwidth": 2,
            "linecolor": "#EBF0F8",
            "showbackground": true,
            "ticks": "",
            "zerolinecolor": "#EBF0F8"
           },
           "zaxis": {
            "backgroundcolor": "white",
            "gridcolor": "#DFE8F3",
            "gridwidth": 2,
            "linecolor": "#EBF0F8",
            "showbackground": true,
            "ticks": "",
            "zerolinecolor": "#EBF0F8"
           }
          },
          "shapedefaults": {
           "line": {
            "color": "#2a3f5f"
           }
          },
          "ternary": {
           "aaxis": {
            "gridcolor": "#DFE8F3",
            "linecolor": "#A2B1C6",
            "ticks": ""
           },
           "baxis": {
            "gridcolor": "#DFE8F3",
            "linecolor": "#A2B1C6",
            "ticks": ""
           },
           "bgcolor": "white",
           "caxis": {
            "gridcolor": "#DFE8F3",
            "linecolor": "#A2B1C6",
            "ticks": ""
           }
          },
          "title": {
           "x": 0.05
          },
          "xaxis": {
           "automargin": true,
           "gridcolor": "#EBF0F8",
           "linecolor": "#EBF0F8",
           "ticks": "",
           "title": {
            "standoff": 15
           },
           "zerolinecolor": "#EBF0F8",
           "zerolinewidth": 2
          },
          "yaxis": {
           "automargin": true,
           "gridcolor": "#EBF0F8",
           "linecolor": "#EBF0F8",
           "ticks": "",
           "title": {
            "standoff": 15
           },
           "zerolinecolor": "#EBF0F8",
           "zerolinewidth": 2
          }
         }
        },
        "title": {
         "text": "Box Plot of Unit Prices"
        },
        "xaxis": {
         "anchor": "y",
         "domain": [
          0,
          1
         ]
        },
        "yaxis": {
         "anchor": "x",
         "domain": [
          0,
          1
         ],
         "title": {
          "text": "unit_price"
         }
        }
       }
      }
     },
     "metadata": {},
     "output_type": "display_data"
    }
   ],
   "source": [
    "fig = px.box(df, y='unit_price', title='Box Plot of Unit Prices')\n",
    "fig.show()"
   ]
  },
  {
   "cell_type": "code",
   "execution_count": 9,
   "id": "746c42dc",
   "metadata": {},
   "outputs": [
    {
     "data": {
      "application/vnd.plotly.v1+json": {
       "config": {
        "plotlyServerURL": "https://plot.ly"
       },
       "data": [
        {
         "hovertemplate": "total_price=%{x}<br>qty=%{y}<extra></extra>",
         "legendgroup": "",
         "marker": {
          "color": "#636efa",
          "symbol": "circle"
         },
         "mode": "markers",
         "name": "",
         "orientation": "v",
         "showlegend": false,
         "type": "scatter",
         "x": {
          "bdata": "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",
          "dtype": "f8"
         },
         "xaxis": "x",
         "y": {
          "bdata": "AQMGBAIDCwYTEhENEwUICAYDFAgKBwkOEQsEAgEBDRgJHBwQBQYHAwIBAQEEBgULFAoLCAMICQUGBwsJDRAVHRwYGxwTEw4IBwMDAgEBDBsdDQgLBgECCQ0XKyEgBAcHEREUGAoEDgIIBAISCw4IBgkCAwYJBQQGBgkREhUYGhMUERAOEA0KBw0XDSRFLCcwGhwZDwMGAQI5LQYKAwMDAxMbER9XIB0kIw0dBg4KFkUzIzQbDQUDDQ8mGhscBAEOJyUnWzMMJx8uOAwGBhU6EiEJBQsFBgUKEBoGCA4JChYBBQMDBAMkMg0HBAIBAwIGDQ8ODA0LAwoIBwMHBBMVFxNSKBksGRQRCAkHBAsNEgEPBAYfVXIJCwEBTBoEBAIBAQECCAwGCwQIEQ4FEQgOEhEQEAoJAwQCAQEEBgoCBAQGAR8eDQUEEgEBCwkMFxEKAQcGCAQCAQQCAQcHCgsHDA8RBwoLCwkCAgILEBoeAw4LAQMNDQwNDQoOCQgKCAwcChUQDREBBQkJEBUPFhkTGAkGDgoLBAYCAwgWBwsNAwkODgkBAQsIAgICBAwVDgwOBgcICgUCAhYiOjM8JRcOKBIRFhEGGhcKBwEGCCIEDwQOBAQCAQ0NLCEVFSUcCAcBAwEFAwIGCQEBEAUnKBwFDQUsL3osQVNcAgIDBQIFDxMiDQkBAQQCAgQFAwMBCAwZHAIJERELDQoQBgsCDAYKFxwVExANHAEFBAYBAgcRHBsLBwYFAgYHBgcOERYOCw4DAgQDAwECAwMDBQMGBwsREhcrHyw4GRsJCgIBCgkLAQUGBhcELQ8PBA0MEBICBQMBBgYPEAsWFgcSDQUDBQoPFAQSBQIGIAkgDwILAQwdRxsNCwoHAh0gDBMQCAcCBAIBCjs0IA==",
          "dtype": "i1"
         },
         "yaxis": "y"
        },
        {
         "hovertemplate": "<b>OLS trendline</b><br>qty = 0.00680919 * total_price + 4.80806<br>R<sup>2</sup>=0.561908<br><br>total_price=%{x}<br>qty=%{y} <b>(trend)</b><extra></extra>",
         "legendgroup": "",
         "marker": {
          "color": "#636efa",
          "symbol": "circle"
         },
         "mode": "lines",
         "name": "",
         "showlegend": false,
         "type": "scatter",
         "x": {
          "bdata": "ZmZmZmbmM0AAAAAAAIA9QGZmZmZm5j1AAAAAAABAQEAAAAAAAIBBQJqZmZmZGUJAMzMzMzMzQ0AzMzMzMzNDQJqZmZmZ+UZAPQrXo3D9R0AzMzMzM/NIQDMzMzMz80hAMzMzMzPzTUAzMzMzM/NNQDMzMzMz801Aj8L1KFw/UEAAAAAAAEBQQAAAAAAAgFFArkfhehT+UUCuR+F6FP5RQJqZmZmZGVJAMzMzMzMzU0AAAAAAAIBTQAAAAAAAgFNAAAAAAACAU0AAAAAAAIBTQJqZmZmZ+VNAmpmZmZk5VUCamZmZmflWQDMzMzMz81dAMzMzMzPzV0CamZmZmblYQJqZmZmZ+VhAH4XrUbj+WECPwvUoXP9YQI/C9Shc/1hAj8L1KFz/WEAAAAAAAEBZQAAAAAAAQFlAMzMzMzPzWkAzMzMzM/NaQGZmZmZmJltAmpmZmZl5W0CPwvUoXL9bQAAAAAAAAFxAH4XrUbh+XUAzMzMzM/NdQAAAAAAAAF5ASOF6FK4/YEBI4XoUrj9gQAAAAAAAQGBAzczMzMzcYEBI4XoUrt9gQEjhehSu32BAMzMzMzM7YUAzMzMzMzthQM3MzMzMfGFAAAAAAACAYUAAAAAAAIBhQAAAAAAAgGFAAAAAAACAYUAAAAAAANBhQAAAAAAA0GFAZmZmZma2YkBmZmZmZrZiQGZmZmZmtmJAMzMzMzMzY0AzMzMzMzNjQJqZmZmZeWNAAAAAAACAY0BmZmZmZjZkQAAAAAAAUGRAAAAAAADgZED2KFyPwv1kQI/C9ShcP2VA16NwPQofZkAzMzMzM2NmQDMzMzMzY2ZAzczMzMxsZkDNzMzMzGxmQGZmZmZmdmZAZmZmZmZ2ZkBmZmZmZnZmQJqZmZmZeWZAmpmZmZl5ZkCamZmZmXlmQIXrUbgefWZASOF6FK5/ZkCamZmZmflmQNejcD0KP2dAMzMzMzPzZ0A9CtejcP1nQAAAAAAAYGhAMzMzMzPzaEBmZmZmZv5oQB+F61G4/mhAj8L1KFz/aECPwvUoXP9oQI/C9Shc/2hAj8L1KFz/aECPwvUoXP9oQAAAAAAAQGlAMzMzMzNzaUBmZmZmZqZpQJqZmZmZKWpAAAAAAADgakDNzMzMzFxrQJqZmZmZeWtAFK5H4Xp8a0CPwvUoXH9rQAAAAAAAgGtAj8L1KFy/a0AfhetRuH5sQB+F61G4fmxAZmZmZmambEDNzMzMzMxsQAAAAAAAQG1AAAAAAABAbUAfhetRuH5tQGZmZmZmlm1AMzMzMzPzbUAzMzMzM/NtQDMzMzMz821AmpmZmZn5bUCuR+F6FP5tQI/C9Shc/21AAAAAAAAAbkAAAAAAAABuQM3MzMzMrG5AzczMzMz8bkAAAAAAAABvQAAAAAAAMG9AAAAAAAAwb0DXo3A9Ct9vQNejcD0K329AKVyPwvUYcEAzMzMzMytwQFK4HoXrPXBASOF6FK4/cEA9CtejcNlwQDMzMzMz23BAzczMzMzccEAzMzMzM/NwQDMzMzMzO3FAAAAAAABAcUAAAAAAANBxQAAAAAAAQHJAZmZmZma2ckBmZmZmZrZyQGZmZmZmtnJAj8L1KFy3ckCPwvUoXLdyQAAAAAAAuHJAAAAAAAC4ckAAAAAAALhyQDMzMzMzu3JA7FG4HoW/ckDsUbgehb9yQOxRuB6Fv3JA7FG4HoW/ckAzMzMzMzNzQDMzMzMzM3NAMzMzMzNbc0AAAAAAAGBzQB+F61G4nnNAPQrXo3D9c0AfhetRuP5zQDMzMzMzT3RAZmZmZmaOdEDNzMzMzPR0QPYoXI/C/XRAuB6F61EsdUAAAAAAADB1QGZmZmZmPnVAj8L1KFw/dUCPwvUoXD91QJqZmZmZmXVAzczMzMzUdUDNzMzMzNR1QGZmZmZm3nVAZmZmZmbedUAAAAAAAOB1QNejcD0KH3ZA16NwPQofdkBmZmZmZnZ2QEjhehSuf3ZAAAAAAABwd0AAAAAAAHB3QJqZmZmZuXdAMzMzMzPzd0AAAAAAABB4QDMzMzMzS3hA7FG4HoVfeEAAAAAAAGB4QAAAAAAAYHhAAAAAAACAeECamZmZmbl4QJqZmZmZuXhAAAAAAADgeEAAAAAAAOB4QMP1KFyP7nhAexSuR+HueEB7FK5H4e54QDMzMzMz83hAH4XrUbj+eECPwvUoXP94QDMzMzMzs3lAAAAAAADgeUAAAAAAAAh6QAAAAAAAEHpAzczMzMw0ekBmZmZmZjZ6QHE9CtejPHpAMzMzMzPzekCPwvUoXH97QJqZmZmZ3XtAAAAAAAAIfECamZmZmRF8QIXrUbgeHXxAAAAAAABwfEApXI/C9Xx8QClcj8L1fHxAZmZmZmaefEDNzMzMzLx8QM3MzMzMzHxAAAAAAABAfUAAAAAAAGB9QM3MzMzMbH1AmpmZmZnRfUCamZmZmdl9QGZmZmZm5n1AzczMzMz8fUDNzMzMzPx9QOxRuB6F/31A7FG4HoX/fUDsUbgehf99QFyPwvUonH5AZmZmZmbWfkAAAAAAAPh+QAAAAAAAMH9AMzMzMzM/f0AzMzMzMz9/QLgehetR5H9AAAAAAAAwgEApXI/C9T6AQEjhehSuP4BAAAAAAACAgEDhehSuR5eAQAAAAAAAyIBAmpmZmZnRgEDsUbgehd+AQOxRuB6F34BA7FG4HoXfgED2KFyPwt+AQGZmZmZmCoFAMzMzMzMngUAAAAAAADCBQGZmZmZmNoFAzczMzMxugUAAAAAAAICBQAAAAAAAnIFAMzMzMzPPgUBmZmZmZt6BQK5H4XoU/oFAAAAAAAAAgkBI4XoUrh2CQAAAAAAAHoJAXI/C9ShGgkDhehSuR0eCQOF6FK5HR4JAMzMzMzNvgkDsUbgehW+CQDMzMzMzi4JAAAAAAACMgkA9CtejcJeCQAAAAAAAmIJAAAAAAACggkBmZmZmZraCQGZmZmZmtoJAPQrXo3C/gkDsUbgehb+CQOxRuB6Fv4JAZmZmZmbOgkCamZmZmdmCQDMzMzMzG4NApHA9Ctc9hECF61G4HkeEQAAAAAAAUIRA9ihcj8JdhEAAAAAAAGCEQGZmZmZmjoRAZmZmZmaOhEAzMzMzM5eEQOxRuB6Fn4RAAAAAAACghEAAAAAAAMiEQPYoXI/C/YRAAAAAAAAwhUBxPQrXoz6FQAAAAAAAQIVAAAAAAABYhUAAAAAAAHCFQAAAAAAAqIVAMzMzMzO3hUDNzMzMzNSFQGZmZmZm3oVAZmZmZmbehUA9CtejcN+FQJqZmZmZ34VAmpmZmZnlhUAAAAAAAPCFQHsUrkfhFoZAMzMzMzMbhkAAAAAAAECGQMP1KFyPfoZAMzMzMzPzhkAAAAAAAPiGQAAAAAAA+IZAAAAAAABkh0AAAAAAAGyHQAAAAAAAlIdAFK5H4Xq+h0AUrkfher6HQI/C9Shcv4dAzczMzMzgh0BxPQrXo/aHQJqZmZmZC4hAAAAAAAAQiECamZmZmVWIQJqZmZmZVYhAmpmZmZlViEBmZmZmZmqIQAAAAAAAqIhAmpmZmZmviEAAAAAAAMCIQDMzMzMz/4hAj8L1KFz/iEApXI/C9S6JQOF6FK5HT4lAAAAAAAB4iUB7FK5H4c6JQM3MzMzMNIpA7FG4HoU/ikAAAAAAAECKQAAAAAAAQIpAAAAAAACMikDNzMzMzECLQDMzMzMzZ4tAAAAAAACAi0AAAAAAAICLQGZmZmZmwotAzczMzMzGi0AAAAAAANCLQAAAAAAA2ItAAAAAAADwi0AAAAAAABSMQOF6FK5HH4xA4XoUrkcfjEAAAAAAAHCMQAAAAAAA6IxAZmZmZmYOjUBI4XoUrg+NQGZmZmZmfo1AMzMzMzODjUAAAAAAAACOQOF6FK5HL45AcT0K16NGjkBxPQrXo0aOQDMzMzMzT45AAAAAAABojkDNzMzMzHaOQAAAAAAAeI5AzczMzMy8jkC4HoXrURCPQOF6FK5HN49AAAAAAAA4j0CamZmZmcePQGZmZmZm0o9APQrXo3Dfj0DsUbgehd+PQNejcD0KCpBAj8L1KFw/kEAUrkfhej+QQEjhehSuP5BAmpmZmZlLkEBmZmZmZk6QQAAAAAAAvJBAAAAAAADYkEBxPQrXo9+QQPYoXI/C35BAAAAAAADokEAAAAAAAASRQAAAAAAAEJFAAAAAAAAskUAAAAAAAC6RQMP1KFyPL5FAw/UoXI8vkUDD9Shcjy+RQBSuR+F6Q5FASOF6FK5HkUAAAAAAAGCRQM3MzMzMbpFAPQrXo3B/kUAK16NwPYORQGZmZmZmyJFAZmZmZmbIkUBmZmZmZsiRQGZmZmZmyJFAMzMzMzPPkUAzMzMzM8+RQHE9CtejR5JAZmZmZmZJkkAAAAAAAJCSQGZmZmZmkpJAmpmZmZmfkkAAAAAAALCSQDMzMzMzu5JAUrgeheu9kkCamZmZmb+SQJqZmZmZv5JAhetRuB7UkkBcj8L1KEuTQD0K16NwTZNAAAAAAAB+k0AAAAAAAICTQJqZmZmZp5NAZmZmZmaqk0A9CtejcK+TQI/C9Shc/5NAMzMzMzNDlECF61G4HkeUQM3MzMzMSpRAzczMzMxKlEDNzMzMzEqUQM3MzMzMSpRAAAAAAABYlEAzMzMzM5uUQAAAAAAAnpRAZmZmZmbMlECPwvUoXO+UQAAAAAAADpVAzczMzMwclUDXo3A9Cl+VQM3MzMzMhpVAzczMzMyGlUAAAAAAAKiVQGZmZmZm3pVAZmZmZmbelUA9CtejcN+VQD0K16Nw35VAPQrXo3DflUA9CtejcN+VQJqZmZmZ5ZVAAAAAAADwlUAAAAAAAPCVQAAAAAAA9JVA16NwPQoflkBI4XoUrh+WQAAAAAAAIJZASOF6FK42lkBmZmZmZpyWQAAAAAAAC5dAMzMzMzMVl0AzMzMzMxWXQFK4HoXrH5dAzczMzMyUl0AUrkfhequXQLgehetR55dAuB6F61Hnl0BmZmZmZlyYQAAAAAAA2JhAzczMzMzomEAK16NwPQSZQAAAAAAAEJlAMzMzMzNFmUDhehSuR0+ZQB+F61G4T5lAFK5H4XrjmUAAAAAAABKaQJqZmZmZG5pAw/UoXI8/mkAAAAAAAECaQAAAAAAATJpAAAAAAABQmkC4HoXrUY+aQArXo3A9t5pAuB6F61HsmkDNzMzMzASbQAAAAAAAHJtAmpmZmZklm0ApXI/C9TabQOxRuB6Fj5tAzczMzMymm0AAAAAAAMabQDMzMzMzH5xA4XoUrkcfnEBSuB6F60KcQD0K16Nwb5xAmpmZmZmRnEDNzMzMzLacQM3MzMzMvJxAAAAAAADcnECamZmZmQOdQI/C9ShcO51AexSuR+FOnUDNzMzMzHGdQAAAAAAAep1AXI/C9SiHnUBcj8L1KIedQDMzMzMz351Aw/UoXI/fnUBmZmZmZmieQM3MzMzMcp5AAAAAAAB4nkAAAAAAAHieQAAAAAAAkJ5AAAAAAADEnkBmZmZmZsieQLgehetR155AMzMzMzPnnkCamZmZmQ2fQAAAAAAALJ9AZmZmZmbSn0AzMzMzM9mfQEjhehSu759AZmZmZmYnoECamZmZmTKgQEjhehSuP6BAZmZmZmZRoEAAAAAAAFSgQAAAAAAAyKBAzczMzMzYoEDsUbgehd+gQArXo3C99aBA4XoUrsf9oEAAAAAAAAShQAAAAAAABqFAmpmZmZkWoUAzMzMzMx2hQMP1KFyPL6FAAAAAAAAwoUAAAAAAADqhQM3MzMzMPKFAZmZmZmY/oUBcj8L1qEOhQAAAAAAATKFAmpmZmZlQoUAzMzMzM3GhQAAAAAAAhKFAMzMzMzOPoUA9CtejcI+hQJqZmZmZlaFAAAAAAADKoUAzMzMzM0CiQDMzMzMzQKJAFK5H4XpHokBxPQrXo0eiQArXo3C9R6JAMzMzMzOvokBmZmZmZraiQGZmZmZm1qJAKVyPwnX7okCamZmZmSKjQJqZmZmZIqNAmpmZmZkio0CamZmZmSKjQDMzMzMzSaNACtejcD1Lo0DNzMzMzF6jQGZmZmZmZKNAPQrXo3Cvo0B7FK5HYdKjQM3MzMzMTaRAXI/C9aiLpEBSuB6F64ukQAAAAAAAwqRAAAAAAADwpEAAAAAAABWlQHE9CtejF6VAZmZmZmY3pUDXo3A9io+lQDMzMzOzj6VAAAAAAACVpUDhehSuR9alQGZmZmZm3qVAzczMzEzzpUCamZmZGR+mQDMzMzMzg6ZAAAAAAAD4pkAAAAAAAD6nQM3MzMzMTKdAAAAAAADEp0AzMzMzM+GnQOF6FK5H56dAMzMzMzMHqEDsUbgehR2oQB+F61G4TqhAAAAAAABgqECamZmZmYeoQAAAAAAAZKlAAAAAAACYqUDNzMzMzLapQAAAAAAAyKlAmpmZmZnXqUCamZmZmfypQAAAAAAAbqpA16NwPYrzqkAAAAAAAAarQFyPwvUoC6tAmpmZmZkTq0AAAAAAAFarQDMzMzMzcqtAAAAAAACKq0AAAAAAAK+rQAAAAAAA2KtAAAAAAADuq0AAAAAAABisQI/C9ShccaxAAAAAAACYrEBmZmZmZv+sQJqZmZmZ+a1AAAAAAABarkAAAAAAAHiuQM3MzMzMia5Aj8L1KFy/rkAAAAAAAEivQAAAAAAASK9AmpmZmZmer0CkcD0KV7WvQM3MzMzMZrBAAAAAAACRsEAUrkfhupiwQAAAAACAmbBAAAAAAADCsEBmZmZmZt+wQAAAAAAAA7FAMzMzM7MtsUAAAAAAgL+xQGZmZmbm6LFAAAAAAAALskA9CtejMGiyQAAAAAAAkLJAMzMzM7OhskApXI/CteqyQI/C9Sgc/LJAMzMzMzNetECPwvUoXGa0QAAAAACAfrRAAAAAAICAtEAAAAAAAKC0QLgeheuRqLRAAAAAAAAStUApXI/C9U21QM3MzMzMzbVAMzMzM7OptkDNzMzMTDy3QM3MzMxMRLdAAAAAAABit0AAAAAAAH64QDMzMzMzj7hAzczMzMweuUBmZmZm5lq6QAAAAAAAbLpAAAAAAAASu0AAAAAAADO9QGZmZmbm3L1A7FG4HkXjvUDNzMzMzHK+QAAAAAAArcBAhetRuL6AwUAAAAAAgNLBQAAAAAAADMJAzczMzIwzxEAAAAAAgEPEQJqZmZkZFsdAAAAAAICfx0A=",
          "dtype": "f8"
         },
         "xaxis": "x",
         "y": {
          "bdata": "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",
          "dtype": "f8"
         },
         "yaxis": "y"
        }
       ],
       "layout": {
        "legend": {
         "tracegroupgap": 0
        },
        "template": {
         "data": {
          "bar": [
           {
            "error_x": {
             "color": "#2a3f5f"
            },
            "error_y": {
             "color": "#2a3f5f"
            },
            "marker": {
             "line": {
              "color": "white",
              "width": 0.5
             },
             "pattern": {
              "fillmode": "overlay",
              "size": 10,
              "solidity": 0.2
             }
            },
            "type": "bar"
           }
          ],
          "barpolar": [
           {
            "marker": {
             "line": {
              "color": "white",
              "width": 0.5
             },
             "pattern": {
              "fillmode": "overlay",
              "size": 10,
              "solidity": 0.2
             }
            },
            "type": "barpolar"
           }
          ],
          "carpet": [
           {
            "aaxis": {
             "endlinecolor": "#2a3f5f",
             "gridcolor": "#C8D4E3",
             "linecolor": "#C8D4E3",
             "minorgridcolor": "#C8D4E3",
             "startlinecolor": "#2a3f5f"
            },
            "baxis": {
             "endlinecolor": "#2a3f5f",
             "gridcolor": "#C8D4E3",
             "linecolor": "#C8D4E3",
             "minorgridcolor": "#C8D4E3",
             "startlinecolor": "#2a3f5f"
            },
            "type": "carpet"
           }
          ],
          "choropleth": [
           {
            "colorbar": {
             "outlinewidth": 0,
             "ticks": ""
            },
            "type": "choropleth"
           }
          ],
          "contour": [
           {
            "colorbar": {
             "outlinewidth": 0,
             "ticks": ""
            },
            "colorscale": [
             [
              0,
              "#0d0887"
             ],
             [
              0.1111111111111111,
              "#46039f"
             ],
             [
              0.2222222222222222,
              "#7201a8"
             ],
             [
              0.3333333333333333,
              "#9c179e"
             ],
             [
              0.4444444444444444,
              "#bd3786"
             ],
             [
              0.5555555555555556,
              "#d8576b"
             ],
             [
              0.6666666666666666,
              "#ed7953"
             ],
             [
              0.7777777777777778,
              "#fb9f3a"
             ],
             [
              0.8888888888888888,
              "#fdca26"
             ],
             [
              1,
              "#f0f921"
             ]
            ],
            "type": "contour"
           }
          ],
          "contourcarpet": [
           {
            "colorbar": {
             "outlinewidth": 0,
             "ticks": ""
            },
            "type": "contourcarpet"
           }
          ],
          "heatmap": [
           {
            "colorbar": {
             "outlinewidth": 0,
             "ticks": ""
            },
            "colorscale": [
             [
              0,
              "#0d0887"
             ],
             [
              0.1111111111111111,
              "#46039f"
             ],
             [
              0.2222222222222222,
              "#7201a8"
             ],
             [
              0.3333333333333333,
              "#9c179e"
             ],
             [
              0.4444444444444444,
              "#bd3786"
             ],
             [
              0.5555555555555556,
              "#d8576b"
             ],
             [
              0.6666666666666666,
              "#ed7953"
             ],
             [
              0.7777777777777778,
              "#fb9f3a"
             ],
             [
              0.8888888888888888,
              "#fdca26"
             ],
             [
              1,
              "#f0f921"
             ]
            ],
            "type": "heatmap"
           }
          ],
          "histogram": [
           {
            "marker": {
             "pattern": {
              "fillmode": "overlay",
              "size": 10,
              "solidity": 0.2
             }
            },
            "type": "histogram"
           }
          ],
          "histogram2d": [
           {
            "colorbar": {
             "outlinewidth": 0,
             "ticks": ""
            },
            "colorscale": [
             [
              0,
              "#0d0887"
             ],
             [
              0.1111111111111111,
              "#46039f"
             ],
             [
              0.2222222222222222,
              "#7201a8"
             ],
             [
              0.3333333333333333,
              "#9c179e"
             ],
             [
              0.4444444444444444,
              "#bd3786"
             ],
             [
              0.5555555555555556,
              "#d8576b"
             ],
             [
              0.6666666666666666,
              "#ed7953"
             ],
             [
              0.7777777777777778,
              "#fb9f3a"
             ],
             [
              0.8888888888888888,
              "#fdca26"
             ],
             [
              1,
              "#f0f921"
             ]
            ],
            "type": "histogram2d"
           }
          ],
          "histogram2dcontour": [
           {
            "colorbar": {
             "outlinewidth": 0,
             "ticks": ""
            },
            "colorscale": [
             [
              0,
              "#0d0887"
             ],
             [
              0.1111111111111111,
              "#46039f"
             ],
             [
              0.2222222222222222,
              "#7201a8"
             ],
             [
              0.3333333333333333,
              "#9c179e"
             ],
             [
              0.4444444444444444,
              "#bd3786"
             ],
             [
              0.5555555555555556,
              "#d8576b"
             ],
             [
              0.6666666666666666,
              "#ed7953"
             ],
             [
              0.7777777777777778,
              "#fb9f3a"
             ],
             [
              0.8888888888888888,
              "#fdca26"
             ],
             [
              1,
              "#f0f921"
             ]
            ],
            "type": "histogram2dcontour"
           }
          ],
          "mesh3d": [
           {
            "colorbar": {
             "outlinewidth": 0,
             "ticks": ""
            },
            "type": "mesh3d"
           }
          ],
          "parcoords": [
           {
            "line": {
             "colorbar": {
              "outlinewidth": 0,
              "ticks": ""
             }
            },
            "type": "parcoords"
           }
          ],
          "pie": [
           {
            "automargin": true,
            "type": "pie"
           }
          ],
          "scatter": [
           {
            "fillpattern": {
             "fillmode": "overlay",
             "size": 10,
             "solidity": 0.2
            },
            "type": "scatter"
           }
          ],
          "scatter3d": [
           {
            "line": {
             "colorbar": {
              "outlinewidth": 0,
              "ticks": ""
             }
            },
            "marker": {
             "colorbar": {
              "outlinewidth": 0,
              "ticks": ""
             }
            },
            "type": "scatter3d"
           }
          ],
          "scattercarpet": [
           {
            "marker": {
             "colorbar": {
              "outlinewidth": 0,
              "ticks": ""
             }
            },
            "type": "scattercarpet"
           }
          ],
          "scattergeo": [
           {
            "marker": {
             "colorbar": {
              "outlinewidth": 0,
              "ticks": ""
             }
            },
            "type": "scattergeo"
           }
          ],
          "scattergl": [
           {
            "marker": {
             "colorbar": {
              "outlinewidth": 0,
              "ticks": ""
             }
            },
            "type": "scattergl"
           }
          ],
          "scattermap": [
           {
            "marker": {
             "colorbar": {
              "outlinewidth": 0,
              "ticks": ""
             }
            },
            "type": "scattermap"
           }
          ],
          "scattermapbox": [
           {
            "marker": {
             "colorbar": {
              "outlinewidth": 0,
              "ticks": ""
             }
            },
            "type": "scattermapbox"
           }
          ],
          "scatterpolar": [
           {
            "marker": {
             "colorbar": {
              "outlinewidth": 0,
              "ticks": ""
             }
            },
            "type": "scatterpolar"
           }
          ],
          "scatterpolargl": [
           {
            "marker": {
             "colorbar": {
              "outlinewidth": 0,
              "ticks": ""
             }
            },
            "type": "scatterpolargl"
           }
          ],
          "scatterternary": [
           {
            "marker": {
             "colorbar": {
              "outlinewidth": 0,
              "ticks": ""
             }
            },
            "type": "scatterternary"
           }
          ],
          "surface": [
           {
            "colorbar": {
             "outlinewidth": 0,
             "ticks": ""
            },
            "colorscale": [
             [
              0,
              "#0d0887"
             ],
             [
              0.1111111111111111,
              "#46039f"
             ],
             [
              0.2222222222222222,
              "#7201a8"
             ],
             [
              0.3333333333333333,
              "#9c179e"
             ],
             [
              0.4444444444444444,
              "#bd3786"
             ],
             [
              0.5555555555555556,
              "#d8576b"
             ],
             [
              0.6666666666666666,
              "#ed7953"
             ],
             [
              0.7777777777777778,
              "#fb9f3a"
             ],
             [
              0.8888888888888888,
              "#fdca26"
             ],
             [
              1,
              "#f0f921"
             ]
            ],
            "type": "surface"
           }
          ],
          "table": [
           {
            "cells": {
             "fill": {
              "color": "#EBF0F8"
             },
             "line": {
              "color": "white"
             }
            },
            "header": {
             "fill": {
              "color": "#C8D4E3"
             },
             "line": {
              "color": "white"
             }
            },
            "type": "table"
           }
          ]
         },
         "layout": {
          "annotationdefaults": {
           "arrowcolor": "#2a3f5f",
           "arrowhead": 0,
           "arrowwidth": 1
          },
          "autotypenumbers": "strict",
          "coloraxis": {
           "colorbar": {
            "outlinewidth": 0,
            "ticks": ""
           }
          },
          "colorscale": {
           "diverging": [
            [
             0,
             "#8e0152"
            ],
            [
             0.1,
             "#c51b7d"
            ],
            [
             0.2,
             "#de77ae"
            ],
            [
             0.3,
             "#f1b6da"
            ],
            [
             0.4,
             "#fde0ef"
            ],
            [
             0.5,
             "#f7f7f7"
            ],
            [
             0.6,
             "#e6f5d0"
            ],
            [
             0.7,
             "#b8e186"
            ],
            [
             0.8,
             "#7fbc41"
            ],
            [
             0.9,
             "#4d9221"
            ],
            [
             1,
             "#276419"
            ]
           ],
           "sequential": [
            [
             0,
             "#0d0887"
            ],
            [
             0.1111111111111111,
             "#46039f"
            ],
            [
             0.2222222222222222,
             "#7201a8"
            ],
            [
             0.3333333333333333,
             "#9c179e"
            ],
            [
             0.4444444444444444,
             "#bd3786"
            ],
            [
             0.5555555555555556,
             "#d8576b"
            ],
            [
             0.6666666666666666,
             "#ed7953"
            ],
            [
             0.7777777777777778,
             "#fb9f3a"
            ],
            [
             0.8888888888888888,
             "#fdca26"
            ],
            [
             1,
             "#f0f921"
            ]
           ],
           "sequentialminus": [
            [
             0,
             "#0d0887"
            ],
            [
             0.1111111111111111,
             "#46039f"
            ],
            [
             0.2222222222222222,
             "#7201a8"
            ],
            [
             0.3333333333333333,
             "#9c179e"
            ],
            [
             0.4444444444444444,
             "#bd3786"
            ],
            [
             0.5555555555555556,
             "#d8576b"
            ],
            [
             0.6666666666666666,
             "#ed7953"
            ],
            [
             0.7777777777777778,
             "#fb9f3a"
            ],
            [
             0.8888888888888888,
             "#fdca26"
            ],
            [
             1,
             "#f0f921"
            ]
           ]
          },
          "colorway": [
           "#636efa",
           "#EF553B",
           "#00cc96",
           "#ab63fa",
           "#FFA15A",
           "#19d3f3",
           "#FF6692",
           "#B6E880",
           "#FF97FF",
           "#FECB52"
          ],
          "font": {
           "color": "#2a3f5f"
          },
          "geo": {
           "bgcolor": "white",
           "lakecolor": "white",
           "landcolor": "white",
           "showlakes": true,
           "showland": true,
           "subunitcolor": "#C8D4E3"
          },
          "hoverlabel": {
           "align": "left"
          },
          "hovermode": "closest",
          "mapbox": {
           "style": "light"
          },
          "paper_bgcolor": "white",
          "plot_bgcolor": "white",
          "polar": {
           "angularaxis": {
            "gridcolor": "#EBF0F8",
            "linecolor": "#EBF0F8",
            "ticks": ""
           },
           "bgcolor": "white",
           "radialaxis": {
            "gridcolor": "#EBF0F8",
            "linecolor": "#EBF0F8",
            "ticks": ""
           }
          },
          "scene": {
           "xaxis": {
            "backgroundcolor": "white",
            "gridcolor": "#DFE8F3",
            "gridwidth": 2,
            "linecolor": "#EBF0F8",
            "showbackground": true,
            "ticks": "",
            "zerolinecolor": "#EBF0F8"
           },
           "yaxis": {
            "backgroundcolor": "white",
            "gridcolor": "#DFE8F3",
            "gridwidth": 2,
            "linecolor": "#EBF0F8",
            "showbackground": true,
            "ticks": "",
            "zerolinecolor": "#EBF0F8"
           },
           "zaxis": {
            "backgroundcolor": "white",
            "gridcolor": "#DFE8F3",
            "gridwidth": 2,
            "linecolor": "#EBF0F8",
            "showbackground": true,
            "ticks": "",
            "zerolinecolor": "#EBF0F8"
           }
          },
          "shapedefaults": {
           "line": {
            "color": "#2a3f5f"
           }
          },
          "ternary": {
           "aaxis": {
            "gridcolor": "#DFE8F3",
            "linecolor": "#A2B1C6",
            "ticks": ""
           },
           "baxis": {
            "gridcolor": "#DFE8F3",
            "linecolor": "#A2B1C6",
            "ticks": ""
           },
           "bgcolor": "white",
           "caxis": {
            "gridcolor": "#DFE8F3",
            "linecolor": "#A2B1C6",
            "ticks": ""
           }
          },
          "title": {
           "x": 0.05
          },
          "xaxis": {
           "automargin": true,
           "gridcolor": "#EBF0F8",
           "linecolor": "#EBF0F8",
           "ticks": "",
           "title": {
            "standoff": 15
           },
           "zerolinecolor": "#EBF0F8",
           "zerolinewidth": 2
          },
          "yaxis": {
           "automargin": true,
           "gridcolor": "#EBF0F8",
           "linecolor": "#EBF0F8",
           "ticks": "",
           "title": {
            "standoff": 15
           },
           "zerolinecolor": "#EBF0F8",
           "zerolinewidth": 2
          }
         }
        },
        "title": {
         "text": "Scatter Plot of Total Price vs Quantity by Product Category"
        },
        "xaxis": {
         "anchor": "y",
         "domain": [
          0,
          1
         ],
         "title": {
          "text": "total_price"
         }
        },
        "yaxis": {
         "anchor": "x",
         "domain": [
          0,
          1
         ],
         "title": {
          "text": "qty"
         }
        }
       }
      }
     },
     "metadata": {},
     "output_type": "display_data"
    }
   ],
   "source": [
    "fig = px.scatter(df, x='total_price', y='qty', trendline='ols',\n",
    "                 title='Scatter Plot of Total Price vs Quantity by Product Category')\n",
    "fig.show(\n",
    "    \n",
    ")\n"
   ]
  },
  {
   "cell_type": "code",
   "execution_count": 10,
   "id": "d4653118",
   "metadata": {},
   "outputs": [
    {
     "data": {
      "application/vnd.plotly.v1+json": {
       "config": {
        "plotlyServerURL": "https://plot.ly"
       },
       "data": [
        {
         "hovertemplate": "product_category_name=%{x}<br>total_price=%{y}<extra></extra>",
         "legendgroup": "",
         "marker": {
          "color": "#636efa",
          "pattern": {
           "shape": ""
          }
         },
         "name": "",
         "orientation": "v",
         "showlegend": false,
         "textposition": "auto",
         "type": "bar",
         "x": [
          "bed_bath_table",
          "bed_bath_table",
          "bed_bath_table",
          "bed_bath_table",
          "bed_bath_table",
          "bed_bath_table",
          "bed_bath_table",
          "bed_bath_table",
          "bed_bath_table",
          "bed_bath_table",
          "bed_bath_table",
          "bed_bath_table",
          "bed_bath_table",
          "bed_bath_table",
          "bed_bath_table",
          "bed_bath_table",
          "garden_tools",
          "garden_tools",
          "garden_tools",
          "garden_tools",
          "garden_tools",
          "garden_tools",
          "garden_tools",
          "garden_tools",
          "garden_tools",
          "garden_tools",
          "garden_tools",
          "garden_tools",
          "garden_tools",
          "garden_tools",
          "consoles_games",
          "consoles_games",
          "consoles_games",
          "consoles_games",
          "consoles_games",
          "consoles_games",
          "consoles_games",
          "consoles_games",
          "consoles_games",
          "consoles_games",
          "consoles_games",
          "consoles_games",
          "garden_tools",
          "garden_tools",
          "garden_tools",
          "garden_tools",
          "garden_tools",
          "garden_tools",
          "garden_tools",
          "garden_tools",
          "garden_tools",
          "garden_tools",
          "garden_tools",
          "garden_tools",
          "garden_tools",
          "garden_tools",
          "garden_tools",
          "garden_tools",
          "health_beauty",
          "health_beauty",
          "health_beauty",
          "health_beauty",
          "health_beauty",
          "health_beauty",
          "health_beauty",
          "health_beauty",
          "health_beauty",
          "health_beauty",
          "health_beauty",
          "health_beauty",
          "health_beauty",
          "health_beauty",
          "health_beauty",
          "health_beauty",
          "health_beauty",
          "health_beauty",
          "cool_stuff",
          "cool_stuff",
          "cool_stuff",
          "cool_stuff",
          "cool_stuff",
          "cool_stuff",
          "cool_stuff",
          "cool_stuff",
          "cool_stuff",
          "health_beauty",
          "health_beauty",
          "health_beauty",
          "health_beauty",
          "health_beauty",
          "health_beauty",
          "health_beauty",
          "health_beauty",
          "perfumery",
          "perfumery",
          "perfumery",
          "perfumery",
          "perfumery",
          "perfumery",
          "perfumery",
          "perfumery",
          "perfumery",
          "perfumery",
          "perfumery",
          "perfumery",
          "perfumery",
          "cool_stuff",
          "cool_stuff",
          "cool_stuff",
          "cool_stuff",
          "cool_stuff",
          "cool_stuff",
          "cool_stuff",
          "cool_stuff",
          "cool_stuff",
          "cool_stuff",
          "cool_stuff",
          "cool_stuff",
          "cool_stuff",
          "health_beauty",
          "health_beauty",
          "health_beauty",
          "health_beauty",
          "health_beauty",
          "health_beauty",
          "health_beauty",
          "health_beauty",
          "health_beauty",
          "health_beauty",
          "health_beauty",
          "health_beauty",
          "health_beauty",
          "health_beauty",
          "health_beauty",
          "health_beauty",
          "health_beauty",
          "garden_tools",
          "garden_tools",
          "garden_tools",
          "garden_tools",
          "garden_tools",
          "garden_tools",
          "garden_tools",
          "garden_tools",
          "garden_tools",
          "garden_tools",
          "garden_tools",
          "garden_tools",
          "garden_tools",
          "garden_tools",
          "computers_accessories",
          "computers_accessories",
          "computers_accessories",
          "computers_accessories",
          "computers_accessories",
          "computers_accessories",
          "computers_accessories",
          "computers_accessories",
          "garden_tools",
          "garden_tools",
          "garden_tools",
          "garden_tools",
          "garden_tools",
          "garden_tools",
          "garden_tools",
          "garden_tools",
          "garden_tools",
          "garden_tools",
          "garden_tools",
          "garden_tools",
          "garden_tools",
          "garden_tools",
          "garden_tools",
          "garden_tools",
          "computers_accessories",
          "computers_accessories",
          "computers_accessories",
          "computers_accessories",
          "computers_accessories",
          "computers_accessories",
          "computers_accessories",
          "computers_accessories",
          "health_beauty",
          "health_beauty",
          "health_beauty",
          "health_beauty",
          "health_beauty",
          "health_beauty",
          "health_beauty",
          "garden_tools",
          "garden_tools",
          "garden_tools",
          "garden_tools",
          "garden_tools",
          "garden_tools",
          "garden_tools",
          "garden_tools",
          "garden_tools",
          "garden_tools",
          "garden_tools",
          "garden_tools",
          "garden_tools",
          "garden_tools",
          "garden_tools",
          "garden_tools",
          "health_beauty",
          "health_beauty",
          "health_beauty",
          "health_beauty",
          "health_beauty",
          "health_beauty",
          "health_beauty",
          "watches_gifts",
          "watches_gifts",
          "watches_gifts",
          "watches_gifts",
          "watches_gifts",
          "watches_gifts",
          "watches_gifts",
          "watches_gifts",
          "watches_gifts",
          "watches_gifts",
          "watches_gifts",
          "watches_gifts",
          "watches_gifts",
          "watches_gifts",
          "watches_gifts",
          "health_beauty",
          "health_beauty",
          "health_beauty",
          "health_beauty",
          "health_beauty",
          "health_beauty",
          "health_beauty",
          "health_beauty",
          "health_beauty",
          "garden_tools",
          "garden_tools",
          "garden_tools",
          "garden_tools",
          "garden_tools",
          "garden_tools",
          "garden_tools",
          "garden_tools",
          "garden_tools",
          "garden_tools",
          "garden_tools",
          "garden_tools",
          "garden_tools",
          "garden_tools",
          "garden_tools",
          "garden_tools",
          "garden_tools",
          "garden_tools",
          "garden_tools",
          "garden_tools",
          "garden_tools",
          "garden_tools",
          "garden_tools",
          "garden_tools",
          "garden_tools",
          "garden_tools",
          "garden_tools",
          "garden_tools",
          "garden_tools",
          "garden_tools",
          "garden_tools",
          "watches_gifts",
          "watches_gifts",
          "watches_gifts",
          "watches_gifts",
          "watches_gifts",
          "watches_gifts",
          "watches_gifts",
          "watches_gifts",
          "watches_gifts",
          "watches_gifts",
          "watches_gifts",
          "watches_gifts",
          "watches_gifts",
          "watches_gifts",
          "cool_stuff",
          "cool_stuff",
          "cool_stuff",
          "cool_stuff",
          "cool_stuff",
          "cool_stuff",
          "cool_stuff",
          "perfumery",
          "perfumery",
          "perfumery",
          "perfumery",
          "perfumery",
          "perfumery",
          "perfumery",
          "perfumery",
          "perfumery",
          "perfumery",
          "perfumery",
          "perfumery",
          "perfumery",
          "cool_stuff",
          "cool_stuff",
          "cool_stuff",
          "cool_stuff",
          "cool_stuff",
          "cool_stuff",
          "cool_stuff",
          "cool_stuff",
          "cool_stuff",
          "cool_stuff",
          "cool_stuff",
          "cool_stuff",
          "cool_stuff",
          "computers_accessories",
          "computers_accessories",
          "computers_accessories",
          "computers_accessories",
          "computers_accessories",
          "computers_accessories",
          "computers_accessories",
          "computers_accessories",
          "computers_accessories",
          "computers_accessories",
          "computers_accessories",
          "computers_accessories",
          "computers_accessories",
          "computers_accessories",
          "computers_accessories",
          "consoles_games",
          "consoles_games",
          "consoles_games",
          "consoles_games",
          "consoles_games",
          "consoles_games",
          "consoles_games",
          "consoles_games",
          "consoles_games",
          "consoles_games",
          "health_beauty",
          "health_beauty",
          "health_beauty",
          "health_beauty",
          "health_beauty",
          "health_beauty",
          "health_beauty",
          "health_beauty",
          "health_beauty",
          "health_beauty",
          "health_beauty",
          "health_beauty",
          "health_beauty",
          "health_beauty",
          "health_beauty",
          "health_beauty",
          "health_beauty",
          "health_beauty",
          "health_beauty",
          "health_beauty",
          "watches_gifts",
          "watches_gifts",
          "watches_gifts",
          "watches_gifts",
          "watches_gifts",
          "watches_gifts",
          "watches_gifts",
          "watches_gifts",
          "watches_gifts",
          "watches_gifts",
          "furniture_decor",
          "furniture_decor",
          "furniture_decor",
          "furniture_decor",
          "furniture_decor",
          "furniture_decor",
          "furniture_decor",
          "furniture_decor",
          "furniture_decor",
          "furniture_decor",
          "watches_gifts",
          "watches_gifts",
          "watches_gifts",
          "watches_gifts",
          "watches_gifts",
          "watches_gifts",
          "watches_gifts",
          "watches_gifts",
          "watches_gifts",
          "watches_gifts",
          "health_beauty",
          "health_beauty",
          "health_beauty",
          "health_beauty",
          "health_beauty",
          "health_beauty",
          "health_beauty",
          "health_beauty",
          "health_beauty",
          "health_beauty",
          "health_beauty",
          "health_beauty",
          "health_beauty",
          "health_beauty",
          "health_beauty",
          "health_beauty",
          "health_beauty",
          "health_beauty",
          "health_beauty",
          "health_beauty",
          "bed_bath_table",
          "bed_bath_table",
          "bed_bath_table",
          "bed_bath_table",
          "bed_bath_table",
          "bed_bath_table",
          "bed_bath_table",
          "bed_bath_table",
          "bed_bath_table",
          "bed_bath_table",
          "bed_bath_table",
          "garden_tools",
          "garden_tools",
          "garden_tools",
          "garden_tools",
          "garden_tools",
          "garden_tools",
          "garden_tools",
          "garden_tools",
          "garden_tools",
          "garden_tools",
          "garden_tools",
          "garden_tools",
          "garden_tools",
          "garden_tools",
          "garden_tools",
          "garden_tools",
          "garden_tools",
          "garden_tools",
          "bed_bath_table",
          "bed_bath_table",
          "bed_bath_table",
          "bed_bath_table",
          "bed_bath_table",
          "bed_bath_table",
          "bed_bath_table",
          "bed_bath_table",
          "bed_bath_table",
          "bed_bath_table",
          "bed_bath_table",
          "bed_bath_table",
          "bed_bath_table",
          "bed_bath_table",
          "bed_bath_table",
          "bed_bath_table",
          "bed_bath_table",
          "bed_bath_table",
          "bed_bath_table",
          "furniture_decor",
          "furniture_decor",
          "furniture_decor",
          "furniture_decor",
          "furniture_decor",
          "furniture_decor",
          "furniture_decor",
          "furniture_decor",
          "furniture_decor",
          "furniture_decor",
          "furniture_decor",
          "furniture_decor",
          "watches_gifts",
          "watches_gifts",
          "watches_gifts",
          "watches_gifts",
          "watches_gifts",
          "watches_gifts",
          "watches_gifts",
          "watches_gifts",
          "watches_gifts",
          "watches_gifts",
          "watches_gifts",
          "watches_gifts",
          "watches_gifts",
          "watches_gifts",
          "watches_gifts",
          "watches_gifts",
          "watches_gifts",
          "watches_gifts",
          "watches_gifts",
          "watches_gifts",
          "watches_gifts",
          "watches_gifts",
          "watches_gifts",
          "watches_gifts",
          "watches_gifts",
          "furniture_decor",
          "furniture_decor",
          "furniture_decor",
          "furniture_decor",
          "furniture_decor",
          "furniture_decor",
          "furniture_decor",
          "furniture_decor",
          "furniture_decor",
          "furniture_decor",
          "furniture_decor",
          "furniture_decor",
          "furniture_decor",
          "garden_tools",
          "garden_tools",
          "garden_tools",
          "garden_tools",
          "garden_tools",
          "garden_tools",
          "garden_tools",
          "garden_tools",
          "garden_tools",
          "garden_tools",
          "garden_tools",
          "garden_tools",
          "garden_tools",
          "garden_tools",
          "garden_tools",
          "garden_tools",
          "garden_tools",
          "furniture_decor",
          "furniture_decor",
          "furniture_decor",
          "furniture_decor",
          "furniture_decor",
          "furniture_decor",
          "furniture_decor",
          "furniture_decor",
          "furniture_decor",
          "furniture_decor",
          "furniture_decor",
          "furniture_decor",
          "furniture_decor",
          "health_beauty",
          "health_beauty",
          "health_beauty",
          "health_beauty",
          "health_beauty",
          "health_beauty",
          "health_beauty",
          "health_beauty",
          "health_beauty",
          "health_beauty",
          "health_beauty",
          "health_beauty",
          "health_beauty",
          "garden_tools",
          "garden_tools",
          "garden_tools",
          "garden_tools",
          "garden_tools",
          "garden_tools",
          "garden_tools",
          "garden_tools",
          "garden_tools",
          "garden_tools",
          "garden_tools",
          "garden_tools",
          "garden_tools",
          "garden_tools",
          "garden_tools",
          "garden_tools",
          "garden_tools",
          "garden_tools",
          "cool_stuff",
          "cool_stuff",
          "cool_stuff",
          "cool_stuff",
          "cool_stuff",
          "cool_stuff",
          "cool_stuff",
          "cool_stuff",
          "cool_stuff",
          "cool_stuff",
          "cool_stuff",
          "cool_stuff",
          "cool_stuff",
          "cool_stuff",
          "cool_stuff",
          "computers_accessories",
          "computers_accessories",
          "computers_accessories",
          "computers_accessories",
          "computers_accessories",
          "computers_accessories",
          "computers_accessories",
          "computers_accessories",
          "computers_accessories",
          "computers_accessories",
          "computers_accessories",
          "computers_accessories",
          "computers_accessories",
          "computers_accessories",
          "computers_accessories",
          "computers_accessories",
          "computers_accessories",
          "computers_accessories",
          "watches_gifts",
          "watches_gifts",
          "watches_gifts",
          "watches_gifts",
          "watches_gifts",
          "watches_gifts",
          "watches_gifts",
          "watches_gifts",
          "watches_gifts",
          "watches_gifts",
          "watches_gifts",
          "watches_gifts",
          "computers_accessories",
          "computers_accessories",
          "computers_accessories",
          "computers_accessories",
          "computers_accessories",
          "computers_accessories",
          "computers_accessories",
          "computers_accessories",
          "computers_accessories",
          "computers_accessories",
          "health_beauty",
          "health_beauty",
          "health_beauty",
          "health_beauty",
          "health_beauty",
          "health_beauty",
          "health_beauty",
          "health_beauty",
          "health_beauty",
          "health_beauty",
          "health_beauty",
          "watches_gifts",
          "watches_gifts",
          "watches_gifts",
          "watches_gifts",
          "watches_gifts",
          "watches_gifts",
          "watches_gifts",
          "watches_gifts",
          "watches_gifts",
          "watches_gifts",
          "watches_gifts",
          "watches_gifts",
          "watches_gifts",
          "watches_gifts",
          "watches_gifts",
          "watches_gifts",
          "watches_gifts",
          "computers_accessories",
          "computers_accessories",
          "computers_accessories",
          "computers_accessories",
          "computers_accessories",
          "computers_accessories",
          "computers_accessories",
          "computers_accessories",
          "computers_accessories",
          "computers_accessories",
          "bed_bath_table",
          "bed_bath_table",
          "bed_bath_table",
          "bed_bath_table",
          "bed_bath_table",
          "bed_bath_table",
          "bed_bath_table",
          "bed_bath_table",
          "bed_bath_table",
          "bed_bath_table",
          "bed_bath_table",
          "bed_bath_table",
          "bed_bath_table",
          "bed_bath_table",
          "bed_bath_table"
         ],
         "xaxis": "x",
         "y": {
          "bdata": "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",
          "dtype": "f8"
         },
         "yaxis": "y"
        }
       ],
       "layout": {
        "barmode": "relative",
        "legend": {
         "tracegroupgap": 0
        },
        "template": {
         "data": {
          "bar": [
           {
            "error_x": {
             "color": "#2a3f5f"
            },
            "error_y": {
             "color": "#2a3f5f"
            },
            "marker": {
             "line": {
              "color": "white",
              "width": 0.5
             },
             "pattern": {
              "fillmode": "overlay",
              "size": 10,
              "solidity": 0.2
             }
            },
            "type": "bar"
           }
          ],
          "barpolar": [
           {
            "marker": {
             "line": {
              "color": "white",
              "width": 0.5
             },
             "pattern": {
              "fillmode": "overlay",
              "size": 10,
              "solidity": 0.2
             }
            },
            "type": "barpolar"
           }
          ],
          "carpet": [
           {
            "aaxis": {
             "endlinecolor": "#2a3f5f",
             "gridcolor": "#C8D4E3",
             "linecolor": "#C8D4E3",
             "minorgridcolor": "#C8D4E3",
             "startlinecolor": "#2a3f5f"
            },
            "baxis": {
             "endlinecolor": "#2a3f5f",
             "gridcolor": "#C8D4E3",
             "linecolor": "#C8D4E3",
             "minorgridcolor": "#C8D4E3",
             "startlinecolor": "#2a3f5f"
            },
            "type": "carpet"
           }
          ],
          "choropleth": [
           {
            "colorbar": {
             "outlinewidth": 0,
             "ticks": ""
            },
            "type": "choropleth"
           }
          ],
          "contour": [
           {
            "colorbar": {
             "outlinewidth": 0,
             "ticks": ""
            },
            "colorscale": [
             [
              0,
              "#0d0887"
             ],
             [
              0.1111111111111111,
              "#46039f"
             ],
             [
              0.2222222222222222,
              "#7201a8"
             ],
             [
              0.3333333333333333,
              "#9c179e"
             ],
             [
              0.4444444444444444,
              "#bd3786"
             ],
             [
              0.5555555555555556,
              "#d8576b"
             ],
             [
              0.6666666666666666,
              "#ed7953"
             ],
             [
              0.7777777777777778,
              "#fb9f3a"
             ],
             [
              0.8888888888888888,
              "#fdca26"
             ],
             [
              1,
              "#f0f921"
             ]
            ],
            "type": "contour"
           }
          ],
          "contourcarpet": [
           {
            "colorbar": {
             "outlinewidth": 0,
             "ticks": ""
            },
            "type": "contourcarpet"
           }
          ],
          "heatmap": [
           {
            "colorbar": {
             "outlinewidth": 0,
             "ticks": ""
            },
            "colorscale": [
             [
              0,
              "#0d0887"
             ],
             [
              0.1111111111111111,
              "#46039f"
             ],
             [
              0.2222222222222222,
              "#7201a8"
             ],
             [
              0.3333333333333333,
              "#9c179e"
             ],
             [
              0.4444444444444444,
              "#bd3786"
             ],
             [
              0.5555555555555556,
              "#d8576b"
             ],
             [
              0.6666666666666666,
              "#ed7953"
             ],
             [
              0.7777777777777778,
              "#fb9f3a"
             ],
             [
              0.8888888888888888,
              "#fdca26"
             ],
             [
              1,
              "#f0f921"
             ]
            ],
            "type": "heatmap"
           }
          ],
          "histogram": [
           {
            "marker": {
             "pattern": {
              "fillmode": "overlay",
              "size": 10,
              "solidity": 0.2
             }
            },
            "type": "histogram"
           }
          ],
          "histogram2d": [
           {
            "colorbar": {
             "outlinewidth": 0,
             "ticks": ""
            },
            "colorscale": [
             [
              0,
              "#0d0887"
             ],
             [
              0.1111111111111111,
              "#46039f"
             ],
             [
              0.2222222222222222,
              "#7201a8"
             ],
             [
              0.3333333333333333,
              "#9c179e"
             ],
             [
              0.4444444444444444,
              "#bd3786"
             ],
             [
              0.5555555555555556,
              "#d8576b"
             ],
             [
              0.6666666666666666,
              "#ed7953"
             ],
             [
              0.7777777777777778,
              "#fb9f3a"
             ],
             [
              0.8888888888888888,
              "#fdca26"
             ],
             [
              1,
              "#f0f921"
             ]
            ],
            "type": "histogram2d"
           }
          ],
          "histogram2dcontour": [
           {
            "colorbar": {
             "outlinewidth": 0,
             "ticks": ""
            },
            "colorscale": [
             [
              0,
              "#0d0887"
             ],
             [
              0.1111111111111111,
              "#46039f"
             ],
             [
              0.2222222222222222,
              "#7201a8"
             ],
             [
              0.3333333333333333,
              "#9c179e"
             ],
             [
              0.4444444444444444,
              "#bd3786"
             ],
             [
              0.5555555555555556,
              "#d8576b"
             ],
             [
              0.6666666666666666,
              "#ed7953"
             ],
             [
              0.7777777777777778,
              "#fb9f3a"
             ],
             [
              0.8888888888888888,
              "#fdca26"
             ],
             [
              1,
              "#f0f921"
             ]
            ],
            "type": "histogram2dcontour"
           }
          ],
          "mesh3d": [
           {
            "colorbar": {
             "outlinewidth": 0,
             "ticks": ""
            },
            "type": "mesh3d"
           }
          ],
          "parcoords": [
           {
            "line": {
             "colorbar": {
              "outlinewidth": 0,
              "ticks": ""
             }
            },
            "type": "parcoords"
           }
          ],
          "pie": [
           {
            "automargin": true,
            "type": "pie"
           }
          ],
          "scatter": [
           {
            "fillpattern": {
             "fillmode": "overlay",
             "size": 10,
             "solidity": 0.2
            },
            "type": "scatter"
           }
          ],
          "scatter3d": [
           {
            "line": {
             "colorbar": {
              "outlinewidth": 0,
              "ticks": ""
             }
            },
            "marker": {
             "colorbar": {
              "outlinewidth": 0,
              "ticks": ""
             }
            },
            "type": "scatter3d"
           }
          ],
          "scattercarpet": [
           {
            "marker": {
             "colorbar": {
              "outlinewidth": 0,
              "ticks": ""
             }
            },
            "type": "scattercarpet"
           }
          ],
          "scattergeo": [
           {
            "marker": {
             "colorbar": {
              "outlinewidth": 0,
              "ticks": ""
             }
            },
            "type": "scattergeo"
           }
          ],
          "scattergl": [
           {
            "marker": {
             "colorbar": {
              "outlinewidth": 0,
              "ticks": ""
             }
            },
            "type": "scattergl"
           }
          ],
          "scattermap": [
           {
            "marker": {
             "colorbar": {
              "outlinewidth": 0,
              "ticks": ""
             }
            },
            "type": "scattermap"
           }
          ],
          "scattermapbox": [
           {
            "marker": {
             "colorbar": {
              "outlinewidth": 0,
              "ticks": ""
             }
            },
            "type": "scattermapbox"
           }
          ],
          "scatterpolar": [
           {
            "marker": {
             "colorbar": {
              "outlinewidth": 0,
              "ticks": ""
             }
            },
            "type": "scatterpolar"
           }
          ],
          "scatterpolargl": [
           {
            "marker": {
             "colorbar": {
              "outlinewidth": 0,
              "ticks": ""
             }
            },
            "type": "scatterpolargl"
           }
          ],
          "scatterternary": [
           {
            "marker": {
             "colorbar": {
              "outlinewidth": 0,
              "ticks": ""
             }
            },
            "type": "scatterternary"
           }
          ],
          "surface": [
           {
            "colorbar": {
             "outlinewidth": 0,
             "ticks": ""
            },
            "colorscale": [
             [
              0,
              "#0d0887"
             ],
             [
              0.1111111111111111,
              "#46039f"
             ],
             [
              0.2222222222222222,
              "#7201a8"
             ],
             [
              0.3333333333333333,
              "#9c179e"
             ],
             [
              0.4444444444444444,
              "#bd3786"
             ],
             [
              0.5555555555555556,
              "#d8576b"
             ],
             [
              0.6666666666666666,
              "#ed7953"
             ],
             [
              0.7777777777777778,
              "#fb9f3a"
             ],
             [
              0.8888888888888888,
              "#fdca26"
             ],
             [
              1,
              "#f0f921"
             ]
            ],
            "type": "surface"
           }
          ],
          "table": [
           {
            "cells": {
             "fill": {
              "color": "#EBF0F8"
             },
             "line": {
              "color": "white"
             }
            },
            "header": {
             "fill": {
              "color": "#C8D4E3"
             },
             "line": {
              "color": "white"
             }
            },
            "type": "table"
           }
          ]
         },
         "layout": {
          "annotationdefaults": {
           "arrowcolor": "#2a3f5f",
           "arrowhead": 0,
           "arrowwidth": 1
          },
          "autotypenumbers": "strict",
          "coloraxis": {
           "colorbar": {
            "outlinewidth": 0,
            "ticks": ""
           }
          },
          "colorscale": {
           "diverging": [
            [
             0,
             "#8e0152"
            ],
            [
             0.1,
             "#c51b7d"
            ],
            [
             0.2,
             "#de77ae"
            ],
            [
             0.3,
             "#f1b6da"
            ],
            [
             0.4,
             "#fde0ef"
            ],
            [
             0.5,
             "#f7f7f7"
            ],
            [
             0.6,
             "#e6f5d0"
            ],
            [
             0.7,
             "#b8e186"
            ],
            [
             0.8,
             "#7fbc41"
            ],
            [
             0.9,
             "#4d9221"
            ],
            [
             1,
             "#276419"
            ]
           ],
           "sequential": [
            [
             0,
             "#0d0887"
            ],
            [
             0.1111111111111111,
             "#46039f"
            ],
            [
             0.2222222222222222,
             "#7201a8"
            ],
            [
             0.3333333333333333,
             "#9c179e"
            ],
            [
             0.4444444444444444,
             "#bd3786"
            ],
            [
             0.5555555555555556,
             "#d8576b"
            ],
            [
             0.6666666666666666,
             "#ed7953"
            ],
            [
             0.7777777777777778,
             "#fb9f3a"
            ],
            [
             0.8888888888888888,
             "#fdca26"
            ],
            [
             1,
             "#f0f921"
            ]
           ],
           "sequentialminus": [
            [
             0,
             "#0d0887"
            ],
            [
             0.1111111111111111,
             "#46039f"
            ],
            [
             0.2222222222222222,
             "#7201a8"
            ],
            [
             0.3333333333333333,
             "#9c179e"
            ],
            [
             0.4444444444444444,
             "#bd3786"
            ],
            [
             0.5555555555555556,
             "#d8576b"
            ],
            [
             0.6666666666666666,
             "#ed7953"
            ],
            [
             0.7777777777777778,
             "#fb9f3a"
            ],
            [
             0.8888888888888888,
             "#fdca26"
            ],
            [
             1,
             "#f0f921"
            ]
           ]
          },
          "colorway": [
           "#636efa",
           "#EF553B",
           "#00cc96",
           "#ab63fa",
           "#FFA15A",
           "#19d3f3",
           "#FF6692",
           "#B6E880",
           "#FF97FF",
           "#FECB52"
          ],
          "font": {
           "color": "#2a3f5f"
          },
          "geo": {
           "bgcolor": "white",
           "lakecolor": "white",
           "landcolor": "white",
           "showlakes": true,
           "showland": true,
           "subunitcolor": "#C8D4E3"
          },
          "hoverlabel": {
           "align": "left"
          },
          "hovermode": "closest",
          "mapbox": {
           "style": "light"
          },
          "paper_bgcolor": "white",
          "plot_bgcolor": "white",
          "polar": {
           "angularaxis": {
            "gridcolor": "#EBF0F8",
            "linecolor": "#EBF0F8",
            "ticks": ""
           },
           "bgcolor": "white",
           "radialaxis": {
            "gridcolor": "#EBF0F8",
            "linecolor": "#EBF0F8",
            "ticks": ""
           }
          },
          "scene": {
           "xaxis": {
            "backgroundcolor": "white",
            "gridcolor": "#DFE8F3",
            "gridwidth": 2,
            "linecolor": "#EBF0F8",
            "showbackground": true,
            "ticks": "",
            "zerolinecolor": "#EBF0F8"
           },
           "yaxis": {
            "backgroundcolor": "white",
            "gridcolor": "#DFE8F3",
            "gridwidth": 2,
            "linecolor": "#EBF0F8",
            "showbackground": true,
            "ticks": "",
            "zerolinecolor": "#EBF0F8"
           },
           "zaxis": {
            "backgroundcolor": "white",
            "gridcolor": "#DFE8F3",
            "gridwidth": 2,
            "linecolor": "#EBF0F8",
            "showbackground": true,
            "ticks": "",
            "zerolinecolor": "#EBF0F8"
           }
          },
          "shapedefaults": {
           "line": {
            "color": "#2a3f5f"
           }
          },
          "ternary": {
           "aaxis": {
            "gridcolor": "#DFE8F3",
            "linecolor": "#A2B1C6",
            "ticks": ""
           },
           "baxis": {
            "gridcolor": "#DFE8F3",
            "linecolor": "#A2B1C6",
            "ticks": ""
           },
           "bgcolor": "white",
           "caxis": {
            "gridcolor": "#DFE8F3",
            "linecolor": "#A2B1C6",
            "ticks": ""
           }
          },
          "title": {
           "x": 0.05
          },
          "xaxis": {
           "automargin": true,
           "gridcolor": "#EBF0F8",
           "linecolor": "#EBF0F8",
           "ticks": "",
           "title": {
            "standoff": 15
           },
           "zerolinecolor": "#EBF0F8",
           "zerolinewidth": 2
          },
          "yaxis": {
           "automargin": true,
           "gridcolor": "#EBF0F8",
           "linecolor": "#EBF0F8",
           "ticks": "",
           "title": {
            "standoff": 15
           },
           "zerolinecolor": "#EBF0F8",
           "zerolinewidth": 2
          }
         }
        },
        "title": {
         "text": "Average total Price by Product Category"
        },
        "xaxis": {
         "anchor": "y",
         "domain": [
          0,
          1
         ],
         "title": {
          "text": "product_category_name"
         }
        },
        "yaxis": {
         "anchor": "x",
         "domain": [
          0,
          1
         ],
         "title": {
          "text": "total_price"
         }
        }
       }
      }
     },
     "metadata": {},
     "output_type": "display_data"
    }
   ],
   "source": [
    "fig = px.bar(df, x='product_category_name', y='total_price', title='Average total Price by Product Category')\n",
    "fig.show()"
   ]
  },
  {
   "cell_type": "code",
   "execution_count": 11,
   "id": "6c1ec003",
   "metadata": {},
   "outputs": [
    {
     "data": {
      "application/vnd.plotly.v1+json": {
       "config": {
        "plotlyServerURL": "https://plot.ly"
       },
       "data": [
        {
         "alignmentgroup": "True",
         "hovertemplate": "weekday=%{x}<br>total_price=%{y}<extra></extra>",
         "legendgroup": "",
         "marker": {
          "color": "#636efa"
         },
         "name": "",
         "notched": false,
         "offsetgroup": "",
         "orientation": "v",
         "showlegend": false,
         "type": "box",
         "x": {
          "bdata": "FxYVFxUWFhUXFBYVFxUWFxcUFxYVFxUWFhUXFBYVFRcVFhYVFBYVFxUWFBcVFxUWFhUXFBYVFxUWFxQXFBcWFRcVFhYVFxQWFxUWFxUXFhYVFxQWFRcUFhUXFRYXFhUXFRYWFRcUFhUWFxQXFhUXFRYWFRcUFhUXFxYVFxUWFhUXFBYVFxUWFxUXFRYWFRcUFhUXFRYXFhUXFBYVFRYXFhUXFRYWFRcUFhUXFRYXFxQWFRcVFhcXFhUXFRYXFxYVFxUWFhUXFBYVFxUWFxQWFRcVFhcWFRcVFhYVFxQWFRcVFhcXFRYWFRcUFhUUFBUWFhUXFBYVFxUWFxQXFhUXFRYWFRcUFhUXFRYXFhUXFRYWFRQWFRcVFhcVFxYVFxUXFxUWFhUXFBYVFxUWFxcUFxYVFxYWFRcUFhUXFhUXFRYWFRcUFhUVFhcVFxUWFhUXFBYVFhQXFBcWFRcVFhYVFxQWFRcVFhcVFhcUFhUXFRYXFhUXFBYVFxUWFxcVFhYVFxQWFRcWFBcUFxYVFxUWFhUXFBYVFxUWFxYWFRcUFhUXFRYXFBcUFxYVFRYWFRcUFhUXFRYXFBcUFxYVFxUWFhUXFBYVFxUWFxcVFhYVFxQWFRcVFxYVFxQWFRcVFhcXFhUXFhYVFxQWFRcVFhcVFxYWFRcUFhUXFRYXFBcWFRcVFhYVFxQWFRcVFhcVFxUWFhcUFhUXFRYXFxUWFhUXFBYVFxUWFxQXFxYVFxUWFhUXFBYVFxUWFxQXFBcWFRcVFhYVFxQWFRQXFBYVFxUWFhUXFBYVFxUWFxcVFhYVFxQWFRcVFhcWFRcVFhYVFxQWFhUXFBYVFxUWFxcUFhUXFRYWFRcUFhUXFRYXFhUXFBYVFxUWFxYWFRcUFhUXFRYXFhUXFQ==",
          "dtype": "i1"
         },
         "x0": " ",
         "xaxis": "x",
         "y": {
          "bdata": "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",
          "dtype": "f8"
         },
         "y0": " ",
         "yaxis": "y"
        }
       ],
       "layout": {
        "boxmode": "group",
        "legend": {
         "tracegroupgap": 0
        },
        "template": {
         "data": {
          "bar": [
           {
            "error_x": {
             "color": "#2a3f5f"
            },
            "error_y": {
             "color": "#2a3f5f"
            },
            "marker": {
             "line": {
              "color": "white",
              "width": 0.5
             },
             "pattern": {
              "fillmode": "overlay",
              "size": 10,
              "solidity": 0.2
             }
            },
            "type": "bar"
           }
          ],
          "barpolar": [
           {
            "marker": {
             "line": {
              "color": "white",
              "width": 0.5
             },
             "pattern": {
              "fillmode": "overlay",
              "size": 10,
              "solidity": 0.2
             }
            },
            "type": "barpolar"
           }
          ],
          "carpet": [
           {
            "aaxis": {
             "endlinecolor": "#2a3f5f",
             "gridcolor": "#C8D4E3",
             "linecolor": "#C8D4E3",
             "minorgridcolor": "#C8D4E3",
             "startlinecolor": "#2a3f5f"
            },
            "baxis": {
             "endlinecolor": "#2a3f5f",
             "gridcolor": "#C8D4E3",
             "linecolor": "#C8D4E3",
             "minorgridcolor": "#C8D4E3",
             "startlinecolor": "#2a3f5f"
            },
            "type": "carpet"
           }
          ],
          "choropleth": [
           {
            "colorbar": {
             "outlinewidth": 0,
             "ticks": ""
            },
            "type": "choropleth"
           }
          ],
          "contour": [
           {
            "colorbar": {
             "outlinewidth": 0,
             "ticks": ""
            },
            "colorscale": [
             [
              0,
              "#0d0887"
             ],
             [
              0.1111111111111111,
              "#46039f"
             ],
             [
              0.2222222222222222,
              "#7201a8"
             ],
             [
              0.3333333333333333,
              "#9c179e"
             ],
             [
              0.4444444444444444,
              "#bd3786"
             ],
             [
              0.5555555555555556,
              "#d8576b"
             ],
             [
              0.6666666666666666,
              "#ed7953"
             ],
             [
              0.7777777777777778,
              "#fb9f3a"
             ],
             [
              0.8888888888888888,
              "#fdca26"
             ],
             [
              1,
              "#f0f921"
             ]
            ],
            "type": "contour"
           }
          ],
          "contourcarpet": [
           {
            "colorbar": {
             "outlinewidth": 0,
             "ticks": ""
            },
            "type": "contourcarpet"
           }
          ],
          "heatmap": [
           {
            "colorbar": {
             "outlinewidth": 0,
             "ticks": ""
            },
            "colorscale": [
             [
              0,
              "#0d0887"
             ],
             [
              0.1111111111111111,
              "#46039f"
             ],
             [
              0.2222222222222222,
              "#7201a8"
             ],
             [
              0.3333333333333333,
              "#9c179e"
             ],
             [
              0.4444444444444444,
              "#bd3786"
             ],
             [
              0.5555555555555556,
              "#d8576b"
             ],
             [
              0.6666666666666666,
              "#ed7953"
             ],
             [
              0.7777777777777778,
              "#fb9f3a"
             ],
             [
              0.8888888888888888,
              "#fdca26"
             ],
             [
              1,
              "#f0f921"
             ]
            ],
            "type": "heatmap"
           }
          ],
          "histogram": [
           {
            "marker": {
             "pattern": {
              "fillmode": "overlay",
              "size": 10,
              "solidity": 0.2
             }
            },
            "type": "histogram"
           }
          ],
          "histogram2d": [
           {
            "colorbar": {
             "outlinewidth": 0,
             "ticks": ""
            },
            "colorscale": [
             [
              0,
              "#0d0887"
             ],
             [
              0.1111111111111111,
              "#46039f"
             ],
             [
              0.2222222222222222,
              "#7201a8"
             ],
             [
              0.3333333333333333,
              "#9c179e"
             ],
             [
              0.4444444444444444,
              "#bd3786"
             ],
             [
              0.5555555555555556,
              "#d8576b"
             ],
             [
              0.6666666666666666,
              "#ed7953"
             ],
             [
              0.7777777777777778,
              "#fb9f3a"
             ],
             [
              0.8888888888888888,
              "#fdca26"
             ],
             [
              1,
              "#f0f921"
             ]
            ],
            "type": "histogram2d"
           }
          ],
          "histogram2dcontour": [
           {
            "colorbar": {
             "outlinewidth": 0,
             "ticks": ""
            },
            "colorscale": [
             [
              0,
              "#0d0887"
             ],
             [
              0.1111111111111111,
              "#46039f"
             ],
             [
              0.2222222222222222,
              "#7201a8"
             ],
             [
              0.3333333333333333,
              "#9c179e"
             ],
             [
              0.4444444444444444,
              "#bd3786"
             ],
             [
              0.5555555555555556,
              "#d8576b"
             ],
             [
              0.6666666666666666,
              "#ed7953"
             ],
             [
              0.7777777777777778,
              "#fb9f3a"
             ],
             [
              0.8888888888888888,
              "#fdca26"
             ],
             [
              1,
              "#f0f921"
             ]
            ],
            "type": "histogram2dcontour"
           }
          ],
          "mesh3d": [
           {
            "colorbar": {
             "outlinewidth": 0,
             "ticks": ""
            },
            "type": "mesh3d"
           }
          ],
          "parcoords": [
           {
            "line": {
             "colorbar": {
              "outlinewidth": 0,
              "ticks": ""
             }
            },
            "type": "parcoords"
           }
          ],
          "pie": [
           {
            "automargin": true,
            "type": "pie"
           }
          ],
          "scatter": [
           {
            "fillpattern": {
             "fillmode": "overlay",
             "size": 10,
             "solidity": 0.2
            },
            "type": "scatter"
           }
          ],
          "scatter3d": [
           {
            "line": {
             "colorbar": {
              "outlinewidth": 0,
              "ticks": ""
             }
            },
            "marker": {
             "colorbar": {
              "outlinewidth": 0,
              "ticks": ""
             }
            },
            "type": "scatter3d"
           }
          ],
          "scattercarpet": [
           {
            "marker": {
             "colorbar": {
              "outlinewidth": 0,
              "ticks": ""
             }
            },
            "type": "scattercarpet"
           }
          ],
          "scattergeo": [
           {
            "marker": {
             "colorbar": {
              "outlinewidth": 0,
              "ticks": ""
             }
            },
            "type": "scattergeo"
           }
          ],
          "scattergl": [
           {
            "marker": {
             "colorbar": {
              "outlinewidth": 0,
              "ticks": ""
             }
            },
            "type": "scattergl"
           }
          ],
          "scattermap": [
           {
            "marker": {
             "colorbar": {
              "outlinewidth": 0,
              "ticks": ""
             }
            },
            "type": "scattermap"
           }
          ],
          "scattermapbox": [
           {
            "marker": {
             "colorbar": {
              "outlinewidth": 0,
              "ticks": ""
             }
            },
            "type": "scattermapbox"
           }
          ],
          "scatterpolar": [
           {
            "marker": {
             "colorbar": {
              "outlinewidth": 0,
              "ticks": ""
             }
            },
            "type": "scatterpolar"
           }
          ],
          "scatterpolargl": [
           {
            "marker": {
             "colorbar": {
              "outlinewidth": 0,
              "ticks": ""
             }
            },
            "type": "scatterpolargl"
           }
          ],
          "scatterternary": [
           {
            "marker": {
             "colorbar": {
              "outlinewidth": 0,
              "ticks": ""
             }
            },
            "type": "scatterternary"
           }
          ],
          "surface": [
           {
            "colorbar": {
             "outlinewidth": 0,
             "ticks": ""
            },
            "colorscale": [
             [
              0,
              "#0d0887"
             ],
             [
              0.1111111111111111,
              "#46039f"
             ],
             [
              0.2222222222222222,
              "#7201a8"
             ],
             [
              0.3333333333333333,
              "#9c179e"
             ],
             [
              0.4444444444444444,
              "#bd3786"
             ],
             [
              0.5555555555555556,
              "#d8576b"
             ],
             [
              0.6666666666666666,
              "#ed7953"
             ],
             [
              0.7777777777777778,
              "#fb9f3a"
             ],
             [
              0.8888888888888888,
              "#fdca26"
             ],
             [
              1,
              "#f0f921"
             ]
            ],
            "type": "surface"
           }
          ],
          "table": [
           {
            "cells": {
             "fill": {
              "color": "#EBF0F8"
             },
             "line": {
              "color": "white"
             }
            },
            "header": {
             "fill": {
              "color": "#C8D4E3"
             },
             "line": {
              "color": "white"
             }
            },
            "type": "table"
           }
          ]
         },
         "layout": {
          "annotationdefaults": {
           "arrowcolor": "#2a3f5f",
           "arrowhead": 0,
           "arrowwidth": 1
          },
          "autotypenumbers": "strict",
          "coloraxis": {
           "colorbar": {
            "outlinewidth": 0,
            "ticks": ""
           }
          },
          "colorscale": {
           "diverging": [
            [
             0,
             "#8e0152"
            ],
            [
             0.1,
             "#c51b7d"
            ],
            [
             0.2,
             "#de77ae"
            ],
            [
             0.3,
             "#f1b6da"
            ],
            [
             0.4,
             "#fde0ef"
            ],
            [
             0.5,
             "#f7f7f7"
            ],
            [
             0.6,
             "#e6f5d0"
            ],
            [
             0.7,
             "#b8e186"
            ],
            [
             0.8,
             "#7fbc41"
            ],
            [
             0.9,
             "#4d9221"
            ],
            [
             1,
             "#276419"
            ]
           ],
           "sequential": [
            [
             0,
             "#0d0887"
            ],
            [
             0.1111111111111111,
             "#46039f"
            ],
            [
             0.2222222222222222,
             "#7201a8"
            ],
            [
             0.3333333333333333,
             "#9c179e"
            ],
            [
             0.4444444444444444,
             "#bd3786"
            ],
            [
             0.5555555555555556,
             "#d8576b"
            ],
            [
             0.6666666666666666,
             "#ed7953"
            ],
            [
             0.7777777777777778,
             "#fb9f3a"
            ],
            [
             0.8888888888888888,
             "#fdca26"
            ],
            [
             1,
             "#f0f921"
            ]
           ],
           "sequentialminus": [
            [
             0,
             "#0d0887"
            ],
            [
             0.1111111111111111,
             "#46039f"
            ],
            [
             0.2222222222222222,
             "#7201a8"
            ],
            [
             0.3333333333333333,
             "#9c179e"
            ],
            [
             0.4444444444444444,
             "#bd3786"
            ],
            [
             0.5555555555555556,
             "#d8576b"
            ],
            [
             0.6666666666666666,
             "#ed7953"
            ],
            [
             0.7777777777777778,
             "#fb9f3a"
            ],
            [
             0.8888888888888888,
             "#fdca26"
            ],
            [
             1,
             "#f0f921"
            ]
           ]
          },
          "colorway": [
           "#636efa",
           "#EF553B",
           "#00cc96",
           "#ab63fa",
           "#FFA15A",
           "#19d3f3",
           "#FF6692",
           "#B6E880",
           "#FF97FF",
           "#FECB52"
          ],
          "font": {
           "color": "#2a3f5f"
          },
          "geo": {
           "bgcolor": "white",
           "lakecolor": "white",
           "landcolor": "white",
           "showlakes": true,
           "showland": true,
           "subunitcolor": "#C8D4E3"
          },
          "hoverlabel": {
           "align": "left"
          },
          "hovermode": "closest",
          "mapbox": {
           "style": "light"
          },
          "paper_bgcolor": "white",
          "plot_bgcolor": "white",
          "polar": {
           "angularaxis": {
            "gridcolor": "#EBF0F8",
            "linecolor": "#EBF0F8",
            "ticks": ""
           },
           "bgcolor": "white",
           "radialaxis": {
            "gridcolor": "#EBF0F8",
            "linecolor": "#EBF0F8",
            "ticks": ""
           }
          },
          "scene": {
           "xaxis": {
            "backgroundcolor": "white",
            "gridcolor": "#DFE8F3",
            "gridwidth": 2,
            "linecolor": "#EBF0F8",
            "showbackground": true,
            "ticks": "",
            "zerolinecolor": "#EBF0F8"
           },
           "yaxis": {
            "backgroundcolor": "white",
            "gridcolor": "#DFE8F3",
            "gridwidth": 2,
            "linecolor": "#EBF0F8",
            "showbackground": true,
            "ticks": "",
            "zerolinecolor": "#EBF0F8"
           },
           "zaxis": {
            "backgroundcolor": "white",
            "gridcolor": "#DFE8F3",
            "gridwidth": 2,
            "linecolor": "#EBF0F8",
            "showbackground": true,
            "ticks": "",
            "zerolinecolor": "#EBF0F8"
           }
          },
          "shapedefaults": {
           "line": {
            "color": "#2a3f5f"
           }
          },
          "ternary": {
           "aaxis": {
            "gridcolor": "#DFE8F3",
            "linecolor": "#A2B1C6",
            "ticks": ""
           },
           "baxis": {
            "gridcolor": "#DFE8F3",
            "linecolor": "#A2B1C6",
            "ticks": ""
           },
           "bgcolor": "white",
           "caxis": {
            "gridcolor": "#DFE8F3",
            "linecolor": "#A2B1C6",
            "ticks": ""
           }
          },
          "title": {
           "x": 0.05
          },
          "xaxis": {
           "automargin": true,
           "gridcolor": "#EBF0F8",
           "linecolor": "#EBF0F8",
           "ticks": "",
           "title": {
            "standoff": 15
           },
           "zerolinecolor": "#EBF0F8",
           "zerolinewidth": 2
          },
          "yaxis": {
           "automargin": true,
           "gridcolor": "#EBF0F8",
           "linecolor": "#EBF0F8",
           "ticks": "",
           "title": {
            "standoff": 15
           },
           "zerolinecolor": "#EBF0F8",
           "zerolinewidth": 2
          }
         }
        },
        "title": {
         "text": "Box Plot of Total Price by Weekday"
        },
        "xaxis": {
         "anchor": "y",
         "domain": [
          0,
          1
         ],
         "title": {
          "text": "weekday"
         }
        },
        "yaxis": {
         "anchor": "x",
         "domain": [
          0,
          1
         ],
         "title": {
          "text": "total_price"
         }
        }
       }
      }
     },
     "metadata": {},
     "output_type": "display_data"
    }
   ],
   "source": [
    "fig = px.box(df, x='weekday', y='total_price', title='Box Plot of Total Price by Weekday')\n",
    "fig.show()"
   ]
  },
  {
   "cell_type": "code",
   "execution_count": 12,
   "id": "adff4c02",
   "metadata": {},
   "outputs": [
    {
     "data": {
      "application/vnd.plotly.v1+json": {
       "config": {
        "plotlyServerURL": "https://plot.ly"
       },
       "data": [
        {
         "alignmentgroup": "True",
         "hovertemplate": "holiday=%{x}<br>total_price=%{y}<extra></extra>",
         "legendgroup": "",
         "marker": {
          "color": "#636efa"
         },
         "name": "",
         "notched": false,
         "offsetgroup": "",
         "orientation": "v",
         "showlegend": false,
         "type": "box",
         "x": {
          "bdata": "AQEBAQECBAECAgEBAwABAQECAQEBAQECBAECAgEBAQEBAgQBAgEBAwABAgEBAQECBAECAgEBAwABAQIBAgEBAQEBAgQBAgIBAwABAQEBAgQBAgIBAQICAQEDAAEBAQEBAQIEAQICAQEBAQIBAQEBAQIEAQICAQEBAQEBAQECBAECAgEBAwABAQEBAQIEAQICAQEDAAEBAgECAgEBAAEBAQEBAQIEAQICAQEDAAEBAgIBAQMAAQECAQEDAAEBAQEBAQECBAECAgEBAwABAQIBAQMAAQEBAQEBAgQBAgIBAQMAAQEBAQIEAQICAQACAgECBAECAgEBAwABAQIBAQEBAQIEAQICAQEDAAEBAQEBAQIEAQIBAQMAAQEBAgEBAwABAQECBAECAgEBAwABAQECAQEBAQIEAQICAQEBAQEBAQIEAQICAQEAAQEBAQECBAECAgEBAQIBAgEBAQEBAgQBAgIBAQMAAQEBAgICAQEDAAEBBAECAgEBAwABAQEBAgQBAgIBAQMBAgECAQEBAQECBAECAgEBAwABAQIEAQICAQEDAAEBAgECAQEBAQIEAQICAQEDAAEBAgECAQEBAQECBAECAgEBAwABAQEBAgQBAgIBAQMAAQQBAgIBAQMAAQEBAQEBAgQBAgIBAQMAAQEBAQIEAQICAQEDAAEBAgEBAQEBAgQBAgIBAQMAAQEBAQECBAICAQEDAAEBAQECBAECAgEBAwABAQIBAQEBAQECBAECAgEBAwABAQIBAgEBAQEBAgQBAgIBAQIBAgEBAQECBAECAgEBAwABAQEBAgQBAgIBAQMAAQEBAQEBAgQBAgICBAECAgEBAwABAQECAQEBAQIEAQICAQEDAAEBBAECAgEBAwABAQIEAQICAQEDAAEBAQEBAQ==",
          "dtype": "i1"
         },
         "x0": " ",
         "xaxis": "x",
         "y": {
          "bdata": "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",
          "dtype": "f8"
         },
         "y0": " ",
         "yaxis": "y"
        }
       ],
       "layout": {
        "boxmode": "group",
        "legend": {
         "tracegroupgap": 0
        },
        "template": {
         "data": {
          "bar": [
           {
            "error_x": {
             "color": "#2a3f5f"
            },
            "error_y": {
             "color": "#2a3f5f"
            },
            "marker": {
             "line": {
              "color": "white",
              "width": 0.5
             },
             "pattern": {
              "fillmode": "overlay",
              "size": 10,
              "solidity": 0.2
             }
            },
            "type": "bar"
           }
          ],
          "barpolar": [
           {
            "marker": {
             "line": {
              "color": "white",
              "width": 0.5
             },
             "pattern": {
              "fillmode": "overlay",
              "size": 10,
              "solidity": 0.2
             }
            },
            "type": "barpolar"
           }
          ],
          "carpet": [
           {
            "aaxis": {
             "endlinecolor": "#2a3f5f",
             "gridcolor": "#C8D4E3",
             "linecolor": "#C8D4E3",
             "minorgridcolor": "#C8D4E3",
             "startlinecolor": "#2a3f5f"
            },
            "baxis": {
             "endlinecolor": "#2a3f5f",
             "gridcolor": "#C8D4E3",
             "linecolor": "#C8D4E3",
             "minorgridcolor": "#C8D4E3",
             "startlinecolor": "#2a3f5f"
            },
            "type": "carpet"
           }
          ],
          "choropleth": [
           {
            "colorbar": {
             "outlinewidth": 0,
             "ticks": ""
            },
            "type": "choropleth"
           }
          ],
          "contour": [
           {
            "colorbar": {
             "outlinewidth": 0,
             "ticks": ""
            },
            "colorscale": [
             [
              0,
              "#0d0887"
             ],
             [
              0.1111111111111111,
              "#46039f"
             ],
             [
              0.2222222222222222,
              "#7201a8"
             ],
             [
              0.3333333333333333,
              "#9c179e"
             ],
             [
              0.4444444444444444,
              "#bd3786"
             ],
             [
              0.5555555555555556,
              "#d8576b"
             ],
             [
              0.6666666666666666,
              "#ed7953"
             ],
             [
              0.7777777777777778,
              "#fb9f3a"
             ],
             [
              0.8888888888888888,
              "#fdca26"
             ],
             [
              1,
              "#f0f921"
             ]
            ],
            "type": "contour"
           }
          ],
          "contourcarpet": [
           {
            "colorbar": {
             "outlinewidth": 0,
             "ticks": ""
            },
            "type": "contourcarpet"
           }
          ],
          "heatmap": [
           {
            "colorbar": {
             "outlinewidth": 0,
             "ticks": ""
            },
            "colorscale": [
             [
              0,
              "#0d0887"
             ],
             [
              0.1111111111111111,
              "#46039f"
             ],
             [
              0.2222222222222222,
              "#7201a8"
             ],
             [
              0.3333333333333333,
              "#9c179e"
             ],
             [
              0.4444444444444444,
              "#bd3786"
             ],
             [
              0.5555555555555556,
              "#d8576b"
             ],
             [
              0.6666666666666666,
              "#ed7953"
             ],
             [
              0.7777777777777778,
              "#fb9f3a"
             ],
             [
              0.8888888888888888,
              "#fdca26"
             ],
             [
              1,
              "#f0f921"
             ]
            ],
            "type": "heatmap"
           }
          ],
          "histogram": [
           {
            "marker": {
             "pattern": {
              "fillmode": "overlay",
              "size": 10,
              "solidity": 0.2
             }
            },
            "type": "histogram"
           }
          ],
          "histogram2d": [
           {
            "colorbar": {
             "outlinewidth": 0,
             "ticks": ""
            },
            "colorscale": [
             [
              0,
              "#0d0887"
             ],
             [
              0.1111111111111111,
              "#46039f"
             ],
             [
              0.2222222222222222,
              "#7201a8"
             ],
             [
              0.3333333333333333,
              "#9c179e"
             ],
             [
              0.4444444444444444,
              "#bd3786"
             ],
             [
              0.5555555555555556,
              "#d8576b"
             ],
             [
              0.6666666666666666,
              "#ed7953"
             ],
             [
              0.7777777777777778,
              "#fb9f3a"
             ],
             [
              0.8888888888888888,
              "#fdca26"
             ],
             [
              1,
              "#f0f921"
             ]
            ],
            "type": "histogram2d"
           }
          ],
          "histogram2dcontour": [
           {
            "colorbar": {
             "outlinewidth": 0,
             "ticks": ""
            },
            "colorscale": [
             [
              0,
              "#0d0887"
             ],
             [
              0.1111111111111111,
              "#46039f"
             ],
             [
              0.2222222222222222,
              "#7201a8"
             ],
             [
              0.3333333333333333,
              "#9c179e"
             ],
             [
              0.4444444444444444,
              "#bd3786"
             ],
             [
              0.5555555555555556,
              "#d8576b"
             ],
             [
              0.6666666666666666,
              "#ed7953"
             ],
             [
              0.7777777777777778,
              "#fb9f3a"
             ],
             [
              0.8888888888888888,
              "#fdca26"
             ],
             [
              1,
              "#f0f921"
             ]
            ],
            "type": "histogram2dcontour"
           }
          ],
          "mesh3d": [
           {
            "colorbar": {
             "outlinewidth": 0,
             "ticks": ""
            },
            "type": "mesh3d"
           }
          ],
          "parcoords": [
           {
            "line": {
             "colorbar": {
              "outlinewidth": 0,
              "ticks": ""
             }
            },
            "type": "parcoords"
           }
          ],
          "pie": [
           {
            "automargin": true,
            "type": "pie"
           }
          ],
          "scatter": [
           {
            "fillpattern": {
             "fillmode": "overlay",
             "size": 10,
             "solidity": 0.2
            },
            "type": "scatter"
           }
          ],
          "scatter3d": [
           {
            "line": {
             "colorbar": {
              "outlinewidth": 0,
              "ticks": ""
             }
            },
            "marker": {
             "colorbar": {
              "outlinewidth": 0,
              "ticks": ""
             }
            },
            "type": "scatter3d"
           }
          ],
          "scattercarpet": [
           {
            "marker": {
             "colorbar": {
              "outlinewidth": 0,
              "ticks": ""
             }
            },
            "type": "scattercarpet"
           }
          ],
          "scattergeo": [
           {
            "marker": {
             "colorbar": {
              "outlinewidth": 0,
              "ticks": ""
             }
            },
            "type": "scattergeo"
           }
          ],
          "scattergl": [
           {
            "marker": {
             "colorbar": {
              "outlinewidth": 0,
              "ticks": ""
             }
            },
            "type": "scattergl"
           }
          ],
          "scattermap": [
           {
            "marker": {
             "colorbar": {
              "outlinewidth": 0,
              "ticks": ""
             }
            },
            "type": "scattermap"
           }
          ],
          "scattermapbox": [
           {
            "marker": {
             "colorbar": {
              "outlinewidth": 0,
              "ticks": ""
             }
            },
            "type": "scattermapbox"
           }
          ],
          "scatterpolar": [
           {
            "marker": {
             "colorbar": {
              "outlinewidth": 0,
              "ticks": ""
             }
            },
            "type": "scatterpolar"
           }
          ],
          "scatterpolargl": [
           {
            "marker": {
             "colorbar": {
              "outlinewidth": 0,
              "ticks": ""
             }
            },
            "type": "scatterpolargl"
           }
          ],
          "scatterternary": [
           {
            "marker": {
             "colorbar": {
              "outlinewidth": 0,
              "ticks": ""
             }
            },
            "type": "scatterternary"
           }
          ],
          "surface": [
           {
            "colorbar": {
             "outlinewidth": 0,
             "ticks": ""
            },
            "colorscale": [
             [
              0,
              "#0d0887"
             ],
             [
              0.1111111111111111,
              "#46039f"
             ],
             [
              0.2222222222222222,
              "#7201a8"
             ],
             [
              0.3333333333333333,
              "#9c179e"
             ],
             [
              0.4444444444444444,
              "#bd3786"
             ],
             [
              0.5555555555555556,
              "#d8576b"
             ],
             [
              0.6666666666666666,
              "#ed7953"
             ],
             [
              0.7777777777777778,
              "#fb9f3a"
             ],
             [
              0.8888888888888888,
              "#fdca26"
             ],
             [
              1,
              "#f0f921"
             ]
            ],
            "type": "surface"
           }
          ],
          "table": [
           {
            "cells": {
             "fill": {
              "color": "#EBF0F8"
             },
             "line": {
              "color": "white"
             }
            },
            "header": {
             "fill": {
              "color": "#C8D4E3"
             },
             "line": {
              "color": "white"
             }
            },
            "type": "table"
           }
          ]
         },
         "layout": {
          "annotationdefaults": {
           "arrowcolor": "#2a3f5f",
           "arrowhead": 0,
           "arrowwidth": 1
          },
          "autotypenumbers": "strict",
          "coloraxis": {
           "colorbar": {
            "outlinewidth": 0,
            "ticks": ""
           }
          },
          "colorscale": {
           "diverging": [
            [
             0,
             "#8e0152"
            ],
            [
             0.1,
             "#c51b7d"
            ],
            [
             0.2,
             "#de77ae"
            ],
            [
             0.3,
             "#f1b6da"
            ],
            [
             0.4,
             "#fde0ef"
            ],
            [
             0.5,
             "#f7f7f7"
            ],
            [
             0.6,
             "#e6f5d0"
            ],
            [
             0.7,
             "#b8e186"
            ],
            [
             0.8,
             "#7fbc41"
            ],
            [
             0.9,
             "#4d9221"
            ],
            [
             1,
             "#276419"
            ]
           ],
           "sequential": [
            [
             0,
             "#0d0887"
            ],
            [
             0.1111111111111111,
             "#46039f"
            ],
            [
             0.2222222222222222,
             "#7201a8"
            ],
            [
             0.3333333333333333,
             "#9c179e"
            ],
            [
             0.4444444444444444,
             "#bd3786"
            ],
            [
             0.5555555555555556,
             "#d8576b"
            ],
            [
             0.6666666666666666,
             "#ed7953"
            ],
            [
             0.7777777777777778,
             "#fb9f3a"
            ],
            [
             0.8888888888888888,
             "#fdca26"
            ],
            [
             1,
             "#f0f921"
            ]
           ],
           "sequentialminus": [
            [
             0,
             "#0d0887"
            ],
            [
             0.1111111111111111,
             "#46039f"
            ],
            [
             0.2222222222222222,
             "#7201a8"
            ],
            [
             0.3333333333333333,
             "#9c179e"
            ],
            [
             0.4444444444444444,
             "#bd3786"
            ],
            [
             0.5555555555555556,
             "#d8576b"
            ],
            [
             0.6666666666666666,
             "#ed7953"
            ],
            [
             0.7777777777777778,
             "#fb9f3a"
            ],
            [
             0.8888888888888888,
             "#fdca26"
            ],
            [
             1,
             "#f0f921"
            ]
           ]
          },
          "colorway": [
           "#636efa",
           "#EF553B",
           "#00cc96",
           "#ab63fa",
           "#FFA15A",
           "#19d3f3",
           "#FF6692",
           "#B6E880",
           "#FF97FF",
           "#FECB52"
          ],
          "font": {
           "color": "#2a3f5f"
          },
          "geo": {
           "bgcolor": "white",
           "lakecolor": "white",
           "landcolor": "white",
           "showlakes": true,
           "showland": true,
           "subunitcolor": "#C8D4E3"
          },
          "hoverlabel": {
           "align": "left"
          },
          "hovermode": "closest",
          "mapbox": {
           "style": "light"
          },
          "paper_bgcolor": "white",
          "plot_bgcolor": "white",
          "polar": {
           "angularaxis": {
            "gridcolor": "#EBF0F8",
            "linecolor": "#EBF0F8",
            "ticks": ""
           },
           "bgcolor": "white",
           "radialaxis": {
            "gridcolor": "#EBF0F8",
            "linecolor": "#EBF0F8",
            "ticks": ""
           }
          },
          "scene": {
           "xaxis": {
            "backgroundcolor": "white",
            "gridcolor": "#DFE8F3",
            "gridwidth": 2,
            "linecolor": "#EBF0F8",
            "showbackground": true,
            "ticks": "",
            "zerolinecolor": "#EBF0F8"
           },
           "yaxis": {
            "backgroundcolor": "white",
            "gridcolor": "#DFE8F3",
            "gridwidth": 2,
            "linecolor": "#EBF0F8",
            "showbackground": true,
            "ticks": "",
            "zerolinecolor": "#EBF0F8"
           },
           "zaxis": {
            "backgroundcolor": "white",
            "gridcolor": "#DFE8F3",
            "gridwidth": 2,
            "linecolor": "#EBF0F8",
            "showbackground": true,
            "ticks": "",
            "zerolinecolor": "#EBF0F8"
           }
          },
          "shapedefaults": {
           "line": {
            "color": "#2a3f5f"
           }
          },
          "ternary": {
           "aaxis": {
            "gridcolor": "#DFE8F3",
            "linecolor": "#A2B1C6",
            "ticks": ""
           },
           "baxis": {
            "gridcolor": "#DFE8F3",
            "linecolor": "#A2B1C6",
            "ticks": ""
           },
           "bgcolor": "white",
           "caxis": {
            "gridcolor": "#DFE8F3",
            "linecolor": "#A2B1C6",
            "ticks": ""
           }
          },
          "title": {
           "x": 0.05
          },
          "xaxis": {
           "automargin": true,
           "gridcolor": "#EBF0F8",
           "linecolor": "#EBF0F8",
           "ticks": "",
           "title": {
            "standoff": 15
           },
           "zerolinecolor": "#EBF0F8",
           "zerolinewidth": 2
          },
          "yaxis": {
           "automargin": true,
           "gridcolor": "#EBF0F8",
           "linecolor": "#EBF0F8",
           "ticks": "",
           "title": {
            "standoff": 15
           },
           "zerolinecolor": "#EBF0F8",
           "zerolinewidth": 2
          }
         }
        },
        "title": {
         "text": "Box Plot of Total Price by Holiday"
        },
        "xaxis": {
         "anchor": "y",
         "domain": [
          0,
          1
         ],
         "title": {
          "text": "holiday"
         }
        },
        "yaxis": {
         "anchor": "x",
         "domain": [
          0,
          1
         ],
         "title": {
          "text": "total_price"
         }
        }
       }
      }
     },
     "metadata": {},
     "output_type": "display_data"
    }
   ],
   "source": [
    "fig = px.box(df, x='holiday', y='total_price', title='Box Plot of Total Price by Holiday')\n",
    "fig.show()"
   ]
  },
  {
   "cell_type": "code",
   "execution_count": 14,
   "id": "ff7f1b6b",
   "metadata": {},
   "outputs": [
    {
     "data": {
      "application/vnd.plotly.v1+json": {
       "config": {
        "plotlyServerURL": "https://plot.ly"
       },
       "data": [
        {
         "type": "heatmap",
         "x": [
          "qty",
          "total_price",
          "freight_price",
          "unit_price",
          "product_name_lenght",
          "product_description_lenght",
          "product_photos_qty",
          "product_weight_g",
          "product_score",
          "customers",
          "weekday",
          "weekend",
          "holiday",
          "month",
          "year",
          "s",
          "volume",
          "comp_1",
          "ps1",
          "fp1",
          "comp_2",
          "ps2",
          "fp2",
          "comp_3",
          "ps3",
          "fp3",
          "lag_price"
         ],
         "y": [
          "qty",
          "total_price",
          "freight_price",
          "unit_price",
          "product_name_lenght",
          "product_description_lenght",
          "product_photos_qty",
          "product_weight_g",
          "product_score",
          "customers",
          "weekday",
          "weekend",
          "holiday",
          "month",
          "year",
          "s",
          "volume",
          "comp_1",
          "ps1",
          "fp1",
          "comp_2",
          "ps2",
          "fp2",
          "comp_3",
          "ps3",
          "fp3",
          "lag_price"
         ],
         "z": {
          "bdata": "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",
          "dtype": "f8",
          "shape": "27, 27"
         }
        }
       ],
       "layout": {
        "template": {
         "data": {
          "bar": [
           {
            "error_x": {
             "color": "#2a3f5f"
            },
            "error_y": {
             "color": "#2a3f5f"
            },
            "marker": {
             "line": {
              "color": "white",
              "width": 0.5
             },
             "pattern": {
              "fillmode": "overlay",
              "size": 10,
              "solidity": 0.2
             }
            },
            "type": "bar"
           }
          ],
          "barpolar": [
           {
            "marker": {
             "line": {
              "color": "white",
              "width": 0.5
             },
             "pattern": {
              "fillmode": "overlay",
              "size": 10,
              "solidity": 0.2
             }
            },
            "type": "barpolar"
           }
          ],
          "carpet": [
           {
            "aaxis": {
             "endlinecolor": "#2a3f5f",
             "gridcolor": "#C8D4E3",
             "linecolor": "#C8D4E3",
             "minorgridcolor": "#C8D4E3",
             "startlinecolor": "#2a3f5f"
            },
            "baxis": {
             "endlinecolor": "#2a3f5f",
             "gridcolor": "#C8D4E3",
             "linecolor": "#C8D4E3",
             "minorgridcolor": "#C8D4E3",
             "startlinecolor": "#2a3f5f"
            },
            "type": "carpet"
           }
          ],
          "choropleth": [
           {
            "colorbar": {
             "outlinewidth": 0,
             "ticks": ""
            },
            "type": "choropleth"
           }
          ],
          "contour": [
           {
            "colorbar": {
             "outlinewidth": 0,
             "ticks": ""
            },
            "colorscale": [
             [
              0,
              "#0d0887"
             ],
             [
              0.1111111111111111,
              "#46039f"
             ],
             [
              0.2222222222222222,
              "#7201a8"
             ],
             [
              0.3333333333333333,
              "#9c179e"
             ],
             [
              0.4444444444444444,
              "#bd3786"
             ],
             [
              0.5555555555555556,
              "#d8576b"
             ],
             [
              0.6666666666666666,
              "#ed7953"
             ],
             [
              0.7777777777777778,
              "#fb9f3a"
             ],
             [
              0.8888888888888888,
              "#fdca26"
             ],
             [
              1,
              "#f0f921"
             ]
            ],
            "type": "contour"
           }
          ],
          "contourcarpet": [
           {
            "colorbar": {
             "outlinewidth": 0,
             "ticks": ""
            },
            "type": "contourcarpet"
           }
          ],
          "heatmap": [
           {
            "colorbar": {
             "outlinewidth": 0,
             "ticks": ""
            },
            "colorscale": [
             [
              0,
              "#0d0887"
             ],
             [
              0.1111111111111111,
              "#46039f"
             ],
             [
              0.2222222222222222,
              "#7201a8"
             ],
             [
              0.3333333333333333,
              "#9c179e"
             ],
             [
              0.4444444444444444,
              "#bd3786"
             ],
             [
              0.5555555555555556,
              "#d8576b"
             ],
             [
              0.6666666666666666,
              "#ed7953"
             ],
             [
              0.7777777777777778,
              "#fb9f3a"
             ],
             [
              0.8888888888888888,
              "#fdca26"
             ],
             [
              1,
              "#f0f921"
             ]
            ],
            "type": "heatmap"
           }
          ],
          "histogram": [
           {
            "marker": {
             "pattern": {
              "fillmode": "overlay",
              "size": 10,
              "solidity": 0.2
             }
            },
            "type": "histogram"
           }
          ],
          "histogram2d": [
           {
            "colorbar": {
             "outlinewidth": 0,
             "ticks": ""
            },
            "colorscale": [
             [
              0,
              "#0d0887"
             ],
             [
              0.1111111111111111,
              "#46039f"
             ],
             [
              0.2222222222222222,
              "#7201a8"
             ],
             [
              0.3333333333333333,
              "#9c179e"
             ],
             [
              0.4444444444444444,
              "#bd3786"
             ],
             [
              0.5555555555555556,
              "#d8576b"
             ],
             [
              0.6666666666666666,
              "#ed7953"
             ],
             [
              0.7777777777777778,
              "#fb9f3a"
             ],
             [
              0.8888888888888888,
              "#fdca26"
             ],
             [
              1,
              "#f0f921"
             ]
            ],
            "type": "histogram2d"
           }
          ],
          "histogram2dcontour": [
           {
            "colorbar": {
             "outlinewidth": 0,
             "ticks": ""
            },
            "colorscale": [
             [
              0,
              "#0d0887"
             ],
             [
              0.1111111111111111,
              "#46039f"
             ],
             [
              0.2222222222222222,
              "#7201a8"
             ],
             [
              0.3333333333333333,
              "#9c179e"
             ],
             [
              0.4444444444444444,
              "#bd3786"
             ],
             [
              0.5555555555555556,
              "#d8576b"
             ],
             [
              0.6666666666666666,
              "#ed7953"
             ],
             [
              0.7777777777777778,
              "#fb9f3a"
             ],
             [
              0.8888888888888888,
              "#fdca26"
             ],
             [
              1,
              "#f0f921"
             ]
            ],
            "type": "histogram2dcontour"
           }
          ],
          "mesh3d": [
           {
            "colorbar": {
             "outlinewidth": 0,
             "ticks": ""
            },
            "type": "mesh3d"
           }
          ],
          "parcoords": [
           {
            "line": {
             "colorbar": {
              "outlinewidth": 0,
              "ticks": ""
             }
            },
            "type": "parcoords"
           }
          ],
          "pie": [
           {
            "automargin": true,
            "type": "pie"
           }
          ],
          "scatter": [
           {
            "fillpattern": {
             "fillmode": "overlay",
             "size": 10,
             "solidity": 0.2
            },
            "type": "scatter"
           }
          ],
          "scatter3d": [
           {
            "line": {
             "colorbar": {
              "outlinewidth": 0,
              "ticks": ""
             }
            },
            "marker": {
             "colorbar": {
              "outlinewidth": 0,
              "ticks": ""
             }
            },
            "type": "scatter3d"
           }
          ],
          "scattercarpet": [
           {
            "marker": {
             "colorbar": {
              "outlinewidth": 0,
              "ticks": ""
             }
            },
            "type": "scattercarpet"
           }
          ],
          "scattergeo": [
           {
            "marker": {
             "colorbar": {
              "outlinewidth": 0,
              "ticks": ""
             }
            },
            "type": "scattergeo"
           }
          ],
          "scattergl": [
           {
            "marker": {
             "colorbar": {
              "outlinewidth": 0,
              "ticks": ""
             }
            },
            "type": "scattergl"
           }
          ],
          "scattermap": [
           {
            "marker": {
             "colorbar": {
              "outlinewidth": 0,
              "ticks": ""
             }
            },
            "type": "scattermap"
           }
          ],
          "scattermapbox": [
           {
            "marker": {
             "colorbar": {
              "outlinewidth": 0,
              "ticks": ""
             }
            },
            "type": "scattermapbox"
           }
          ],
          "scatterpolar": [
           {
            "marker": {
             "colorbar": {
              "outlinewidth": 0,
              "ticks": ""
             }
            },
            "type": "scatterpolar"
           }
          ],
          "scatterpolargl": [
           {
            "marker": {
             "colorbar": {
              "outlinewidth": 0,
              "ticks": ""
             }
            },
            "type": "scatterpolargl"
           }
          ],
          "scatterternary": [
           {
            "marker": {
             "colorbar": {
              "outlinewidth": 0,
              "ticks": ""
             }
            },
            "type": "scatterternary"
           }
          ],
          "surface": [
           {
            "colorbar": {
             "outlinewidth": 0,
             "ticks": ""
            },
            "colorscale": [
             [
              0,
              "#0d0887"
             ],
             [
              0.1111111111111111,
              "#46039f"
             ],
             [
              0.2222222222222222,
              "#7201a8"
             ],
             [
              0.3333333333333333,
              "#9c179e"
             ],
             [
              0.4444444444444444,
              "#bd3786"
             ],
             [
              0.5555555555555556,
              "#d8576b"
             ],
             [
              0.6666666666666666,
              "#ed7953"
             ],
             [
              0.7777777777777778,
              "#fb9f3a"
             ],
             [
              0.8888888888888888,
              "#fdca26"
             ],
             [
              1,
              "#f0f921"
             ]
            ],
            "type": "surface"
           }
          ],
          "table": [
           {
            "cells": {
             "fill": {
              "color": "#EBF0F8"
             },
             "line": {
              "color": "white"
             }
            },
            "header": {
             "fill": {
              "color": "#C8D4E3"
             },
             "line": {
              "color": "white"
             }
            },
            "type": "table"
           }
          ]
         },
         "layout": {
          "annotationdefaults": {
           "arrowcolor": "#2a3f5f",
           "arrowhead": 0,
           "arrowwidth": 1
          },
          "autotypenumbers": "strict",
          "coloraxis": {
           "colorbar": {
            "outlinewidth": 0,
            "ticks": ""
           }
          },
          "colorscale": {
           "diverging": [
            [
             0,
             "#8e0152"
            ],
            [
             0.1,
             "#c51b7d"
            ],
            [
             0.2,
             "#de77ae"
            ],
            [
             0.3,
             "#f1b6da"
            ],
            [
             0.4,
             "#fde0ef"
            ],
            [
             0.5,
             "#f7f7f7"
            ],
            [
             0.6,
             "#e6f5d0"
            ],
            [
             0.7,
             "#b8e186"
            ],
            [
             0.8,
             "#7fbc41"
            ],
            [
             0.9,
             "#4d9221"
            ],
            [
             1,
             "#276419"
            ]
           ],
           "sequential": [
            [
             0,
             "#0d0887"
            ],
            [
             0.1111111111111111,
             "#46039f"
            ],
            [
             0.2222222222222222,
             "#7201a8"
            ],
            [
             0.3333333333333333,
             "#9c179e"
            ],
            [
             0.4444444444444444,
             "#bd3786"
            ],
            [
             0.5555555555555556,
             "#d8576b"
            ],
            [
             0.6666666666666666,
             "#ed7953"
            ],
            [
             0.7777777777777778,
             "#fb9f3a"
            ],
            [
             0.8888888888888888,
             "#fdca26"
            ],
            [
             1,
             "#f0f921"
            ]
           ],
           "sequentialminus": [
            [
             0,
             "#0d0887"
            ],
            [
             0.1111111111111111,
             "#46039f"
            ],
            [
             0.2222222222222222,
             "#7201a8"
            ],
            [
             0.3333333333333333,
             "#9c179e"
            ],
            [
             0.4444444444444444,
             "#bd3786"
            ],
            [
             0.5555555555555556,
             "#d8576b"
            ],
            [
             0.6666666666666666,
             "#ed7953"
            ],
            [
             0.7777777777777778,
             "#fb9f3a"
            ],
            [
             0.8888888888888888,
             "#fdca26"
            ],
            [
             1,
             "#f0f921"
            ]
           ]
          },
          "colorway": [
           "#636efa",
           "#EF553B",
           "#00cc96",
           "#ab63fa",
           "#FFA15A",
           "#19d3f3",
           "#FF6692",
           "#B6E880",
           "#FF97FF",
           "#FECB52"
          ],
          "font": {
           "color": "#2a3f5f"
          },
          "geo": {
           "bgcolor": "white",
           "lakecolor": "white",
           "landcolor": "white",
           "showlakes": true,
           "showland": true,
           "subunitcolor": "#C8D4E3"
          },
          "hoverlabel": {
           "align": "left"
          },
          "hovermode": "closest",
          "mapbox": {
           "style": "light"
          },
          "paper_bgcolor": "white",
          "plot_bgcolor": "white",
          "polar": {
           "angularaxis": {
            "gridcolor": "#EBF0F8",
            "linecolor": "#EBF0F8",
            "ticks": ""
           },
           "bgcolor": "white",
           "radialaxis": {
            "gridcolor": "#EBF0F8",
            "linecolor": "#EBF0F8",
            "ticks": ""
           }
          },
          "scene": {
           "xaxis": {
            "backgroundcolor": "white",
            "gridcolor": "#DFE8F3",
            "gridwidth": 2,
            "linecolor": "#EBF0F8",
            "showbackground": true,
            "ticks": "",
            "zerolinecolor": "#EBF0F8"
           },
           "yaxis": {
            "backgroundcolor": "white",
            "gridcolor": "#DFE8F3",
            "gridwidth": 2,
            "linecolor": "#EBF0F8",
            "showbackground": true,
            "ticks": "",
            "zerolinecolor": "#EBF0F8"
           },
           "zaxis": {
            "backgroundcolor": "white",
            "gridcolor": "#DFE8F3",
            "gridwidth": 2,
            "linecolor": "#EBF0F8",
            "showbackground": true,
            "ticks": "",
            "zerolinecolor": "#EBF0F8"
           }
          },
          "shapedefaults": {
           "line": {
            "color": "#2a3f5f"
           }
          },
          "ternary": {
           "aaxis": {
            "gridcolor": "#DFE8F3",
            "linecolor": "#A2B1C6",
            "ticks": ""
           },
           "baxis": {
            "gridcolor": "#DFE8F3",
            "linecolor": "#A2B1C6",
            "ticks": ""
           },
           "bgcolor": "white",
           "caxis": {
            "gridcolor": "#DFE8F3",
            "linecolor": "#A2B1C6",
            "ticks": ""
           }
          },
          "title": {
           "x": 0.05
          },
          "xaxis": {
           "automargin": true,
           "gridcolor": "#EBF0F8",
           "linecolor": "#EBF0F8",
           "ticks": "",
           "title": {
            "standoff": 15
           },
           "zerolinecolor": "#EBF0F8",
           "zerolinewidth": 2
          },
          "yaxis": {
           "automargin": true,
           "gridcolor": "#EBF0F8",
           "linecolor": "#EBF0F8",
           "ticks": "",
           "title": {
            "standoff": 15
           },
           "zerolinecolor": "#EBF0F8",
           "zerolinewidth": 2
          }
         }
        },
        "title": {
         "text": "Correlation Matrix Heatmap"
        },
        "xaxis": {
         "title": {
          "text": "Variables"
         }
        },
        "yaxis": {
         "title": {
          "text": "Variables"
         }
        }
       }
      }
     },
     "metadata": {},
     "output_type": "display_data"
    }
   ],
   "source": [
    "correlation_matrix = df.select_dtypes(include=['float64', 'int64']).corr()\n",
    "\n",
    "fig = go.Figure(data= go.Heatmap(\n",
    "    z = correlation_matrix.values,\n",
    "    x = correlation_matrix.columns,\n",
    "    y = correlation_matrix.columns,\n",
    "))\n",
    "\n",
    "fig.update_layout(title='Correlation Matrix Heatmap', xaxis_title='Variables', yaxis_title='Variables')\n",
    "fig.show()"
   ]
  },
  {
   "cell_type": "code",
   "execution_count": 15,
   "id": "a16753e8",
   "metadata": {},
   "outputs": [
    {
     "data": {
      "application/vnd.plotly.v1+json": {
       "config": {
        "plotlyServerURL": "https://plot.ly"
       },
       "data": [
        {
         "hovertemplate": "product_category_name=%{x}<br>comp_price_diff=%{y}<extra></extra>",
         "legendgroup": "",
         "marker": {
          "color": "#636efa",
          "pattern": {
           "shape": ""
          }
         },
         "name": "",
         "orientation": "v",
         "showlegend": false,
         "textposition": "auto",
         "type": "bar",
         "x": [
          "bed_bath_table",
          "computers_accessories",
          "consoles_games",
          "cool_stuff",
          "furniture_decor",
          "garden_tools",
          "health_beauty",
          "perfumery",
          "watches_gifts"
         ],
         "xaxis": "x",
         "y": {
          "bdata": "yujjTqeMHsBtEnDWDPkzwC9g+jn+V7G/nEk6H6m/JkA9+sXBcHUvwKvwWk5BCTZA6CFvD7zVWEAc/4Cap6k9QAZ4tCobWj1A",
          "dtype": "f8"
         },
         "yaxis": "y"
        }
       ],
       "layout": {
        "barmode": "relative",
        "legend": {
         "tracegroupgap": 0
        },
        "template": {
         "data": {
          "bar": [
           {
            "error_x": {
             "color": "#2a3f5f"
            },
            "error_y": {
             "color": "#2a3f5f"
            },
            "marker": {
             "line": {
              "color": "white",
              "width": 0.5
             },
             "pattern": {
              "fillmode": "overlay",
              "size": 10,
              "solidity": 0.2
             }
            },
            "type": "bar"
           }
          ],
          "barpolar": [
           {
            "marker": {
             "line": {
              "color": "white",
              "width": 0.5
             },
             "pattern": {
              "fillmode": "overlay",
              "size": 10,
              "solidity": 0.2
             }
            },
            "type": "barpolar"
           }
          ],
          "carpet": [
           {
            "aaxis": {
             "endlinecolor": "#2a3f5f",
             "gridcolor": "#C8D4E3",
             "linecolor": "#C8D4E3",
             "minorgridcolor": "#C8D4E3",
             "startlinecolor": "#2a3f5f"
            },
            "baxis": {
             "endlinecolor": "#2a3f5f",
             "gridcolor": "#C8D4E3",
             "linecolor": "#C8D4E3",
             "minorgridcolor": "#C8D4E3",
             "startlinecolor": "#2a3f5f"
            },
            "type": "carpet"
           }
          ],
          "choropleth": [
           {
            "colorbar": {
             "outlinewidth": 0,
             "ticks": ""
            },
            "type": "choropleth"
           }
          ],
          "contour": [
           {
            "colorbar": {
             "outlinewidth": 0,
             "ticks": ""
            },
            "colorscale": [
             [
              0,
              "#0d0887"
             ],
             [
              0.1111111111111111,
              "#46039f"
             ],
             [
              0.2222222222222222,
              "#7201a8"
             ],
             [
              0.3333333333333333,
              "#9c179e"
             ],
             [
              0.4444444444444444,
              "#bd3786"
             ],
             [
              0.5555555555555556,
              "#d8576b"
             ],
             [
              0.6666666666666666,
              "#ed7953"
             ],
             [
              0.7777777777777778,
              "#fb9f3a"
             ],
             [
              0.8888888888888888,
              "#fdca26"
             ],
             [
              1,
              "#f0f921"
             ]
            ],
            "type": "contour"
           }
          ],
          "contourcarpet": [
           {
            "colorbar": {
             "outlinewidth": 0,
             "ticks": ""
            },
            "type": "contourcarpet"
           }
          ],
          "heatmap": [
           {
            "colorbar": {
             "outlinewidth": 0,
             "ticks": ""
            },
            "colorscale": [
             [
              0,
              "#0d0887"
             ],
             [
              0.1111111111111111,
              "#46039f"
             ],
             [
              0.2222222222222222,
              "#7201a8"
             ],
             [
              0.3333333333333333,
              "#9c179e"
             ],
             [
              0.4444444444444444,
              "#bd3786"
             ],
             [
              0.5555555555555556,
              "#d8576b"
             ],
             [
              0.6666666666666666,
              "#ed7953"
             ],
             [
              0.7777777777777778,
              "#fb9f3a"
             ],
             [
              0.8888888888888888,
              "#fdca26"
             ],
             [
              1,
              "#f0f921"
             ]
            ],
            "type": "heatmap"
           }
          ],
          "histogram": [
           {
            "marker": {
             "pattern": {
              "fillmode": "overlay",
              "size": 10,
              "solidity": 0.2
             }
            },
            "type": "histogram"
           }
          ],
          "histogram2d": [
           {
            "colorbar": {
             "outlinewidth": 0,
             "ticks": ""
            },
            "colorscale": [
             [
              0,
              "#0d0887"
             ],
             [
              0.1111111111111111,
              "#46039f"
             ],
             [
              0.2222222222222222,
              "#7201a8"
             ],
             [
              0.3333333333333333,
              "#9c179e"
             ],
             [
              0.4444444444444444,
              "#bd3786"
             ],
             [
              0.5555555555555556,
              "#d8576b"
             ],
             [
              0.6666666666666666,
              "#ed7953"
             ],
             [
              0.7777777777777778,
              "#fb9f3a"
             ],
             [
              0.8888888888888888,
              "#fdca26"
             ],
             [
              1,
              "#f0f921"
             ]
            ],
            "type": "histogram2d"
           }
          ],
          "histogram2dcontour": [
           {
            "colorbar": {
             "outlinewidth": 0,
             "ticks": ""
            },
            "colorscale": [
             [
              0,
              "#0d0887"
             ],
             [
              0.1111111111111111,
              "#46039f"
             ],
             [
              0.2222222222222222,
              "#7201a8"
             ],
             [
              0.3333333333333333,
              "#9c179e"
             ],
             [
              0.4444444444444444,
              "#bd3786"
             ],
             [
              0.5555555555555556,
              "#d8576b"
             ],
             [
              0.6666666666666666,
              "#ed7953"
             ],
             [
              0.7777777777777778,
              "#fb9f3a"
             ],
             [
              0.8888888888888888,
              "#fdca26"
             ],
             [
              1,
              "#f0f921"
             ]
            ],
            "type": "histogram2dcontour"
           }
          ],
          "mesh3d": [
           {
            "colorbar": {
             "outlinewidth": 0,
             "ticks": ""
            },
            "type": "mesh3d"
           }
          ],
          "parcoords": [
           {
            "line": {
             "colorbar": {
              "outlinewidth": 0,
              "ticks": ""
             }
            },
            "type": "parcoords"
           }
          ],
          "pie": [
           {
            "automargin": true,
            "type": "pie"
           }
          ],
          "scatter": [
           {
            "fillpattern": {
             "fillmode": "overlay",
             "size": 10,
             "solidity": 0.2
            },
            "type": "scatter"
           }
          ],
          "scatter3d": [
           {
            "line": {
             "colorbar": {
              "outlinewidth": 0,
              "ticks": ""
             }
            },
            "marker": {
             "colorbar": {
              "outlinewidth": 0,
              "ticks": ""
             }
            },
            "type": "scatter3d"
           }
          ],
          "scattercarpet": [
           {
            "marker": {
             "colorbar": {
              "outlinewidth": 0,
              "ticks": ""
             }
            },
            "type": "scattercarpet"
           }
          ],
          "scattergeo": [
           {
            "marker": {
             "colorbar": {
              "outlinewidth": 0,
              "ticks": ""
             }
            },
            "type": "scattergeo"
           }
          ],
          "scattergl": [
           {
            "marker": {
             "colorbar": {
              "outlinewidth": 0,
              "ticks": ""
             }
            },
            "type": "scattergl"
           }
          ],
          "scattermap": [
           {
            "marker": {
             "colorbar": {
              "outlinewidth": 0,
              "ticks": ""
             }
            },
            "type": "scattermap"
           }
          ],
          "scattermapbox": [
           {
            "marker": {
             "colorbar": {
              "outlinewidth": 0,
              "ticks": ""
             }
            },
            "type": "scattermapbox"
           }
          ],
          "scatterpolar": [
           {
            "marker": {
             "colorbar": {
              "outlinewidth": 0,
              "ticks": ""
             }
            },
            "type": "scatterpolar"
           }
          ],
          "scatterpolargl": [
           {
            "marker": {
             "colorbar": {
              "outlinewidth": 0,
              "ticks": ""
             }
            },
            "type": "scatterpolargl"
           }
          ],
          "scatterternary": [
           {
            "marker": {
             "colorbar": {
              "outlinewidth": 0,
              "ticks": ""
             }
            },
            "type": "scatterternary"
           }
          ],
          "surface": [
           {
            "colorbar": {
             "outlinewidth": 0,
             "ticks": ""
            },
            "colorscale": [
             [
              0,
              "#0d0887"
             ],
             [
              0.1111111111111111,
              "#46039f"
             ],
             [
              0.2222222222222222,
              "#7201a8"
             ],
             [
              0.3333333333333333,
              "#9c179e"
             ],
             [
              0.4444444444444444,
              "#bd3786"
             ],
             [
              0.5555555555555556,
              "#d8576b"
             ],
             [
              0.6666666666666666,
              "#ed7953"
             ],
             [
              0.7777777777777778,
              "#fb9f3a"
             ],
             [
              0.8888888888888888,
              "#fdca26"
             ],
             [
              1,
              "#f0f921"
             ]
            ],
            "type": "surface"
           }
          ],
          "table": [
           {
            "cells": {
             "fill": {
              "color": "#EBF0F8"
             },
             "line": {
              "color": "white"
             }
            },
            "header": {
             "fill": {
              "color": "#C8D4E3"
             },
             "line": {
              "color": "white"
             }
            },
            "type": "table"
           }
          ]
         },
         "layout": {
          "annotationdefaults": {
           "arrowcolor": "#2a3f5f",
           "arrowhead": 0,
           "arrowwidth": 1
          },
          "autotypenumbers": "strict",
          "coloraxis": {
           "colorbar": {
            "outlinewidth": 0,
            "ticks": ""
           }
          },
          "colorscale": {
           "diverging": [
            [
             0,
             "#8e0152"
            ],
            [
             0.1,
             "#c51b7d"
            ],
            [
             0.2,
             "#de77ae"
            ],
            [
             0.3,
             "#f1b6da"
            ],
            [
             0.4,
             "#fde0ef"
            ],
            [
             0.5,
             "#f7f7f7"
            ],
            [
             0.6,
             "#e6f5d0"
            ],
            [
             0.7,
             "#b8e186"
            ],
            [
             0.8,
             "#7fbc41"
            ],
            [
             0.9,
             "#4d9221"
            ],
            [
             1,
             "#276419"
            ]
           ],
           "sequential": [
            [
             0,
             "#0d0887"
            ],
            [
             0.1111111111111111,
             "#46039f"
            ],
            [
             0.2222222222222222,
             "#7201a8"
            ],
            [
             0.3333333333333333,
             "#9c179e"
            ],
            [
             0.4444444444444444,
             "#bd3786"
            ],
            [
             0.5555555555555556,
             "#d8576b"
            ],
            [
             0.6666666666666666,
             "#ed7953"
            ],
            [
             0.7777777777777778,
             "#fb9f3a"
            ],
            [
             0.8888888888888888,
             "#fdca26"
            ],
            [
             1,
             "#f0f921"
            ]
           ],
           "sequentialminus": [
            [
             0,
             "#0d0887"
            ],
            [
             0.1111111111111111,
             "#46039f"
            ],
            [
             0.2222222222222222,
             "#7201a8"
            ],
            [
             0.3333333333333333,
             "#9c179e"
            ],
            [
             0.4444444444444444,
             "#bd3786"
            ],
            [
             0.5555555555555556,
             "#d8576b"
            ],
            [
             0.6666666666666666,
             "#ed7953"
            ],
            [
             0.7777777777777778,
             "#fb9f3a"
            ],
            [
             0.8888888888888888,
             "#fdca26"
            ],
            [
             1,
             "#f0f921"
            ]
           ]
          },
          "colorway": [
           "#636efa",
           "#EF553B",
           "#00cc96",
           "#ab63fa",
           "#FFA15A",
           "#19d3f3",
           "#FF6692",
           "#B6E880",
           "#FF97FF",
           "#FECB52"
          ],
          "font": {
           "color": "#2a3f5f"
          },
          "geo": {
           "bgcolor": "white",
           "lakecolor": "white",
           "landcolor": "white",
           "showlakes": true,
           "showland": true,
           "subunitcolor": "#C8D4E3"
          },
          "hoverlabel": {
           "align": "left"
          },
          "hovermode": "closest",
          "mapbox": {
           "style": "light"
          },
          "paper_bgcolor": "white",
          "plot_bgcolor": "white",
          "polar": {
           "angularaxis": {
            "gridcolor": "#EBF0F8",
            "linecolor": "#EBF0F8",
            "ticks": ""
           },
           "bgcolor": "white",
           "radialaxis": {
            "gridcolor": "#EBF0F8",
            "linecolor": "#EBF0F8",
            "ticks": ""
           }
          },
          "scene": {
           "xaxis": {
            "backgroundcolor": "white",
            "gridcolor": "#DFE8F3",
            "gridwidth": 2,
            "linecolor": "#EBF0F8",
            "showbackground": true,
            "ticks": "",
            "zerolinecolor": "#EBF0F8"
           },
           "yaxis": {
            "backgroundcolor": "white",
            "gridcolor": "#DFE8F3",
            "gridwidth": 2,
            "linecolor": "#EBF0F8",
            "showbackground": true,
            "ticks": "",
            "zerolinecolor": "#EBF0F8"
           },
           "zaxis": {
            "backgroundcolor": "white",
            "gridcolor": "#DFE8F3",
            "gridwidth": 2,
            "linecolor": "#EBF0F8",
            "showbackground": true,
            "ticks": "",
            "zerolinecolor": "#EBF0F8"
           }
          },
          "shapedefaults": {
           "line": {
            "color": "#2a3f5f"
           }
          },
          "ternary": {
           "aaxis": {
            "gridcolor": "#DFE8F3",
            "linecolor": "#A2B1C6",
            "ticks": ""
           },
           "baxis": {
            "gridcolor": "#DFE8F3",
            "linecolor": "#A2B1C6",
            "ticks": ""
           },
           "bgcolor": "white",
           "caxis": {
            "gridcolor": "#DFE8F3",
            "linecolor": "#A2B1C6",
            "ticks": ""
           }
          },
          "title": {
           "x": 0.05
          },
          "xaxis": {
           "automargin": true,
           "gridcolor": "#EBF0F8",
           "linecolor": "#EBF0F8",
           "ticks": "",
           "title": {
            "standoff": 15
           },
           "zerolinecolor": "#EBF0F8",
           "zerolinewidth": 2
          },
          "yaxis": {
           "automargin": true,
           "gridcolor": "#EBF0F8",
           "linecolor": "#EBF0F8",
           "ticks": "",
           "title": {
            "standoff": 15
           },
           "zerolinecolor": "#EBF0F8",
           "zerolinewidth": 2
          }
         }
        },
        "title": {
         "text": "Average Competitor Price Difference by Product Category"
        },
        "xaxis": {
         "anchor": "y",
         "domain": [
          0,
          1
         ],
         "title": {
          "text": "Product Category"
         }
        },
        "yaxis": {
         "anchor": "x",
         "domain": [
          0,
          1
         ],
         "title": {
          "text": "Average Competitor Price Difference"
         }
        }
       }
      }
     },
     "metadata": {},
     "output_type": "display_data"
    }
   ],
   "source": [
    "df['comp_price_diff'] = df['unit_price'] - df['comp_1'] \n",
    "\n",
    "avg_price_diff_by_category = df.groupby('product_category_name')['comp_price_diff'].mean().reset_index()\n",
    "\n",
    "fig = px.bar(avg_price_diff_by_category, \n",
    "             x='product_category_name', \n",
    "             y='comp_price_diff', \n",
    "             title='Average Competitor Price Difference by Product Category')\n",
    "fig.update_layout(\n",
    "    xaxis_title='Product Category',\n",
    "    yaxis_title='Average Competitor Price Difference'\n",
    ")\n",
    "fig.show()"
   ]
  },
  {
   "cell_type": "code",
   "execution_count": 16,
   "id": "00bb1f32",
   "metadata": {},
   "outputs": [],
   "source": [
    "from sklearn.model_selection import train_test_split\n",
    "from sklearn.tree import DecisionTreeRegressor\n",
    "from sklearn.metrics import mean_squared_error"
   ]
  },
  {
   "cell_type": "code",
   "execution_count": 17,
   "id": "5c49604e",
   "metadata": {},
   "outputs": [
    {
     "data": {
      "text/html": [
       "<style>#sk-container-id-1 {\n",
       "  /* Definition of color scheme common for light and dark mode */\n",
       "  --sklearn-color-text: black;\n",
       "  --sklearn-color-line: gray;\n",
       "  /* Definition of color scheme for unfitted estimators */\n",
       "  --sklearn-color-unfitted-level-0: #fff5e6;\n",
       "  --sklearn-color-unfitted-level-1: #f6e4d2;\n",
       "  --sklearn-color-unfitted-level-2: #ffe0b3;\n",
       "  --sklearn-color-unfitted-level-3: chocolate;\n",
       "  /* Definition of color scheme for fitted estimators */\n",
       "  --sklearn-color-fitted-level-0: #f0f8ff;\n",
       "  --sklearn-color-fitted-level-1: #d4ebff;\n",
       "  --sklearn-color-fitted-level-2: #b3dbfd;\n",
       "  --sklearn-color-fitted-level-3: cornflowerblue;\n",
       "\n",
       "  /* Specific color for light theme */\n",
       "  --sklearn-color-text-on-default-background: var(--sg-text-color, var(--theme-code-foreground, var(--jp-content-font-color1, black)));\n",
       "  --sklearn-color-background: var(--sg-background-color, var(--theme-background, var(--jp-layout-color0, white)));\n",
       "  --sklearn-color-border-box: var(--sg-text-color, var(--theme-code-foreground, var(--jp-content-font-color1, black)));\n",
       "  --sklearn-color-icon: #696969;\n",
       "\n",
       "  @media (prefers-color-scheme: dark) {\n",
       "    /* Redefinition of color scheme for dark theme */\n",
       "    --sklearn-color-text-on-default-background: var(--sg-text-color, var(--theme-code-foreground, var(--jp-content-font-color1, white)));\n",
       "    --sklearn-color-background: var(--sg-background-color, var(--theme-background, var(--jp-layout-color0, #111)));\n",
       "    --sklearn-color-border-box: var(--sg-text-color, var(--theme-code-foreground, var(--jp-content-font-color1, white)));\n",
       "    --sklearn-color-icon: #878787;\n",
       "  }\n",
       "}\n",
       "\n",
       "#sk-container-id-1 {\n",
       "  color: var(--sklearn-color-text);\n",
       "}\n",
       "\n",
       "#sk-container-id-1 pre {\n",
       "  padding: 0;\n",
       "}\n",
       "\n",
       "#sk-container-id-1 input.sk-hidden--visually {\n",
       "  border: 0;\n",
       "  clip: rect(1px 1px 1px 1px);\n",
       "  clip: rect(1px, 1px, 1px, 1px);\n",
       "  height: 1px;\n",
       "  margin: -1px;\n",
       "  overflow: hidden;\n",
       "  padding: 0;\n",
       "  position: absolute;\n",
       "  width: 1px;\n",
       "}\n",
       "\n",
       "#sk-container-id-1 div.sk-dashed-wrapped {\n",
       "  border: 1px dashed var(--sklearn-color-line);\n",
       "  margin: 0 0.4em 0.5em 0.4em;\n",
       "  box-sizing: border-box;\n",
       "  padding-bottom: 0.4em;\n",
       "  background-color: var(--sklearn-color-background);\n",
       "}\n",
       "\n",
       "#sk-container-id-1 div.sk-container {\n",
       "  /* jupyter's `normalize.less` sets `[hidden] { display: none; }`\n",
       "     but bootstrap.min.css set `[hidden] { display: none !important; }`\n",
       "     so we also need the `!important` here to be able to override the\n",
       "     default hidden behavior on the sphinx rendered scikit-learn.org.\n",
       "     See: https://github.com/scikit-learn/scikit-learn/issues/21755 */\n",
       "  display: inline-block !important;\n",
       "  position: relative;\n",
       "}\n",
       "\n",
       "#sk-container-id-1 div.sk-text-repr-fallback {\n",
       "  display: none;\n",
       "}\n",
       "\n",
       "div.sk-parallel-item,\n",
       "div.sk-serial,\n",
       "div.sk-item {\n",
       "  /* draw centered vertical line to link estimators */\n",
       "  background-image: linear-gradient(var(--sklearn-color-text-on-default-background), var(--sklearn-color-text-on-default-background));\n",
       "  background-size: 2px 100%;\n",
       "  background-repeat: no-repeat;\n",
       "  background-position: center center;\n",
       "}\n",
       "\n",
       "/* Parallel-specific style estimator block */\n",
       "\n",
       "#sk-container-id-1 div.sk-parallel-item::after {\n",
       "  content: \"\";\n",
       "  width: 100%;\n",
       "  border-bottom: 2px solid var(--sklearn-color-text-on-default-background);\n",
       "  flex-grow: 1;\n",
       "}\n",
       "\n",
       "#sk-container-id-1 div.sk-parallel {\n",
       "  display: flex;\n",
       "  align-items: stretch;\n",
       "  justify-content: center;\n",
       "  background-color: var(--sklearn-color-background);\n",
       "  position: relative;\n",
       "}\n",
       "\n",
       "#sk-container-id-1 div.sk-parallel-item {\n",
       "  display: flex;\n",
       "  flex-direction: column;\n",
       "}\n",
       "\n",
       "#sk-container-id-1 div.sk-parallel-item:first-child::after {\n",
       "  align-self: flex-end;\n",
       "  width: 50%;\n",
       "}\n",
       "\n",
       "#sk-container-id-1 div.sk-parallel-item:last-child::after {\n",
       "  align-self: flex-start;\n",
       "  width: 50%;\n",
       "}\n",
       "\n",
       "#sk-container-id-1 div.sk-parallel-item:only-child::after {\n",
       "  width: 0;\n",
       "}\n",
       "\n",
       "/* Serial-specific style estimator block */\n",
       "\n",
       "#sk-container-id-1 div.sk-serial {\n",
       "  display: flex;\n",
       "  flex-direction: column;\n",
       "  align-items: center;\n",
       "  background-color: var(--sklearn-color-background);\n",
       "  padding-right: 1em;\n",
       "  padding-left: 1em;\n",
       "}\n",
       "\n",
       "\n",
       "/* Toggleable style: style used for estimator/Pipeline/ColumnTransformer box that is\n",
       "clickable and can be expanded/collapsed.\n",
       "- Pipeline and ColumnTransformer use this feature and define the default style\n",
       "- Estimators will overwrite some part of the style using the `sk-estimator` class\n",
       "*/\n",
       "\n",
       "/* Pipeline and ColumnTransformer style (default) */\n",
       "\n",
       "#sk-container-id-1 div.sk-toggleable {\n",
       "  /* Default theme specific background. It is overwritten whether we have a\n",
       "  specific estimator or a Pipeline/ColumnTransformer */\n",
       "  background-color: var(--sklearn-color-background);\n",
       "}\n",
       "\n",
       "/* Toggleable label */\n",
       "#sk-container-id-1 label.sk-toggleable__label {\n",
       "  cursor: pointer;\n",
       "  display: block;\n",
       "  width: 100%;\n",
       "  margin-bottom: 0;\n",
       "  padding: 0.5em;\n",
       "  box-sizing: border-box;\n",
       "  text-align: center;\n",
       "}\n",
       "\n",
       "#sk-container-id-1 label.sk-toggleable__label-arrow:before {\n",
       "  /* Arrow on the left of the label */\n",
       "  content: \"▸\";\n",
       "  float: left;\n",
       "  margin-right: 0.25em;\n",
       "  color: var(--sklearn-color-icon);\n",
       "}\n",
       "\n",
       "#sk-container-id-1 label.sk-toggleable__label-arrow:hover:before {\n",
       "  color: var(--sklearn-color-text);\n",
       "}\n",
       "\n",
       "/* Toggleable content - dropdown */\n",
       "\n",
       "#sk-container-id-1 div.sk-toggleable__content {\n",
       "  max-height: 0;\n",
       "  max-width: 0;\n",
       "  overflow: hidden;\n",
       "  text-align: left;\n",
       "  /* unfitted */\n",
       "  background-color: var(--sklearn-color-unfitted-level-0);\n",
       "}\n",
       "\n",
       "#sk-container-id-1 div.sk-toggleable__content.fitted {\n",
       "  /* fitted */\n",
       "  background-color: var(--sklearn-color-fitted-level-0);\n",
       "}\n",
       "\n",
       "#sk-container-id-1 div.sk-toggleable__content pre {\n",
       "  margin: 0.2em;\n",
       "  border-radius: 0.25em;\n",
       "  color: var(--sklearn-color-text);\n",
       "  /* unfitted */\n",
       "  background-color: var(--sklearn-color-unfitted-level-0);\n",
       "}\n",
       "\n",
       "#sk-container-id-1 div.sk-toggleable__content.fitted pre {\n",
       "  /* unfitted */\n",
       "  background-color: var(--sklearn-color-fitted-level-0);\n",
       "}\n",
       "\n",
       "#sk-container-id-1 input.sk-toggleable__control:checked~div.sk-toggleable__content {\n",
       "  /* Expand drop-down */\n",
       "  max-height: 200px;\n",
       "  max-width: 100%;\n",
       "  overflow: auto;\n",
       "}\n",
       "\n",
       "#sk-container-id-1 input.sk-toggleable__control:checked~label.sk-toggleable__label-arrow:before {\n",
       "  content: \"▾\";\n",
       "}\n",
       "\n",
       "/* Pipeline/ColumnTransformer-specific style */\n",
       "\n",
       "#sk-container-id-1 div.sk-label input.sk-toggleable__control:checked~label.sk-toggleable__label {\n",
       "  color: var(--sklearn-color-text);\n",
       "  background-color: var(--sklearn-color-unfitted-level-2);\n",
       "}\n",
       "\n",
       "#sk-container-id-1 div.sk-label.fitted input.sk-toggleable__control:checked~label.sk-toggleable__label {\n",
       "  background-color: var(--sklearn-color-fitted-level-2);\n",
       "}\n",
       "\n",
       "/* Estimator-specific style */\n",
       "\n",
       "/* Colorize estimator box */\n",
       "#sk-container-id-1 div.sk-estimator input.sk-toggleable__control:checked~label.sk-toggleable__label {\n",
       "  /* unfitted */\n",
       "  background-color: var(--sklearn-color-unfitted-level-2);\n",
       "}\n",
       "\n",
       "#sk-container-id-1 div.sk-estimator.fitted input.sk-toggleable__control:checked~label.sk-toggleable__label {\n",
       "  /* fitted */\n",
       "  background-color: var(--sklearn-color-fitted-level-2);\n",
       "}\n",
       "\n",
       "#sk-container-id-1 div.sk-label label.sk-toggleable__label,\n",
       "#sk-container-id-1 div.sk-label label {\n",
       "  /* The background is the default theme color */\n",
       "  color: var(--sklearn-color-text-on-default-background);\n",
       "}\n",
       "\n",
       "/* On hover, darken the color of the background */\n",
       "#sk-container-id-1 div.sk-label:hover label.sk-toggleable__label {\n",
       "  color: var(--sklearn-color-text);\n",
       "  background-color: var(--sklearn-color-unfitted-level-2);\n",
       "}\n",
       "\n",
       "/* Label box, darken color on hover, fitted */\n",
       "#sk-container-id-1 div.sk-label.fitted:hover label.sk-toggleable__label.fitted {\n",
       "  color: var(--sklearn-color-text);\n",
       "  background-color: var(--sklearn-color-fitted-level-2);\n",
       "}\n",
       "\n",
       "/* Estimator label */\n",
       "\n",
       "#sk-container-id-1 div.sk-label label {\n",
       "  font-family: monospace;\n",
       "  font-weight: bold;\n",
       "  display: inline-block;\n",
       "  line-height: 1.2em;\n",
       "}\n",
       "\n",
       "#sk-container-id-1 div.sk-label-container {\n",
       "  text-align: center;\n",
       "}\n",
       "\n",
       "/* Estimator-specific */\n",
       "#sk-container-id-1 div.sk-estimator {\n",
       "  font-family: monospace;\n",
       "  border: 1px dotted var(--sklearn-color-border-box);\n",
       "  border-radius: 0.25em;\n",
       "  box-sizing: border-box;\n",
       "  margin-bottom: 0.5em;\n",
       "  /* unfitted */\n",
       "  background-color: var(--sklearn-color-unfitted-level-0);\n",
       "}\n",
       "\n",
       "#sk-container-id-1 div.sk-estimator.fitted {\n",
       "  /* fitted */\n",
       "  background-color: var(--sklearn-color-fitted-level-0);\n",
       "}\n",
       "\n",
       "/* on hover */\n",
       "#sk-container-id-1 div.sk-estimator:hover {\n",
       "  /* unfitted */\n",
       "  background-color: var(--sklearn-color-unfitted-level-2);\n",
       "}\n",
       "\n",
       "#sk-container-id-1 div.sk-estimator.fitted:hover {\n",
       "  /* fitted */\n",
       "  background-color: var(--sklearn-color-fitted-level-2);\n",
       "}\n",
       "\n",
       "/* Specification for estimator info (e.g. \"i\" and \"?\") */\n",
       "\n",
       "/* Common style for \"i\" and \"?\" */\n",
       "\n",
       ".sk-estimator-doc-link,\n",
       "a:link.sk-estimator-doc-link,\n",
       "a:visited.sk-estimator-doc-link {\n",
       "  float: right;\n",
       "  font-size: smaller;\n",
       "  line-height: 1em;\n",
       "  font-family: monospace;\n",
       "  background-color: var(--sklearn-color-background);\n",
       "  border-radius: 1em;\n",
       "  height: 1em;\n",
       "  width: 1em;\n",
       "  text-decoration: none !important;\n",
       "  margin-left: 1ex;\n",
       "  /* unfitted */\n",
       "  border: var(--sklearn-color-unfitted-level-1) 1pt solid;\n",
       "  color: var(--sklearn-color-unfitted-level-1);\n",
       "}\n",
       "\n",
       ".sk-estimator-doc-link.fitted,\n",
       "a:link.sk-estimator-doc-link.fitted,\n",
       "a:visited.sk-estimator-doc-link.fitted {\n",
       "  /* fitted */\n",
       "  border: var(--sklearn-color-fitted-level-1) 1pt solid;\n",
       "  color: var(--sklearn-color-fitted-level-1);\n",
       "}\n",
       "\n",
       "/* On hover */\n",
       "div.sk-estimator:hover .sk-estimator-doc-link:hover,\n",
       ".sk-estimator-doc-link:hover,\n",
       "div.sk-label-container:hover .sk-estimator-doc-link:hover,\n",
       ".sk-estimator-doc-link:hover {\n",
       "  /* unfitted */\n",
       "  background-color: var(--sklearn-color-unfitted-level-3);\n",
       "  color: var(--sklearn-color-background);\n",
       "  text-decoration: none;\n",
       "}\n",
       "\n",
       "div.sk-estimator.fitted:hover .sk-estimator-doc-link.fitted:hover,\n",
       ".sk-estimator-doc-link.fitted:hover,\n",
       "div.sk-label-container:hover .sk-estimator-doc-link.fitted:hover,\n",
       ".sk-estimator-doc-link.fitted:hover {\n",
       "  /* fitted */\n",
       "  background-color: var(--sklearn-color-fitted-level-3);\n",
       "  color: var(--sklearn-color-background);\n",
       "  text-decoration: none;\n",
       "}\n",
       "\n",
       "/* Span, style for the box shown on hovering the info icon */\n",
       ".sk-estimator-doc-link span {\n",
       "  display: none;\n",
       "  z-index: 9999;\n",
       "  position: relative;\n",
       "  font-weight: normal;\n",
       "  right: .2ex;\n",
       "  padding: .5ex;\n",
       "  margin: .5ex;\n",
       "  width: min-content;\n",
       "  min-width: 20ex;\n",
       "  max-width: 50ex;\n",
       "  color: var(--sklearn-color-text);\n",
       "  box-shadow: 2pt 2pt 4pt #999;\n",
       "  /* unfitted */\n",
       "  background: var(--sklearn-color-unfitted-level-0);\n",
       "  border: .5pt solid var(--sklearn-color-unfitted-level-3);\n",
       "}\n",
       "\n",
       ".sk-estimator-doc-link.fitted span {\n",
       "  /* fitted */\n",
       "  background: var(--sklearn-color-fitted-level-0);\n",
       "  border: var(--sklearn-color-fitted-level-3);\n",
       "}\n",
       "\n",
       ".sk-estimator-doc-link:hover span {\n",
       "  display: block;\n",
       "}\n",
       "\n",
       "/* \"?\"-specific style due to the `<a>` HTML tag */\n",
       "\n",
       "#sk-container-id-1 a.estimator_doc_link {\n",
       "  float: right;\n",
       "  font-size: 1rem;\n",
       "  line-height: 1em;\n",
       "  font-family: monospace;\n",
       "  background-color: var(--sklearn-color-background);\n",
       "  border-radius: 1rem;\n",
       "  height: 1rem;\n",
       "  width: 1rem;\n",
       "  text-decoration: none;\n",
       "  /* unfitted */\n",
       "  color: var(--sklearn-color-unfitted-level-1);\n",
       "  border: var(--sklearn-color-unfitted-level-1) 1pt solid;\n",
       "}\n",
       "\n",
       "#sk-container-id-1 a.estimator_doc_link.fitted {\n",
       "  /* fitted */\n",
       "  border: var(--sklearn-color-fitted-level-1) 1pt solid;\n",
       "  color: var(--sklearn-color-fitted-level-1);\n",
       "}\n",
       "\n",
       "/* On hover */\n",
       "#sk-container-id-1 a.estimator_doc_link:hover {\n",
       "  /* unfitted */\n",
       "  background-color: var(--sklearn-color-unfitted-level-3);\n",
       "  color: var(--sklearn-color-background);\n",
       "  text-decoration: none;\n",
       "}\n",
       "\n",
       "#sk-container-id-1 a.estimator_doc_link.fitted:hover {\n",
       "  /* fitted */\n",
       "  background-color: var(--sklearn-color-fitted-level-3);\n",
       "}\n",
       "</style><div id=\"sk-container-id-1\" class=\"sk-top-container\"><div class=\"sk-text-repr-fallback\"><pre>DecisionTreeRegressor(random_state=2025)</pre><b>In a Jupyter environment, please rerun this cell to show the HTML representation or trust the notebook. <br />On GitHub, the HTML representation is unable to render, please try loading this page with nbviewer.org.</b></div><div class=\"sk-container\" hidden><div class=\"sk-item\"><div class=\"sk-estimator fitted sk-toggleable\"><input class=\"sk-toggleable__control sk-hidden--visually\" id=\"sk-estimator-id-1\" type=\"checkbox\" checked><label for=\"sk-estimator-id-1\" class=\"sk-toggleable__label fitted sk-toggleable__label-arrow fitted\">&nbsp;&nbsp;DecisionTreeRegressor<a class=\"sk-estimator-doc-link fitted\" rel=\"noreferrer\" target=\"_blank\" href=\"https://scikit-learn.org/1.5/modules/generated/sklearn.tree.DecisionTreeRegressor.html\">?<span>Documentation for DecisionTreeRegressor</span></a><span class=\"sk-estimator-doc-link fitted\">i<span>Fitted</span></span></label><div class=\"sk-toggleable__content fitted\"><pre>DecisionTreeRegressor(random_state=2025)</pre></div> </div></div></div></div>"
      ],
      "text/plain": [
       "DecisionTreeRegressor(random_state=2025)"
      ]
     },
     "execution_count": 17,
     "metadata": {},
     "output_type": "execute_result"
    }
   ],
   "source": [
    "X = df[['qty', 'unit_price', 'comp_1', \n",
    "          'product_score', 'comp_price_diff']]\n",
    "y = df['total_price']\n",
    "\n",
    "X_train, X_test, y_train, y_test = train_test_split(X, y, test_size=0.2, random_state=2025)\n",
    "\n",
    "model = DecisionTreeRegressor(random_state=2025)\n",
    "model.fit(X_train, y_train)"
   ]
  },
  {
   "cell_type": "code",
   "execution_count": 18,
   "id": "36a83937",
   "metadata": {},
   "outputs": [
    {
     "data": {
      "application/vnd.plotly.v1+json": {
       "config": {
        "plotlyServerURL": "https://plot.ly"
       },
       "data": [
        {
         "marker": {
          "color": "blue"
         },
         "mode": "markers",
         "name": "Predicted vs. Actual Retail Price",
         "type": "scatter",
         "x": {
          "bdata": "AAAAAABAYEBmZmZmZnZmQGZmZmZm1qJAMzMzMzPzeEAAAAAAAOiMQGZmZmZmjoRAZmZmZmbMlEAAAAAAANBhQAAAAAAAcHxAexSuR+HueEDsUbgehW+CQAAAAAAAYIRAAAAAAAADsUBmZmZm5uixQD0K16Nwv4JAAAAAAADCpEBxPQrXo0aOQOxRuB6F34BAMzMzMzPzV0AAAAAAADCFQB+F61G4fmxAFK5H4XrjmUAAAAAAADiPQDMzMzOzLbFAzczMzMy2nEAAAAAAABCIQDMzMzMzj7hAw/UoXI/fnUAAAAAAAH64QJqZmZkZFsdAZmZmZmaSkkAzMzMzM7tyQI/C9Shct3JAH4XrUbh+bECamZmZmfltQGZmZmZmtnJAuB6F61Hkf0BmZmZmZsiRQAAAAAAAkJJAAAAAAACAi0CuR+F6FP6BQOxRuB6F/31AZmZmZmYKgUDXo3A9ivOqQM3MzMzMvI5AzczMzMxca0C4HoXrUeeXQAAAAAAAQEBAj8L1KFz/aEAAAAAAAPiGQM3MzMzM3HBAmpmZmZkNn0BI4XoUrh+WQAAAAAAAyIRAAAAAAAAUjECPwvUoXL+HQJqZmZmZFqFAAAAAAAC8kEAAAAAAAGB4QOF6FK5HR4JAMzMzMzNPjkAAAAAAADCAQKRwPQpXta9AMzMzMzPzZ0AK16NwPUujQAAAAAAAOqFASOF6FK4/YEApXI/C9RhwQAAAAAAABqtAmpmZmZlLkEDsUbgehV94QPYoXI/C/WRAZmZmZma2YkAAAAAAAICAQM3MzMzMzGxAMzMzMzODjUAAAAAAAG6qQJqZmZmZ0X1APQrXo3DflUBI4XoUrg+NQAAAAAAAgFFA7FG4HoXfgECPwvUoXP9YQK5H4XoU/lFAMzMzMzNAokAAAAAAAPSVQDMzMzMzK3BAj8L1KFz/aEAzMzMzMzNzQOxRuB6FP4pAZmZmZmaclkAAAAAAAECKQGZmZmZmP6FAMzMzMzP/iEBmZmZmZo50QM3MzMzMlJdA9ihcj8LfkEBmZmZmZtKPQK5H4XoU/m1A7FG4HkXjvUBmZmZmZqZsQFyPwvUonH5Aj8L1KFx/e0CamZmZmb+SQJqZmZmZ+WZAmpmZmZm5d0AAAAAAABB4QDMzMzMzz5FAzczMzMxKlEA9CtejcP1HQAAAAAAArcBAAAAAAAC4ckDNzMzMzEqUQClcj8L1TbVA7FG4HoW/gkCPwvUoXD9QQI/C9ShcP5BAZmZmZmZOkEBmZmZmZt51QOxRuB6FHahAmpmZmZkTq0CamZmZmbl4QAAAAAAAC7JAMzMzMzNxoUCamZmZmSKjQLgehetR55dAH4XrUbj+eEAAAAAAANBhQAAAAAAAZIdAUrgehetCnEAAAAAAAABeQDMzMzMz801AAAAAAAC4ckDNzMzMzNR1QAAAAAAAM71A7FG4HoX/fUA=",
          "dtype": "f8"
         },
         "y": {
          "bdata": "MzMzMzPzXUBmZmZmZnZmQM3MzMzMTKdAzczMzMzUdUBmZmZmZg6NQJqZmZmZ0YBASOF6FK42lkAAAAAAAOBkQClcj8L1PoBAexSuR+HueEA9CtejcN+FQAAAAAAAoIJAmpmZmZmer0AAAAAAAIqrQAAAAAAAYH1AZmZmZma2okBxPQrXo0aOQOxRuB6F34BAMzMzMzPzV0BxPQrXo/aHQDMzMzMz821APQrXo3BvnEDhehSuRx+MQD0K16MwaLJA16NwPQoflkAAAAAAAKCEQGZmZmbmWrpAmpmZmZmVoUDNzMzMTDy3QM3MzMzMHrlAPQrXo3BNk0DsUbgehb9yQI/C9Shct3JAMzMzMzPzbUBI4XoUrj9wQGZmZmZmtnJAAAAAAABgfUBmZmZmZsiRQM3MzMzMHJVAAAAAAADQi0CamZmZmdl9QOxRuB6F/31AAAAAAABgfUCamZmZmdepQGZmZmZmDo1AFK5H4Xp8a0DhehSuR0+ZQJqZmZmZGUJAj8L1KFz/aEA9CtejcN+FQEjhehSuP3BAj8L1KFw7nUCamZmZmZWhQJqZmZmZ34VAcT0K16NGjkCPwvUoXP+IQAAAAAAABqFAcT0K16PfkEAAAAAAAGB9QOF6FK5HR4JAAAAAAADYi0DNzMzMzDR6QI/C9Shcv65AMzMzMzMzY0CamZmZmVChQAAAAAAATKFASOF6FK4/YEAAAAAAADBvQDMzMzOzj6VAMzMzMzNni0AAAAAAAOB5QD0K16Nw/WdAZmZmZma2YkAAAAAAAEB9QM3MzMzMrG5AAAAAAACAi0AzMzMzs4+lQAAAAAAA+H5APQrXo3DflUBmZmZmZg6NQDMzMzMzM1NA7FG4HoXfgECPwvUoXP9YQK5H4XoU/lFAMzMzMzNAokBSuB6F6x+XQFK4HoXrPXBAj8L1KFz/aEAzMzMzMzNzQDMzMzMzi4JAZmZmZmZcmEAAAAAAAECFQAAAAAAAxptAZmZmZmZqiEAzMzMzM0t4QGZmZmZmXJhAAAAAAAAQkUBxPQrXo0aOQDMzMzMzO3FAAAAAAACQskBmZmZmZqZpQDMzMzMzP39AAAAAAAAQekCamZmZmb+SQDMzMzMzO2FAmpmZmZm5eECamZmZmd17QAAAAAAA2JBAzczMzMxKlECamZmZmRlSQM3MzMzMHrlAAAAAAAC4ckDNzMzMzEqUQDMzMzMzXrRA7FG4HoW/gkAAAAAAAEBQQM3MzMzMxotAAAAAAAB+k0BmZmZmZt51QI/C9ShccaxAAAAAAABgqECamZmZmbl4QGZmZmbmWrpAZmZmZmbInkCamZmZmSKjQOF6FK5HT5lAj8L1KFy3ckAAAAAAAOBkQM3MzMzM1IVAMzMzMzNFmUAAAAAAAABcQDMzMzMz801AAAAAAABwd0BmZmZmZrZyQM3MzMxMPLdA7FG4HoX/fUA=",
          "dtype": "f8"
         }
        },
        {
         "marker": {
          "color": "red"
         },
         "mode": "lines",
         "name": "Ideal Prediction",
         "type": "scatter",
         "x": [
          32.5,
          11820.2
         ],
         "y": [
          32.5,
          11820.2
         ]
        }
       ],
       "layout": {
        "template": {
         "data": {
          "bar": [
           {
            "error_x": {
             "color": "#2a3f5f"
            },
            "error_y": {
             "color": "#2a3f5f"
            },
            "marker": {
             "line": {
              "color": "white",
              "width": 0.5
             },
             "pattern": {
              "fillmode": "overlay",
              "size": 10,
              "solidity": 0.2
             }
            },
            "type": "bar"
           }
          ],
          "barpolar": [
           {
            "marker": {
             "line": {
              "color": "white",
              "width": 0.5
             },
             "pattern": {
              "fillmode": "overlay",
              "size": 10,
              "solidity": 0.2
             }
            },
            "type": "barpolar"
           }
          ],
          "carpet": [
           {
            "aaxis": {
             "endlinecolor": "#2a3f5f",
             "gridcolor": "#C8D4E3",
             "linecolor": "#C8D4E3",
             "minorgridcolor": "#C8D4E3",
             "startlinecolor": "#2a3f5f"
            },
            "baxis": {
             "endlinecolor": "#2a3f5f",
             "gridcolor": "#C8D4E3",
             "linecolor": "#C8D4E3",
             "minorgridcolor": "#C8D4E3",
             "startlinecolor": "#2a3f5f"
            },
            "type": "carpet"
           }
          ],
          "choropleth": [
           {
            "colorbar": {
             "outlinewidth": 0,
             "ticks": ""
            },
            "type": "choropleth"
           }
          ],
          "contour": [
           {
            "colorbar": {
             "outlinewidth": 0,
             "ticks": ""
            },
            "colorscale": [
             [
              0,
              "#0d0887"
             ],
             [
              0.1111111111111111,
              "#46039f"
             ],
             [
              0.2222222222222222,
              "#7201a8"
             ],
             [
              0.3333333333333333,
              "#9c179e"
             ],
             [
              0.4444444444444444,
              "#bd3786"
             ],
             [
              0.5555555555555556,
              "#d8576b"
             ],
             [
              0.6666666666666666,
              "#ed7953"
             ],
             [
              0.7777777777777778,
              "#fb9f3a"
             ],
             [
              0.8888888888888888,
              "#fdca26"
             ],
             [
              1,
              "#f0f921"
             ]
            ],
            "type": "contour"
           }
          ],
          "contourcarpet": [
           {
            "colorbar": {
             "outlinewidth": 0,
             "ticks": ""
            },
            "type": "contourcarpet"
           }
          ],
          "heatmap": [
           {
            "colorbar": {
             "outlinewidth": 0,
             "ticks": ""
            },
            "colorscale": [
             [
              0,
              "#0d0887"
             ],
             [
              0.1111111111111111,
              "#46039f"
             ],
             [
              0.2222222222222222,
              "#7201a8"
             ],
             [
              0.3333333333333333,
              "#9c179e"
             ],
             [
              0.4444444444444444,
              "#bd3786"
             ],
             [
              0.5555555555555556,
              "#d8576b"
             ],
             [
              0.6666666666666666,
              "#ed7953"
             ],
             [
              0.7777777777777778,
              "#fb9f3a"
             ],
             [
              0.8888888888888888,
              "#fdca26"
             ],
             [
              1,
              "#f0f921"
             ]
            ],
            "type": "heatmap"
           }
          ],
          "histogram": [
           {
            "marker": {
             "pattern": {
              "fillmode": "overlay",
              "size": 10,
              "solidity": 0.2
             }
            },
            "type": "histogram"
           }
          ],
          "histogram2d": [
           {
            "colorbar": {
             "outlinewidth": 0,
             "ticks": ""
            },
            "colorscale": [
             [
              0,
              "#0d0887"
             ],
             [
              0.1111111111111111,
              "#46039f"
             ],
             [
              0.2222222222222222,
              "#7201a8"
             ],
             [
              0.3333333333333333,
              "#9c179e"
             ],
             [
              0.4444444444444444,
              "#bd3786"
             ],
             [
              0.5555555555555556,
              "#d8576b"
             ],
             [
              0.6666666666666666,
              "#ed7953"
             ],
             [
              0.7777777777777778,
              "#fb9f3a"
             ],
             [
              0.8888888888888888,
              "#fdca26"
             ],
             [
              1,
              "#f0f921"
             ]
            ],
            "type": "histogram2d"
           }
          ],
          "histogram2dcontour": [
           {
            "colorbar": {
             "outlinewidth": 0,
             "ticks": ""
            },
            "colorscale": [
             [
              0,
              "#0d0887"
             ],
             [
              0.1111111111111111,
              "#46039f"
             ],
             [
              0.2222222222222222,
              "#7201a8"
             ],
             [
              0.3333333333333333,
              "#9c179e"
             ],
             [
              0.4444444444444444,
              "#bd3786"
             ],
             [
              0.5555555555555556,
              "#d8576b"
             ],
             [
              0.6666666666666666,
              "#ed7953"
             ],
             [
              0.7777777777777778,
              "#fb9f3a"
             ],
             [
              0.8888888888888888,
              "#fdca26"
             ],
             [
              1,
              "#f0f921"
             ]
            ],
            "type": "histogram2dcontour"
           }
          ],
          "mesh3d": [
           {
            "colorbar": {
             "outlinewidth": 0,
             "ticks": ""
            },
            "type": "mesh3d"
           }
          ],
          "parcoords": [
           {
            "line": {
             "colorbar": {
              "outlinewidth": 0,
              "ticks": ""
             }
            },
            "type": "parcoords"
           }
          ],
          "pie": [
           {
            "automargin": true,
            "type": "pie"
           }
          ],
          "scatter": [
           {
            "fillpattern": {
             "fillmode": "overlay",
             "size": 10,
             "solidity": 0.2
            },
            "type": "scatter"
           }
          ],
          "scatter3d": [
           {
            "line": {
             "colorbar": {
              "outlinewidth": 0,
              "ticks": ""
             }
            },
            "marker": {
             "colorbar": {
              "outlinewidth": 0,
              "ticks": ""
             }
            },
            "type": "scatter3d"
           }
          ],
          "scattercarpet": [
           {
            "marker": {
             "colorbar": {
              "outlinewidth": 0,
              "ticks": ""
             }
            },
            "type": "scattercarpet"
           }
          ],
          "scattergeo": [
           {
            "marker": {
             "colorbar": {
              "outlinewidth": 0,
              "ticks": ""
             }
            },
            "type": "scattergeo"
           }
          ],
          "scattergl": [
           {
            "marker": {
             "colorbar": {
              "outlinewidth": 0,
              "ticks": ""
             }
            },
            "type": "scattergl"
           }
          ],
          "scattermap": [
           {
            "marker": {
             "colorbar": {
              "outlinewidth": 0,
              "ticks": ""
             }
            },
            "type": "scattermap"
           }
          ],
          "scattermapbox": [
           {
            "marker": {
             "colorbar": {
              "outlinewidth": 0,
              "ticks": ""
             }
            },
            "type": "scattermapbox"
           }
          ],
          "scatterpolar": [
           {
            "marker": {
             "colorbar": {
              "outlinewidth": 0,
              "ticks": ""
             }
            },
            "type": "scatterpolar"
           }
          ],
          "scatterpolargl": [
           {
            "marker": {
             "colorbar": {
              "outlinewidth": 0,
              "ticks": ""
             }
            },
            "type": "scatterpolargl"
           }
          ],
          "scatterternary": [
           {
            "marker": {
             "colorbar": {
              "outlinewidth": 0,
              "ticks": ""
             }
            },
            "type": "scatterternary"
           }
          ],
          "surface": [
           {
            "colorbar": {
             "outlinewidth": 0,
             "ticks": ""
            },
            "colorscale": [
             [
              0,
              "#0d0887"
             ],
             [
              0.1111111111111111,
              "#46039f"
             ],
             [
              0.2222222222222222,
              "#7201a8"
             ],
             [
              0.3333333333333333,
              "#9c179e"
             ],
             [
              0.4444444444444444,
              "#bd3786"
             ],
             [
              0.5555555555555556,
              "#d8576b"
             ],
             [
              0.6666666666666666,
              "#ed7953"
             ],
             [
              0.7777777777777778,
              "#fb9f3a"
             ],
             [
              0.8888888888888888,
              "#fdca26"
             ],
             [
              1,
              "#f0f921"
             ]
            ],
            "type": "surface"
           }
          ],
          "table": [
           {
            "cells": {
             "fill": {
              "color": "#EBF0F8"
             },
             "line": {
              "color": "white"
             }
            },
            "header": {
             "fill": {
              "color": "#C8D4E3"
             },
             "line": {
              "color": "white"
             }
            },
            "type": "table"
           }
          ]
         },
         "layout": {
          "annotationdefaults": {
           "arrowcolor": "#2a3f5f",
           "arrowhead": 0,
           "arrowwidth": 1
          },
          "autotypenumbers": "strict",
          "coloraxis": {
           "colorbar": {
            "outlinewidth": 0,
            "ticks": ""
           }
          },
          "colorscale": {
           "diverging": [
            [
             0,
             "#8e0152"
            ],
            [
             0.1,
             "#c51b7d"
            ],
            [
             0.2,
             "#de77ae"
            ],
            [
             0.3,
             "#f1b6da"
            ],
            [
             0.4,
             "#fde0ef"
            ],
            [
             0.5,
             "#f7f7f7"
            ],
            [
             0.6,
             "#e6f5d0"
            ],
            [
             0.7,
             "#b8e186"
            ],
            [
             0.8,
             "#7fbc41"
            ],
            [
             0.9,
             "#4d9221"
            ],
            [
             1,
             "#276419"
            ]
           ],
           "sequential": [
            [
             0,
             "#0d0887"
            ],
            [
             0.1111111111111111,
             "#46039f"
            ],
            [
             0.2222222222222222,
             "#7201a8"
            ],
            [
             0.3333333333333333,
             "#9c179e"
            ],
            [
             0.4444444444444444,
             "#bd3786"
            ],
            [
             0.5555555555555556,
             "#d8576b"
            ],
            [
             0.6666666666666666,
             "#ed7953"
            ],
            [
             0.7777777777777778,
             "#fb9f3a"
            ],
            [
             0.8888888888888888,
             "#fdca26"
            ],
            [
             1,
             "#f0f921"
            ]
           ],
           "sequentialminus": [
            [
             0,
             "#0d0887"
            ],
            [
             0.1111111111111111,
             "#46039f"
            ],
            [
             0.2222222222222222,
             "#7201a8"
            ],
            [
             0.3333333333333333,
             "#9c179e"
            ],
            [
             0.4444444444444444,
             "#bd3786"
            ],
            [
             0.5555555555555556,
             "#d8576b"
            ],
            [
             0.6666666666666666,
             "#ed7953"
            ],
            [
             0.7777777777777778,
             "#fb9f3a"
            ],
            [
             0.8888888888888888,
             "#fdca26"
            ],
            [
             1,
             "#f0f921"
            ]
           ]
          },
          "colorway": [
           "#636efa",
           "#EF553B",
           "#00cc96",
           "#ab63fa",
           "#FFA15A",
           "#19d3f3",
           "#FF6692",
           "#B6E880",
           "#FF97FF",
           "#FECB52"
          ],
          "font": {
           "color": "#2a3f5f"
          },
          "geo": {
           "bgcolor": "white",
           "lakecolor": "white",
           "landcolor": "white",
           "showlakes": true,
           "showland": true,
           "subunitcolor": "#C8D4E3"
          },
          "hoverlabel": {
           "align": "left"
          },
          "hovermode": "closest",
          "mapbox": {
           "style": "light"
          },
          "paper_bgcolor": "white",
          "plot_bgcolor": "white",
          "polar": {
           "angularaxis": {
            "gridcolor": "#EBF0F8",
            "linecolor": "#EBF0F8",
            "ticks": ""
           },
           "bgcolor": "white",
           "radialaxis": {
            "gridcolor": "#EBF0F8",
            "linecolor": "#EBF0F8",
            "ticks": ""
           }
          },
          "scene": {
           "xaxis": {
            "backgroundcolor": "white",
            "gridcolor": "#DFE8F3",
            "gridwidth": 2,
            "linecolor": "#EBF0F8",
            "showbackground": true,
            "ticks": "",
            "zerolinecolor": "#EBF0F8"
           },
           "yaxis": {
            "backgroundcolor": "white",
            "gridcolor": "#DFE8F3",
            "gridwidth": 2,
            "linecolor": "#EBF0F8",
            "showbackground": true,
            "ticks": "",
            "zerolinecolor": "#EBF0F8"
           },
           "zaxis": {
            "backgroundcolor": "white",
            "gridcolor": "#DFE8F3",
            "gridwidth": 2,
            "linecolor": "#EBF0F8",
            "showbackground": true,
            "ticks": "",
            "zerolinecolor": "#EBF0F8"
           }
          },
          "shapedefaults": {
           "line": {
            "color": "#2a3f5f"
           }
          },
          "ternary": {
           "aaxis": {
            "gridcolor": "#DFE8F3",
            "linecolor": "#A2B1C6",
            "ticks": ""
           },
           "baxis": {
            "gridcolor": "#DFE8F3",
            "linecolor": "#A2B1C6",
            "ticks": ""
           },
           "bgcolor": "white",
           "caxis": {
            "gridcolor": "#DFE8F3",
            "linecolor": "#A2B1C6",
            "ticks": ""
           }
          },
          "title": {
           "x": 0.05
          },
          "xaxis": {
           "automargin": true,
           "gridcolor": "#EBF0F8",
           "linecolor": "#EBF0F8",
           "ticks": "",
           "title": {
            "standoff": 15
           },
           "zerolinecolor": "#EBF0F8",
           "zerolinewidth": 2
          },
          "yaxis": {
           "automargin": true,
           "gridcolor": "#EBF0F8",
           "linecolor": "#EBF0F8",
           "ticks": "",
           "title": {
            "standoff": 15
           },
           "zerolinecolor": "#EBF0F8",
           "zerolinewidth": 2
          }
         }
        },
        "title": {
         "text": "Predicted vs. Actual Retail Price"
        },
        "xaxis": {
         "title": {
          "text": "Actual Retail Price"
         }
        },
        "yaxis": {
         "title": {
          "text": "Predicted Retail Price"
         }
        }
       }
      }
     },
     "metadata": {},
     "output_type": "display_data"
    }
   ],
   "source": [
    "y_pred = model.predict(X_test)\n",
    "\n",
    "fig = go.Figure()\n",
    "fig.add_trace(go.Scatter(x=y_test, y=y_pred, mode='markers', \n",
    "                         marker=dict(color='blue'), \n",
    "                         name='Predicted vs. Actual Retail Price'))\n",
    "fig.add_trace(go.Scatter(x=[min(y_test), max(y_test)], y=[min(y_test), max(y_test)], \n",
    "                         mode='lines', \n",
    "                         marker=dict(color='red'), \n",
    "                         name='Ideal Prediction'))\n",
    "fig.update_layout(\n",
    "    title='Predicted vs. Actual Retail Price',\n",
    "    xaxis_title='Actual Retail Price',\n",
    "    yaxis_title='Predicted Retail Price'\n",
    ")\n",
    "fig.show()"
   ]
  },
  {
   "cell_type": "code",
   "execution_count": null,
   "id": "9cd887b4",
   "metadata": {},
   "outputs": [],
   "source": []
  }
 ],
 "metadata": {
  "kernelspec": {
   "display_name": "Python 3",
   "language": "python",
   "name": "python3"
  },
  "language_info": {
   "codemirror_mode": {
    "name": "ipython",
    "version": 3
   },
   "file_extension": ".py",
   "mimetype": "text/x-python",
   "name": "python",
   "nbconvert_exporter": "python",
   "pygments_lexer": "ipython3",
   "version": "3.10.10"
  }
 },
 "nbformat": 4,
 "nbformat_minor": 5
}
